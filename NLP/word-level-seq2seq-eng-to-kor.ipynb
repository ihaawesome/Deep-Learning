{
 "cells": [
  {
   "cell_type": "code",
   "execution_count": 36,
   "metadata": {},
   "outputs": [],
   "source": [
    "import os\n",
    "import pandas as pd\n",
    "import numpy as np\n",
    "import keras\n",
    "\n",
    "os.chdir('C:/Users/HK/Desktop/GitHub/Deep-Learning/NLP')"
   ]
  },
  {
   "cell_type": "code",
   "execution_count": 37,
   "metadata": {},
   "outputs": [],
   "source": [
    "lines = pd.read_table('datasets/kor.txt', names = ['source', 'target'])\n",
    "lines.target = lines.target.apply(lambda x : '<sos> ' + x + ' <eos>')"
   ]
  },
  {
   "cell_type": "code",
   "execution_count": 38,
   "metadata": {},
   "outputs": [
    {
     "data": {
      "text/html": [
       "<div>\n",
       "<style scoped>\n",
       "    .dataframe tbody tr th:only-of-type {\n",
       "        vertical-align: middle;\n",
       "    }\n",
       "\n",
       "    .dataframe tbody tr th {\n",
       "        vertical-align: top;\n",
       "    }\n",
       "\n",
       "    .dataframe thead th {\n",
       "        text-align: right;\n",
       "    }\n",
       "</style>\n",
       "<table border=\"1\" class=\"dataframe\">\n",
       "  <thead>\n",
       "    <tr style=\"text-align: right;\">\n",
       "      <th></th>\n",
       "      <th>source</th>\n",
       "      <th>target</th>\n",
       "    </tr>\n",
       "  </thead>\n",
       "  <tbody>\n",
       "    <tr>\n",
       "      <th>0</th>\n",
       "      <td>Who?</td>\n",
       "      <td>&lt;sos&gt; 누구? &lt;eos&gt;</td>\n",
       "    </tr>\n",
       "    <tr>\n",
       "      <th>1</th>\n",
       "      <td>Hello!</td>\n",
       "      <td>&lt;sos&gt; 안녕! &lt;eos&gt;</td>\n",
       "    </tr>\n",
       "    <tr>\n",
       "      <th>2</th>\n",
       "      <td>No way!</td>\n",
       "      <td>&lt;sos&gt; 절대 아니야. &lt;eos&gt;</td>\n",
       "    </tr>\n",
       "    <tr>\n",
       "      <th>3</th>\n",
       "      <td>No way!</td>\n",
       "      <td>&lt;sos&gt; 그럴리가! &lt;eos&gt;</td>\n",
       "    </tr>\n",
       "    <tr>\n",
       "      <th>4</th>\n",
       "      <td>Goodbye!</td>\n",
       "      <td>&lt;sos&gt; 안녕! &lt;eos&gt;</td>\n",
       "    </tr>\n",
       "  </tbody>\n",
       "</table>\n",
       "</div>"
      ],
      "text/plain": [
       "     source               target\n",
       "0      Who?      <sos> 누구? <eos>\n",
       "1    Hello!      <sos> 안녕! <eos>\n",
       "2   No way!  <sos> 절대 아니야. <eos>\n",
       "3   No way!    <sos> 그럴리가! <eos>\n",
       "4  Goodbye!      <sos> 안녕! <eos>"
      ]
     },
     "execution_count": 38,
     "metadata": {},
     "output_type": "execute_result"
    }
   ],
   "source": [
    "lines.head()"
   ]
  },
  {
   "cell_type": "code",
   "execution_count": 39,
   "metadata": {},
   "outputs": [],
   "source": [
    "from keras.preprocessing.text import Tokenizer"
   ]
  },
  {
   "cell_type": "code",
   "execution_count": 40,
   "metadata": {},
   "outputs": [],
   "source": [
    "source_t = Tokenizer()\n",
    "source_t.fit_on_texts(lines.source)\n",
    "source_vocab_size = len(source_t.word_index) + 1\n",
    "\n",
    "target_t = Tokenizer()\n",
    "target_t.fit_on_texts(lines.target)\n",
    "target_vocab_size = len(target_t.word_index) + 1"
   ]
  },
  {
   "cell_type": "code",
   "execution_count": 41,
   "metadata": {},
   "outputs": [
    {
     "name": "stdout",
     "output_type": "stream",
     "text": [
      "1170\n",
      "2049\n"
     ]
    }
   ],
   "source": [
    "print(source_vocab_size)\n",
    "print(target_vocab_size)"
   ]
  },
  {
   "cell_type": "code",
   "execution_count": 42,
   "metadata": {},
   "outputs": [],
   "source": [
    "encoder_input_data = source_t.texts_to_sequences(lines.source)\n",
    "source_max_length = max(len(l) for l in encoder_input_data)\n",
    "\n",
    "decoder_input_data = target_t.texts_to_sequences(lines.target)\n",
    "decoder_target_data = [l[1:] for l in decoder_input_data]\n",
    "target_max_length = max(len(l) for l in decoder_input_data)"
   ]
  },
  {
   "cell_type": "code",
   "execution_count": 43,
   "metadata": {},
   "outputs": [
    {
     "name": "stdout",
     "output_type": "stream",
     "text": [
      "19\n",
      "17\n"
     ]
    }
   ],
   "source": [
    "print(source_max_length)\n",
    "print(target_max_length)"
   ]
  },
  {
   "cell_type": "code",
   "execution_count": 44,
   "metadata": {},
   "outputs": [],
   "source": [
    "from keras.preprocessing.sequence import pad_sequences"
   ]
  },
  {
   "cell_type": "code",
   "execution_count": 45,
   "metadata": {},
   "outputs": [],
   "source": [
    "encoder_input_data = pad_sequences(\n",
    "    encoder_input_data, maxlen = source_max_length, padding = 'post')\n",
    "decoder_input_data = pad_sequences(\n",
    "    decoder_input_data, maxlen = target_max_length, padding = 'post')\n",
    "decoder_target_data = pad_sequences(\n",
    "    decoder_target_data, maxlen = target_max_length, padding = 'post')"
   ]
  },
  {
   "cell_type": "code",
   "execution_count": 46,
   "metadata": {},
   "outputs": [],
   "source": [
    "from keras.utils import to_categorical"
   ]
  },
  {
   "cell_type": "code",
   "execution_count": 47,
   "metadata": {},
   "outputs": [],
   "source": [
    "decoder_target_data = to_categorical(decoder_target_data)"
   ]
  },
  {
   "cell_type": "code",
   "execution_count": 48,
   "metadata": {},
   "outputs": [
    {
     "name": "stdout",
     "output_type": "stream",
     "text": [
      "(909, 19)\n",
      "(909, 17)\n",
      "(909, 17, 2049)\n"
     ]
    }
   ],
   "source": [
    "print(encoder_input_data.shape)\n",
    "print(decoder_input_data.shape)\n",
    "print(decoder_target_data.shape)"
   ]
  },
  {
   "cell_type": "code",
   "execution_count": null,
   "metadata": {},
   "outputs": [],
   "source": []
  },
  {
   "cell_type": "code",
   "execution_count": null,
   "metadata": {},
   "outputs": [],
   "source": []
  },
  {
   "cell_type": "code",
   "execution_count": 49,
   "metadata": {},
   "outputs": [],
   "source": [
    "from keras.layers import Input, LSTM, Embedding, Dense\n",
    "from keras.models import Model, save_model, load_model\n",
    "from keras import optimizers\n",
    "from keras.callbacks import ModelCheckpoint, EarlyStopping\n",
    "import keras.backend as K"
   ]
  },
  {
   "cell_type": "code",
   "execution_count": 50,
   "metadata": {},
   "outputs": [],
   "source": [
    "rnn_units = 64\n",
    "embedding_size = 200\n",
    "\n",
    "K.clear_session()\n",
    "\n",
    "# 인코더 설계\n",
    "\n",
    "encoder_inputs = Input(shape = (None,))\n",
    "encoder_embedding_layer = Embedding(source_vocab_size, embedding_size)\n",
    "encoder_embedding = encoder_embedding_layer(encoder_inputs)\n",
    "\n",
    "# 인코더 LSTM\n",
    "encoder_lstm = LSTM(units = rnn_units, return_state = True)\n",
    "encoder_outputs, state_h, state_c = encoder_lstm(encoder_embedding)\n",
    "encoder_states = [state_h, state_c]\n",
    "\n",
    "# 디코더 설계\n",
    "\n",
    "decoder_inputs = Input(shape = (None,))\n",
    "decoder_embedding_layer = Embedding(target_vocab_size, embedding_size)\n",
    "decoder_embedding = decoder_embedding_layer(decoder_inputs)\n",
    "\n",
    "# 디코더 LSTM\n",
    "decoder_lstm = LSTM(units = rnn_units, return_sequences = True, return_state = True)\n",
    "decoder_outputs, _, _ = decoder_lstm(decoder_embedding, initial_state = encoder_states)\n",
    "decoder_softmax_layer = Dense(target_vocab_size, activation = 'softmax')\n",
    "decoder_outputs = decoder_softmax_layer(decoder_outputs)"
   ]
  },
  {
   "cell_type": "code",
   "execution_count": 51,
   "metadata": {},
   "outputs": [
    {
     "name": "stdout",
     "output_type": "stream",
     "text": [
      "__________________________________________________________________________________________________\n",
      "Layer (type)                    Output Shape         Param #     Connected to                     \n",
      "==================================================================================================\n",
      "input_1 (InputLayer)            (None, None)         0                                            \n",
      "__________________________________________________________________________________________________\n",
      "input_2 (InputLayer)            (None, None)         0                                            \n",
      "__________________________________________________________________________________________________\n",
      "embedding_1 (Embedding)         (None, None, 200)    234000      input_1[0][0]                    \n",
      "__________________________________________________________________________________________________\n",
      "embedding_2 (Embedding)         (None, None, 200)    409800      input_2[0][0]                    \n",
      "__________________________________________________________________________________________________\n",
      "lstm_1 (LSTM)                   [(None, 64), (None,  67840       embedding_1[0][0]                \n",
      "__________________________________________________________________________________________________\n",
      "lstm_2 (LSTM)                   [(None, None, 64), ( 67840       embedding_2[0][0]                \n",
      "                                                                 lstm_1[0][1]                     \n",
      "                                                                 lstm_1[0][2]                     \n",
      "__________________________________________________________________________________________________\n",
      "dense_1 (Dense)                 (None, None, 2049)   133185      lstm_2[0][0]                     \n",
      "==================================================================================================\n",
      "Total params: 912,665\n",
      "Trainable params: 912,665\n",
      "Non-trainable params: 0\n",
      "__________________________________________________________________________________________________\n"
     ]
    }
   ],
   "source": [
    "model = Model([encoder_inputs, decoder_inputs], decoder_outputs)\n",
    "\n",
    "model.compile(optimizer = optimizers.rmsprop(),\n",
    "              loss = \"categorical_crossentropy\",\n",
    "              metrics = ['acc'])\n",
    "model.summary()"
   ]
  },
  {
   "cell_type": "code",
   "execution_count": 52,
   "metadata": {},
   "outputs": [
    {
     "name": "stdout",
     "output_type": "stream",
     "text": [
      "Train on 727 samples, validate on 182 samples\n",
      "Epoch 1/300\n",
      " - 4s - loss: 7.4620 - acc: 0.6009 - val_loss: 6.7572 - val_acc: 0.5692\n",
      "Epoch 2/300\n",
      " - 2s - loss: 5.7586 - acc: 0.7315 - val_loss: 5.4238 - val_acc: 0.5692\n",
      "Epoch 3/300\n",
      " - 2s - loss: 4.3063 - acc: 0.7315 - val_loss: 4.4634 - val_acc: 0.5692\n",
      "Epoch 4/300\n",
      " - 2s - loss: 3.3088 - acc: 0.7315 - val_loss: 3.9726 - val_acc: 0.5692\n",
      "Epoch 5/300\n",
      " - 2s - loss: 2.7777 - acc: 0.7315 - val_loss: 3.7066 - val_acc: 0.5692\n",
      "Epoch 6/300\n",
      " - 2s - loss: 2.4567 - acc: 0.7315 - val_loss: 3.5370 - val_acc: 0.5692\n",
      "Epoch 7/300\n",
      " - 2s - loss: 2.2397 - acc: 0.7315 - val_loss: 3.4204 - val_acc: 0.5692\n",
      "Epoch 8/300\n",
      " - 2s - loss: 2.0921 - acc: 0.7315 - val_loss: 3.3992 - val_acc: 0.5692\n",
      "Epoch 9/300\n",
      " - 2s - loss: 1.9843 - acc: 0.7315 - val_loss: 3.3928 - val_acc: 0.5692\n",
      "Epoch 10/300\n",
      " - 2s - loss: 1.9053 - acc: 0.7315 - val_loss: 3.2543 - val_acc: 0.5692\n",
      "Epoch 11/300\n",
      " - 2s - loss: 1.8429 - acc: 0.7315 - val_loss: 3.2770 - val_acc: 0.5692\n",
      "Epoch 12/300\n",
      " - 2s - loss: 1.7851 - acc: 0.7315 - val_loss: 3.3713 - val_acc: 0.5692\n",
      "Epoch 13/300\n",
      " - 2s - loss: 1.7504 - acc: 0.7315 - val_loss: 3.2643 - val_acc: 0.5692\n",
      "Epoch 14/300\n",
      " - 2s - loss: 1.7059 - acc: 0.7315 - val_loss: 3.3114 - val_acc: 0.5692\n",
      "Epoch 15/300\n",
      " - 3s - loss: 1.6765 - acc: 0.7318 - val_loss: 3.2857 - val_acc: 0.5692\n",
      "Epoch 16/300\n",
      " - 3s - loss: 1.6448 - acc: 0.7332 - val_loss: 3.2544 - val_acc: 0.5692\n",
      "Epoch 17/300\n",
      " - 3s - loss: 1.6220 - acc: 0.7397 - val_loss: 3.3160 - val_acc: 0.5692\n",
      "Epoch 18/300\n",
      " - 3s - loss: 1.5972 - acc: 0.7390 - val_loss: 3.2778 - val_acc: 0.5718\n",
      "Epoch 19/300\n",
      " - 3s - loss: 1.5758 - acc: 0.7569 - val_loss: 3.2816 - val_acc: 0.5769\n",
      "Epoch 20/300\n",
      " - 3s - loss: 1.5553 - acc: 0.7724 - val_loss: 3.2675 - val_acc: 0.5831\n",
      "Epoch 21/300\n",
      " - 3s - loss: 1.5365 - acc: 0.7826 - val_loss: 3.2744 - val_acc: 0.5895\n",
      "Epoch 22/300\n",
      " - 3s - loss: 1.5170 - acc: 0.7895 - val_loss: 3.2560 - val_acc: 0.5966\n",
      "Epoch 23/300\n",
      " - 3s - loss: 1.5018 - acc: 0.7902 - val_loss: 3.2705 - val_acc: 0.5992\n",
      "Epoch 24/300\n",
      " - 3s - loss: 1.4850 - acc: 0.7904 - val_loss: 3.2705 - val_acc: 0.6025\n",
      "Epoch 25/300\n",
      " - 3s - loss: 1.4696 - acc: 0.7923 - val_loss: 3.3254 - val_acc: 0.6047\n",
      "Epoch 26/300\n",
      " - 3s - loss: 1.4576 - acc: 0.7943 - val_loss: 3.2798 - val_acc: 0.6189\n",
      "Epoch 27/300\n",
      " - 3s - loss: 1.4414 - acc: 0.7959 - val_loss: 3.3134 - val_acc: 0.6225\n",
      "Epoch 28/300\n",
      " - 3s - loss: 1.4303 - acc: 0.7959 - val_loss: 3.3358 - val_acc: 0.6270\n",
      "Epoch 29/300\n",
      " - 3s - loss: 1.4191 - acc: 0.7959 - val_loss: 3.3229 - val_acc: 0.6319\n",
      "Epoch 30/300\n",
      " - 5s - loss: 1.4083 - acc: 0.7959 - val_loss: 3.3378 - val_acc: 0.6322\n",
      "Epoch 31/300\n",
      " - 5s - loss: 1.3969 - acc: 0.7959 - val_loss: 3.3672 - val_acc: 0.6345\n",
      "Epoch 32/300\n",
      " - 6s - loss: 1.3872 - acc: 0.7959 - val_loss: 3.4110 - val_acc: 0.6345\n",
      "Epoch 33/300\n",
      " - 6s - loss: 1.3790 - acc: 0.7959 - val_loss: 3.3931 - val_acc: 0.6354\n",
      "Epoch 34/300\n",
      " - 7s - loss: 1.3675 - acc: 0.7959 - val_loss: 3.4807 - val_acc: 0.6354\n",
      "Epoch 35/300\n",
      " - 6s - loss: 1.3610 - acc: 0.7960 - val_loss: 3.4551 - val_acc: 0.6354\n",
      "Epoch 36/300\n",
      " - 7s - loss: 1.3512 - acc: 0.7960 - val_loss: 3.4174 - val_acc: 0.6354\n",
      "Epoch 37/300\n",
      " - 7s - loss: 1.3441 - acc: 0.7959 - val_loss: 3.5215 - val_acc: 0.6354\n",
      "Epoch 38/300\n",
      " - 6s - loss: 1.3365 - acc: 0.7960 - val_loss: 3.5438 - val_acc: 0.6354\n",
      "Epoch 39/300\n",
      " - 5s - loss: 1.3268 - acc: 0.7960 - val_loss: 3.5119 - val_acc: 0.6357\n",
      "Epoch 40/300\n",
      " - 5s - loss: 1.3190 - acc: 0.7960 - val_loss: 3.5402 - val_acc: 0.6367\n",
      "Epoch 41/300\n",
      " - 5s - loss: 1.3092 - acc: 0.7961 - val_loss: 3.5548 - val_acc: 0.6364\n",
      "Epoch 42/300\n",
      " - 5s - loss: 1.3060 - acc: 0.7960 - val_loss: 3.6399 - val_acc: 0.6367\n",
      "Epoch 43/300\n",
      " - 4s - loss: 1.2945 - acc: 0.7962 - val_loss: 3.6125 - val_acc: 0.6383\n",
      "Epoch 44/300\n",
      " - 5s - loss: 1.2875 - acc: 0.7965 - val_loss: 3.6450 - val_acc: 0.6380\n",
      "Epoch 45/300\n",
      " - 5s - loss: 1.2805 - acc: 0.7962 - val_loss: 3.6828 - val_acc: 0.6377\n",
      "Epoch 46/300\n",
      " - 4s - loss: 1.2717 - acc: 0.7961 - val_loss: 3.6846 - val_acc: 0.6387\n",
      "Epoch 47/300\n",
      " - 5s - loss: 1.2672 - acc: 0.7966 - val_loss: 3.7183 - val_acc: 0.6380\n",
      "Epoch 48/300\n",
      " - 5s - loss: 1.2557 - acc: 0.7964 - val_loss: 3.7436 - val_acc: 0.6387\n",
      "Epoch 49/300\n",
      " - 5s - loss: 1.2534 - acc: 0.7971 - val_loss: 3.7695 - val_acc: 0.6387\n",
      "Epoch 50/300\n",
      " - 5s - loss: 1.2424 - acc: 0.7966 - val_loss: 3.7818 - val_acc: 0.6387\n",
      "Epoch 51/300\n",
      " - 5s - loss: 1.2378 - acc: 0.7970 - val_loss: 3.7747 - val_acc: 0.6383\n",
      "Epoch 52/300\n",
      " - 5s - loss: 1.2294 - acc: 0.7972 - val_loss: 3.8133 - val_acc: 0.6383\n",
      "Epoch 53/300\n",
      " - 5s - loss: 1.2205 - acc: 0.7972 - val_loss: 3.8475 - val_acc: 0.6383\n",
      "Epoch 54/300\n",
      " - 5s - loss: 1.2199 - acc: 0.7978 - val_loss: 3.8438 - val_acc: 0.6383\n",
      "Epoch 55/300\n",
      " - 6s - loss: 1.2078 - acc: 0.7984 - val_loss: 3.9074 - val_acc: 0.6380\n",
      "Epoch 56/300\n",
      " - 6s - loss: 1.1998 - acc: 0.7980 - val_loss: 3.8576 - val_acc: 0.6383\n",
      "Epoch 57/300\n",
      " - 6s - loss: 1.2008 - acc: 0.7986 - val_loss: 3.9137 - val_acc: 0.6383\n",
      "Epoch 58/300\n",
      " - 7s - loss: 1.1887 - acc: 0.7987 - val_loss: 3.9352 - val_acc: 0.6387\n",
      "Epoch 59/300\n",
      " - 7s - loss: 1.1799 - acc: 0.7989 - val_loss: 3.9271 - val_acc: 0.6383\n",
      "Epoch 60/300\n",
      " - 6s - loss: 1.1808 - acc: 0.7989 - val_loss: 3.9590 - val_acc: 0.6383\n",
      "Epoch 61/300\n",
      " - 6s - loss: 1.1678 - acc: 0.7989 - val_loss: 3.9731 - val_acc: 0.6387\n",
      "Epoch 62/300\n",
      " - 6s - loss: 1.1640 - acc: 0.7995 - val_loss: 3.9647 - val_acc: 0.6387\n",
      "Epoch 63/300\n",
      " - 5s - loss: 1.1581 - acc: 0.7997 - val_loss: 3.9850 - val_acc: 0.6387\n",
      "Epoch 64/300\n",
      " - 5s - loss: 1.1496 - acc: 0.8004 - val_loss: 3.9979 - val_acc: 0.6383\n",
      "Epoch 65/300\n",
      " - 5s - loss: 1.1456 - acc: 0.8003 - val_loss: 4.0073 - val_acc: 0.6390\n",
      "Epoch 66/300\n",
      " - 5s - loss: 1.1369 - acc: 0.8009 - val_loss: 4.0455 - val_acc: 0.6387\n",
      "Epoch 67/300\n",
      " - 4s - loss: 1.1311 - acc: 0.8009 - val_loss: 4.0238 - val_acc: 0.6390\n",
      "Epoch 68/300\n",
      " - 5s - loss: 1.1272 - acc: 0.8018 - val_loss: 4.0560 - val_acc: 0.6387\n",
      "Epoch 69/300\n",
      " - 5s - loss: 1.1194 - acc: 0.8011 - val_loss: 4.0595 - val_acc: 0.6390\n",
      "Epoch 70/300\n",
      " - 5s - loss: 1.1141 - acc: 0.8010 - val_loss: 4.0939 - val_acc: 0.6390\n",
      "Epoch 71/300\n",
      " - 5s - loss: 1.1078 - acc: 0.8020 - val_loss: 4.0934 - val_acc: 0.6383\n",
      "Epoch 72/300\n",
      " - 5s - loss: 1.1022 - acc: 0.8025 - val_loss: 4.0956 - val_acc: 0.6393\n",
      "Epoch 73/300\n",
      " - 5s - loss: 1.0990 - acc: 0.8028 - val_loss: 4.1179 - val_acc: 0.6387\n",
      "Epoch 74/300\n",
      " - 5s - loss: 1.0883 - acc: 0.8027 - val_loss: 4.1256 - val_acc: 0.6390\n",
      "Epoch 75/300\n",
      " - 5s - loss: 1.0857 - acc: 0.8028 - val_loss: 4.1202 - val_acc: 0.6390\n",
      "Epoch 76/300\n",
      " - 5s - loss: 1.0818 - acc: 0.8039 - val_loss: 4.1474 - val_acc: 0.6387\n",
      "Epoch 77/300\n",
      " - 6s - loss: 1.0720 - acc: 0.8036 - val_loss: 4.1524 - val_acc: 0.6387\n",
      "Epoch 78/300\n",
      " - 6s - loss: 1.0666 - acc: 0.8040 - val_loss: 4.1617 - val_acc: 0.6387\n",
      "Epoch 79/300\n",
      " - 6s - loss: 1.0658 - acc: 0.8043 - val_loss: 4.1696 - val_acc: 0.6390\n",
      "Epoch 80/300\n",
      " - 7s - loss: 1.0551 - acc: 0.8047 - val_loss: 4.1848 - val_acc: 0.6380\n",
      "Epoch 81/300\n",
      " - 7s - loss: 1.0507 - acc: 0.8052 - val_loss: 4.1908 - val_acc: 0.6383\n",
      "Epoch 82/300\n",
      " - 7s - loss: 1.0447 - acc: 0.8055 - val_loss: 4.2001 - val_acc: 0.6374\n",
      "Epoch 83/300\n",
      " - 8s - loss: 1.0406 - acc: 0.8067 - val_loss: 4.2146 - val_acc: 0.6374\n",
      "Epoch 84/300\n",
      " - 7s - loss: 1.0368 - acc: 0.8061 - val_loss: 4.2173 - val_acc: 0.6374\n",
      "Epoch 85/300\n",
      " - 6s - loss: 1.0276 - acc: 0.8079 - val_loss: 4.2158 - val_acc: 0.6380\n",
      "Epoch 86/300\n",
      " - 5s - loss: 1.0216 - acc: 0.8070 - val_loss: 4.2178 - val_acc: 0.6393\n",
      "Epoch 87/300\n",
      " - 5s - loss: 1.0220 - acc: 0.8082 - val_loss: 4.2341 - val_acc: 0.6383\n",
      "Epoch 88/300\n",
      " - 5s - loss: 1.0108 - acc: 0.8093 - val_loss: 4.2377 - val_acc: 0.6370\n",
      "Epoch 89/300\n",
      " - 5s - loss: 1.0066 - acc: 0.8097 - val_loss: 4.2369 - val_acc: 0.6383\n",
      "Epoch 90/300\n",
      " - 5s - loss: 1.0013 - acc: 0.8099 - val_loss: 4.2595 - val_acc: 0.6361\n",
      "Epoch 91/300\n",
      " - 5s - loss: 0.9970 - acc: 0.8098 - val_loss: 4.2594 - val_acc: 0.6364\n",
      "Epoch 92/300\n",
      " - 5s - loss: 0.9895 - acc: 0.8107 - val_loss: 4.2698 - val_acc: 0.6370\n",
      "Epoch 93/300\n",
      " - 5s - loss: 0.9860 - acc: 0.8116 - val_loss: 4.2762 - val_acc: 0.6374\n",
      "Epoch 94/300\n",
      " - 5s - loss: 0.9781 - acc: 0.8120 - val_loss: 4.2874 - val_acc: 0.6367\n",
      "Epoch 95/300\n",
      " - 5s - loss: 0.9743 - acc: 0.8130 - val_loss: 4.2812 - val_acc: 0.6374\n",
      "Epoch 96/300\n",
      " - 5s - loss: 0.9680 - acc: 0.8143 - val_loss: 4.2917 - val_acc: 0.6370\n"
     ]
    },
    {
     "name": "stdout",
     "output_type": "stream",
     "text": [
      "Epoch 97/300\n",
      " - 5s - loss: 0.9682 - acc: 0.8130 - val_loss: 4.2933 - val_acc: 0.6364\n",
      "Epoch 98/300\n",
      " - 5s - loss: 0.9554 - acc: 0.8151 - val_loss: 4.2960 - val_acc: 0.6364\n",
      "Epoch 99/300\n",
      " - 6s - loss: 0.9492 - acc: 0.8158 - val_loss: 4.2994 - val_acc: 0.6364\n",
      "Epoch 100/300\n",
      " - 6s - loss: 0.9490 - acc: 0.8150 - val_loss: 4.3070 - val_acc: 0.6357\n",
      "Epoch 101/300\n",
      " - 7s - loss: 0.9422 - acc: 0.8178 - val_loss: 4.3084 - val_acc: 0.6351\n",
      "Epoch 102/300\n",
      " - 7s - loss: 0.9348 - acc: 0.8174 - val_loss: 4.3139 - val_acc: 0.6354\n",
      "Epoch 103/300\n",
      " - 7s - loss: 0.9338 - acc: 0.8178 - val_loss: 4.3219 - val_acc: 0.6357\n",
      "Epoch 104/300\n",
      " - 8s - loss: 0.9256 - acc: 0.8192 - val_loss: 4.3234 - val_acc: 0.6351\n",
      "Epoch 105/300\n",
      " - 9s - loss: 0.9179 - acc: 0.8190 - val_loss: 4.3361 - val_acc: 0.6345\n",
      "Epoch 106/300\n",
      " - 8s - loss: 0.9180 - acc: 0.8200 - val_loss: 4.3417 - val_acc: 0.6348\n",
      "Epoch 107/300\n",
      " - 6s - loss: 0.9087 - acc: 0.8211 - val_loss: 4.3456 - val_acc: 0.6354\n",
      "Epoch 108/300\n",
      " - 5s - loss: 0.9032 - acc: 0.8217 - val_loss: 4.3460 - val_acc: 0.6348\n",
      "Epoch 109/300\n",
      " - 5s - loss: 0.9040 - acc: 0.8222 - val_loss: 4.3515 - val_acc: 0.6341\n",
      "Epoch 110/300\n",
      " - 5s - loss: 0.8919 - acc: 0.8234 - val_loss: 4.3570 - val_acc: 0.6348\n",
      "Epoch 111/300\n",
      " - 4s - loss: 0.8864 - acc: 0.8254 - val_loss: 4.3530 - val_acc: 0.6348\n",
      "Epoch 112/300\n",
      " - 4s - loss: 0.8893 - acc: 0.8242 - val_loss: 4.3646 - val_acc: 0.6325\n",
      "Epoch 113/300\n",
      " - 4s - loss: 0.8784 - acc: 0.8267 - val_loss: 4.3655 - val_acc: 0.6335\n",
      "Epoch 114/300\n",
      " - 4s - loss: 0.8725 - acc: 0.8282 - val_loss: 4.3773 - val_acc: 0.6332\n",
      "Epoch 115/300\n",
      " - 5s - loss: 0.8698 - acc: 0.8291 - val_loss: 4.3744 - val_acc: 0.6332\n",
      "Epoch 116/300\n",
      " - 4s - loss: 0.8639 - acc: 0.8315 - val_loss: 4.3738 - val_acc: 0.6319\n",
      "Epoch 117/300\n",
      " - 5s - loss: 0.8581 - acc: 0.8329 - val_loss: 4.3869 - val_acc: 0.6325\n",
      "Epoch 118/300\n",
      " - 5s - loss: 0.8517 - acc: 0.8345 - val_loss: 4.3902 - val_acc: 0.6296\n",
      "Epoch 119/300\n",
      " - 5s - loss: 0.8513 - acc: 0.8333 - val_loss: 4.3923 - val_acc: 0.6319\n",
      "Epoch 120/300\n",
      " - 5s - loss: 0.8438 - acc: 0.8354 - val_loss: 4.3955 - val_acc: 0.6315\n",
      "Epoch 121/300\n",
      " - 6s - loss: 0.8381 - acc: 0.8386 - val_loss: 4.3935 - val_acc: 0.6309\n",
      "Epoch 122/300\n",
      " - 6s - loss: 0.8370 - acc: 0.8393 - val_loss: 4.4039 - val_acc: 0.6312\n"
     ]
    }
   ],
   "source": [
    "epochs = 300\n",
    "batch_size = 128\n",
    "\n",
    "modelpath = 'models/word-level-seq2seq-eng-to-kor.hdf5'\n",
    "check = ModelCheckpoint(modelpath, monitor = 'val_acc', save_best_only = True, save_weights_only = True)\n",
    "early = EarlyStopping(monitor = 'val_acc', patience = 50)\n",
    "\n",
    "history = model.fit([encoder_input_data, decoder_input_data], decoder_target_data, \n",
    "                    validation_split = 0.2,\n",
    "                    callbacks = [check, early],\n",
    "                    epochs = epochs, batch_size = batch_size, verbose = 2)"
   ]
  },
  {
   "cell_type": "code",
   "execution_count": 53,
   "metadata": {},
   "outputs": [],
   "source": [
    "# history = pd.read_csv('word-level-eng-kor-history.csv')"
   ]
  },
  {
   "cell_type": "code",
   "execution_count": 54,
   "metadata": {},
   "outputs": [
    {
     "data": {
      "image/png": "[encoded data removed]",
      "text/plain": [
       "<Figure size 432x288 with 1 Axes>"
      ]
     },
     "metadata": {
      "needs_background": "light"
     },
     "output_type": "display_data"
    },
    {
     "data": {
      "image/png": "[encoded data removed]",
      "text/plain": [
       "<Figure size 432x288 with 1 Axes>"
      ]
     },
     "metadata": {
      "needs_background": "light"
     },
     "output_type": "display_data"
    },
    {
     "name": "stdout",
     "output_type": "stream",
     "text": [
      "epoch 71: Training Acc = 80.25%, Validation Acc = 63.93%\n"
     ]
    }
   ],
   "source": [
    "import matplotlib.pyplot as plt\n",
    "\n",
    "def history_plot(history):\n",
    "    epoch = range(1, len(history.history['loss']) + 1)\n",
    "    m = np.argmax(history.history['val_acc'])\n",
    "    plt.plot(epoch, history.history['loss'], '-k', label = 'Training Loss')\n",
    "    plt.plot(epoch, history.history['val_loss'], ':r', label = 'Validation Loss')\n",
    "    plt.legend()\n",
    "    plt.show()\n",
    "\n",
    "    plt.plot(epoch, history.history['acc'], '-k', label = 'Training Acc')\n",
    "    plt.plot(epoch, history.history['val_acc'], ':r', label = 'Validation Acc')\n",
    "    plt.axvline(m, linestyle = ':', color = 'gray')\n",
    "    plt.legend()\n",
    "    plt.show()\n",
    "    \n",
    "    print('epoch {}: Training Acc = {}%, Validation Acc = {}%'.\n",
    "          format(m, np.round(history.history['acc'][m], 4)*100, np.round(history.history['val_acc'][m], 4)*100))\n",
    "    \n",
    "history_plot(history)"
   ]
  },
  {
   "cell_type": "code",
   "execution_count": 55,
   "metadata": {},
   "outputs": [],
   "source": [
    "encoder_model = Model(encoder_inputs, encoder_states)\n",
    "\n",
    "decoder_state_input_h = Input(shape = (rnn_units,))\n",
    "decoder_state_input_c = Input(shape = (rnn_units,))\n",
    "decoder_states_inputs = [decoder_state_input_h, decoder_state_input_c]\n",
    "\n",
    "decoder_embedding_p = decoder_embedding_layer(decoder_inputs)\n",
    "decoder_outputs_p, state_h_p, state_c_p = decoder_lstm(\n",
    "    decoder_embedding_p, initial_state = decoder_states_inputs)\n",
    "\n",
    "decoder_states_p = [state_h_p, state_c_p]\n",
    "decoder_outputs_p = decoder_softmax_layer(decoder_outputs_p)\n",
    "\n",
    "decoder_model = Model([decoder_inputs] + decoder_states_inputs, \n",
    "                      [decoder_outputs_p] + decoder_states_p)"
   ]
  },
  {
   "cell_type": "code",
   "execution_count": 56,
   "metadata": {},
   "outputs": [],
   "source": [
    "index_to_source = dict((i, char) for char, i in source_t.word_index.items())\n",
    "index_to_target = dict((i, char) for char, i in target_t.word_index.items())"
   ]
  },
  {
   "cell_type": "code",
   "execution_count": 57,
   "metadata": {},
   "outputs": [],
   "source": [
    "def decode_sentence(input_seq):\n",
    "    # 입력으로부터 인코더의 상태를 얻음\n",
    "    states_value = encoder_model.predict(input_seq)\n",
    "    # 문장 시작에 해당하는 원-핫 벡터 생성\n",
    "    target_seq = np.zeros((1, 1))\n",
    "    target_seq[0, 0] = target_t.word_index['sos']\n",
    "    \n",
    "    stop_condition = False\n",
    "    decoded_sentence = ''\n",
    "    \n",
    "    # stop_condition이 True가 될 때까지 루프 반복\n",
    "    while not stop_condition: \n",
    "        output_tokens, h, c = decoder_model.predict([target_seq] + states_value)\n",
    "        sampled_token_index = np.argmax(output_tokens[0, -1, :])\n",
    "        sampled_char = index_to_target[sampled_token_index]\n",
    "        decoded_sentence += ' ' + sampled_char\n",
    "        \n",
    "        # 문장 끝에 도달하거나 최대 길이를 넘으면 중단\n",
    "        if (sampled_char == 'eos' or\n",
    "           len(decoded_sentence) > target_max_length):\n",
    "            stop_condition = True\n",
    "        \n",
    "        # 길이가 1인 타겟 시퀀스를 업데이트\n",
    "        target_seq = np.zeros((1, 1))\n",
    "        target_seq[0, 0] = sampled_token_index\n",
    "        \n",
    "        # 상태를 업데이트\n",
    "        states_value = [h, c]\n",
    "        \n",
    "    return decoded_sentence"
   ]
  },
  {
   "cell_type": "code",
   "execution_count": 33,
   "metadata": {},
   "outputs": [
    {
     "name": "stdout",
     "output_type": "stream",
     "text": [
      "영어 문장: This bike isn't safe to ride; the wheel wobbles too much.\n",
      "한국어 문장:  이 바이크는 별로 안전하지 않아. 바퀴가 너무 흔들려. <eos>\n",
      "번역기:  나는 그것을 날씨를 싫어한다 eos\n",
      "--------------------------------------------------\n",
      "영어 문장: Everybody loves her.\n",
      "한국어 문장:  모두 그녀를 사랑한다. <eos>\n",
      "번역기:  그녀의 신앙심은 사랑한다 eos\n",
      "--------------------------------------------------\n",
      "영어 문장: I made reservations.\n",
      "한국어 문장:  예약해 뒀어요. <eos>\n",
      "번역기:  빨리 좋아해 eos\n",
      "--------------------------------------------------\n"
     ]
    }
   ],
   "source": [
    "for i in np.random.randint(0, len(lines) - 1, size = 3):\n",
    "    input_seq = encoder_input_data[i: i + 1]\n",
    "    decoded_sentence = decode_sentence(input_seq)\n",
    "    \n",
    "    print('영어 문장:', lines.source[i])\n",
    "    print('한국어 문장:', lines.target[i][5:])\n",
    "    print('번역기:', decoded_sentence)\n",
    "    print('-' * 50)"
   ]
  },
  {
   "cell_type": "code",
   "execution_count": null,
   "metadata": {},
   "outputs": [],
   "source": []
  }
 ],
 "metadata": {
  "kernelspec": {
   "display_name": "Python 3",
   "language": "python",
   "name": "python3"
  },
  "language_info": {
   "codemirror_mode": {
    "name": "ipython",
    "version": 3
   },
   "file_extension": ".py",
   "mimetype": "text/x-python",
   "name": "python",
   "nbconvert_exporter": "python",
   "pygments_lexer": "ipython3",
   "version": "3.6.7"
  }
 },
 "nbformat": 4,
 "nbformat_minor": 2
}
