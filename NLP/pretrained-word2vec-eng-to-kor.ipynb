{
 "cells": [
  {
   "cell_type": "markdown",
   "metadata": {
    "colab_type": "text",
    "id": "NJ3kR_9AeUj9"
   },
   "source": [
    "## 사전 훈련된 Word2Vec을 이용한 영어-한국어 번역 모형"
   ]
  },
  {
   "cell_type": "code",
   "execution_count": 1,
   "metadata": {
    "colab": {
     "base_uri": "https://localhost:8080/",
     "height": 35
    },
    "colab_type": "code",
    "id": "yI47CHoS7k9Z",
    "outputId": "6e156e48-55e7-44a5-af7d-a622c07aecdc"
   },
   "outputs": [
    {
     "name": "stderr",
     "output_type": "stream",
     "text": [
      "Using TensorFlow backend.\n"
     ]
    }
   ],
   "source": [
    "import os\n",
    "os.chdir('C:/Users/HK/Desktop/GitHub/Deep-Learning/NLP')\n",
    "\n",
    "import gensim\n",
    "import nltk\n",
    "import konlpy\n",
    "import keras\n",
    "import numpy as np\n",
    "import pandas as pd"
   ]
  },
  {
   "cell_type": "code",
   "execution_count": null,
   "metadata": {
    "colab": {},
    "colab_type": "code",
    "id": "Z-8EDzFJeTdD"
   },
   "outputs": [],
   "source": []
  },
  {
   "cell_type": "markdown",
   "metadata": {
    "colab_type": "text",
    "id": "F1e0NtzvVS4P"
   },
   "source": [
    "> ### 사전 훈련된 워드벡터 준비\n",
    "\n",
    "- 언어별 Word2Vec 불러오기"
   ]
  },
  {
   "cell_type": "code",
   "execution_count": 2,
   "metadata": {
    "colab": {
     "base_uri": "https://localhost:8080/",
     "height": 72
    },
    "colab_type": "code",
    "id": "pbKm6wPbAAf2",
    "outputId": "1e1a5fcd-b780-404c-f962-4bf747ce2859"
   },
   "outputs": [
    {
     "name": "stderr",
     "output_type": "stream",
     "text": [
      "C:\\Anaconda3\\lib\\site-packages\\gensim\\models\\base_any2vec.py:743: UserWarning: C extension not loaded, training will be slow. Install a C compiler and reinstall gensim for fast training.\n",
      "  \"C extension not loaded, training will be slow. \"\n"
     ]
    }
   ],
   "source": [
    "from gensim.models import Word2Vec\n",
    "korvec = Word2Vec.load('datasets/ko.bin')"
   ]
  },
  {
   "cell_type": "code",
   "execution_count": 3,
   "metadata": {
    "colab": {
     "base_uri": "https://localhost:8080/",
     "height": 72
    },
    "colab_type": "code",
    "id": "rgO7LgYWDCqL",
    "outputId": "600c8a97-289d-4ec8-af85-b82eecca3dbb"
   },
   "outputs": [],
   "source": [
    "from gensim.models import KeyedVectors\n",
    "engvec = KeyedVectors.load_word2vec_format('datasets/GoogleNews-vectors-negative300.bin', binary = True)"
   ]
  },
  {
   "cell_type": "code",
   "execution_count": null,
   "metadata": {},
   "outputs": [],
   "source": []
  },
  {
   "cell_type": "markdown",
   "metadata": {
    "colab_type": "text",
    "id": "QR5wiAxScvxG"
   },
   "source": [
    "> ### 데이터 준비\n",
    "\n",
    "- 출처: Manythings.org http://www.manythings.org/anki/kor-eng.zip"
   ]
  },
  {
   "cell_type": "code",
   "execution_count": 4,
   "metadata": {
    "colab": {
     "base_uri": "https://localhost:8080/",
     "height": 394
    },
    "colab_type": "code",
    "id": "NiFf9dXIdunu",
    "outputId": "c0c6c068-592b-45ca-86db-640085840367"
   },
   "outputs": [
    {
     "name": "stdout",
     "output_type": "stream",
     "text": [
      "909 observations\n"
     ]
    },
    {
     "data": {
      "text/html": [
       "<div>\n",
       "<style scoped>\n",
       "    .dataframe tbody tr th:only-of-type {\n",
       "        vertical-align: middle;\n",
       "    }\n",
       "\n",
       "    .dataframe tbody tr th {\n",
       "        vertical-align: top;\n",
       "    }\n",
       "\n",
       "    .dataframe thead th {\n",
       "        text-align: right;\n",
       "    }\n",
       "</style>\n",
       "<table border=\"1\" class=\"dataframe\">\n",
       "  <thead>\n",
       "    <tr style=\"text-align: right;\">\n",
       "      <th></th>\n",
       "      <th>source</th>\n",
       "      <th>target</th>\n",
       "    </tr>\n",
       "  </thead>\n",
       "  <tbody>\n",
       "    <tr>\n",
       "      <th>591</th>\n",
       "      <td>I can not answer your question.</td>\n",
       "      <td>나는 네 질문에 답할 수 없어.</td>\n",
       "    </tr>\n",
       "    <tr>\n",
       "      <th>734</th>\n",
       "      <td>When does your winter vacation begin?</td>\n",
       "      <td>겨울 방학은 언제 시작하나요?</td>\n",
       "    </tr>\n",
       "    <tr>\n",
       "      <th>256</th>\n",
       "      <td>Are these yours, Tom?</td>\n",
       "      <td>탐, 이것들이 너의 것이야?</td>\n",
       "    </tr>\n",
       "    <tr>\n",
       "      <th>63</th>\n",
       "      <td>Grab the rope.</td>\n",
       "      <td>로프를 잡으세요.</td>\n",
       "    </tr>\n",
       "    <tr>\n",
       "      <th>492</th>\n",
       "      <td>Would you mind if I helped?</td>\n",
       "      <td>내가 도와도 괜찮겠니?</td>\n",
       "    </tr>\n",
       "    <tr>\n",
       "      <th>176</th>\n",
       "      <td>Take the medicine.</td>\n",
       "      <td>그 약을 먹으세요.</td>\n",
       "    </tr>\n",
       "    <tr>\n",
       "      <th>381</th>\n",
       "      <td>Tom certainly thinks so.</td>\n",
       "      <td>톰은 틀림없이 그렇게 생각해.</td>\n",
       "    </tr>\n",
       "    <tr>\n",
       "      <th>337</th>\n",
       "      <td>I'm just doing my best.</td>\n",
       "      <td>난 그저 최선을 다하고 있을 뿐이다.</td>\n",
       "    </tr>\n",
       "    <tr>\n",
       "      <th>898</th>\n",
       "      <td>How can anyone trust anything Tom says? He's a...</td>\n",
       "      <td>어떻게 누군가가 톰이 말하는 것을 믿을 수 있지? 그는 병적인 거짓말쟁이야.</td>\n",
       "    </tr>\n",
       "    <tr>\n",
       "      <th>501</th>\n",
       "      <td>I know what Tom needs to do.</td>\n",
       "      <td>나는 톰이 무엇을 할 필요가 있는지 알고 있다.</td>\n",
       "    </tr>\n",
       "  </tbody>\n",
       "</table>\n",
       "</div>"
      ],
      "text/plain": [
       "                                                source  \\\n",
       "591                    I can not answer your question.   \n",
       "734              When does your winter vacation begin?   \n",
       "256                              Are these yours, Tom?   \n",
       "63                                      Grab the rope.   \n",
       "492                        Would you mind if I helped?   \n",
       "176                                 Take the medicine.   \n",
       "381                           Tom certainly thinks so.   \n",
       "337                            I'm just doing my best.   \n",
       "898  How can anyone trust anything Tom says? He's a...   \n",
       "501                       I know what Tom needs to do.   \n",
       "\n",
       "                                         target  \n",
       "591                           나는 네 질문에 답할 수 없어.  \n",
       "734                            겨울 방학은 언제 시작하나요?  \n",
       "256                             탐, 이것들이 너의 것이야?  \n",
       "63                                    로프를 잡으세요.  \n",
       "492                                내가 도와도 괜찮겠니?  \n",
       "176                                  그 약을 먹으세요.  \n",
       "381                            톰은 틀림없이 그렇게 생각해.  \n",
       "337                        난 그저 최선을 다하고 있을 뿐이다.  \n",
       "898  어떻게 누군가가 톰이 말하는 것을 믿을 수 있지? 그는 병적인 거짓말쟁이야.  \n",
       "501                  나는 톰이 무엇을 할 필요가 있는지 알고 있다.  "
      ]
     },
     "execution_count": 4,
     "metadata": {},
     "output_type": "execute_result"
    }
   ],
   "source": [
    "lines = pd.read_table('datasets/kor.txt', names = ['source', 'target'])\n",
    "print(len(lines), 'observations')\n",
    "lines.sample(10)"
   ]
  },
  {
   "cell_type": "code",
   "execution_count": 5,
   "metadata": {
    "colab": {
     "base_uri": "https://localhost:8080/",
     "height": 340
    },
    "colab_type": "code",
    "id": "ODCr0fTDjKMp",
    "outputId": "6deb8b9e-52e7-4fad-b269-d8ed3cf94947"
   },
   "outputs": [
    {
     "data": {
      "text/html": [
       "<div>\n",
       "<style scoped>\n",
       "    .dataframe tbody tr th:only-of-type {\n",
       "        vertical-align: middle;\n",
       "    }\n",
       "\n",
       "    .dataframe tbody tr th {\n",
       "        vertical-align: top;\n",
       "    }\n",
       "\n",
       "    .dataframe thead th {\n",
       "        text-align: right;\n",
       "    }\n",
       "</style>\n",
       "<table border=\"1\" class=\"dataframe\">\n",
       "  <thead>\n",
       "    <tr style=\"text-align: right;\">\n",
       "      <th></th>\n",
       "      <th>source</th>\n",
       "      <th>target</th>\n",
       "    </tr>\n",
       "  </thead>\n",
       "  <tbody>\n",
       "    <tr>\n",
       "      <th>625</th>\n",
       "      <td>She committed suicide yesterday.</td>\n",
       "      <td>&lt;sos&gt; 어제 그녀는 자살했다. &lt;eos&gt;</td>\n",
       "    </tr>\n",
       "    <tr>\n",
       "      <th>91</th>\n",
       "      <td>Only God knows.</td>\n",
       "      <td>&lt;sos&gt; 신만이 아실 것입니다. &lt;eos&gt;</td>\n",
       "    </tr>\n",
       "    <tr>\n",
       "      <th>891</th>\n",
       "      <td>I can smell Mary's perfume. She must have been...</td>\n",
       "      <td>&lt;sos&gt; 나는 메리의 향수 냄새를 맡을 수 있다. 그녀는 좀 전에 여기에 있었음에...</td>\n",
       "    </tr>\n",
       "    <tr>\n",
       "      <th>380</th>\n",
       "      <td>This dictionary is mine.</td>\n",
       "      <td>&lt;sos&gt; 이 사전은 내 것이다. &lt;eos&gt;</td>\n",
       "    </tr>\n",
       "    <tr>\n",
       "      <th>440</th>\n",
       "      <td>Let me help you with that.</td>\n",
       "      <td>&lt;sos&gt; 내가 도와줄게. &lt;eos&gt;</td>\n",
       "    </tr>\n",
       "    <tr>\n",
       "      <th>108</th>\n",
       "      <td>He came at dawn.</td>\n",
       "      <td>&lt;sos&gt; 그는 새벽에 왔다. &lt;eos&gt;</td>\n",
       "    </tr>\n",
       "    <tr>\n",
       "      <th>471</th>\n",
       "      <td>Leave the book where it is.</td>\n",
       "      <td>&lt;sos&gt; 책을 제자리에 놔 두세요. &lt;eos&gt;</td>\n",
       "    </tr>\n",
       "    <tr>\n",
       "      <th>778</th>\n",
       "      <td>You can't expect much sympathy from Tom.</td>\n",
       "      <td>&lt;sos&gt; 너는 톰에게서 많은 동정심을 바랄 수는 없다. &lt;eos&gt;</td>\n",
       "    </tr>\n",
       "    <tr>\n",
       "      <th>285</th>\n",
       "      <td>What are you washing?</td>\n",
       "      <td>&lt;sos&gt; 당신은 무엇을 씻고 있습니까? &lt;eos&gt;</td>\n",
       "    </tr>\n",
       "    <tr>\n",
       "      <th>34</th>\n",
       "      <td>I don't lie.</td>\n",
       "      <td>&lt;sos&gt; 나는 거짓말 하지 않습니다. &lt;eos&gt;</td>\n",
       "    </tr>\n",
       "  </tbody>\n",
       "</table>\n",
       "</div>"
      ],
      "text/plain": [
       "                                                source  \\\n",
       "625                   She committed suicide yesterday.   \n",
       "91                                     Only God knows.   \n",
       "891  I can smell Mary's perfume. She must have been...   \n",
       "380                           This dictionary is mine.   \n",
       "440                         Let me help you with that.   \n",
       "108                                   He came at dawn.   \n",
       "471                        Leave the book where it is.   \n",
       "778           You can't expect much sympathy from Tom.   \n",
       "285                              What are you washing?   \n",
       "34                                        I don't lie.   \n",
       "\n",
       "                                                target  \n",
       "625                           <sos> 어제 그녀는 자살했다. <eos>  \n",
       "91                            <sos> 신만이 아실 것입니다. <eos>  \n",
       "891  <sos> 나는 메리의 향수 냄새를 맡을 수 있다. 그녀는 좀 전에 여기에 있었음에...  \n",
       "380                           <sos> 이 사전은 내 것이다. <eos>  \n",
       "440                               <sos> 내가 도와줄게. <eos>  \n",
       "108                             <sos> 그는 새벽에 왔다. <eos>  \n",
       "471                         <sos> 책을 제자리에 놔 두세요. <eos>  \n",
       "778              <sos> 너는 톰에게서 많은 동정심을 바랄 수는 없다. <eos>  \n",
       "285                       <sos> 당신은 무엇을 씻고 있습니까? <eos>  \n",
       "34                         <sos> 나는 거짓말 하지 않습니다. <eos>  "
      ]
     },
     "execution_count": 5,
     "metadata": {},
     "output_type": "execute_result"
    }
   ],
   "source": [
    "lines.target = lines.target.apply(lambda x : '<sos> ' + x + ' <eos>')\n",
    "lines.sample(10)"
   ]
  },
  {
   "cell_type": "code",
   "execution_count": 6,
   "metadata": {},
   "outputs": [],
   "source": [
    "from keras.preprocessing.text import Tokenizer"
   ]
  },
  {
   "cell_type": "code",
   "execution_count": 7,
   "metadata": {},
   "outputs": [],
   "source": [
    "source_t = Tokenizer()\n",
    "source_t.fit_on_texts(lines.source)\n",
    "source_vocab_size = len(source_t.word_index) + 1\n",
    "\n",
    "target_t = Tokenizer()\n",
    "target_t.fit_on_texts(lines.target)\n",
    "target_vocab_size = len(target_t.word_index) + 1"
   ]
  },
  {
   "cell_type": "code",
   "execution_count": 8,
   "metadata": {},
   "outputs": [
    {
     "name": "stdout",
     "output_type": "stream",
     "text": [
      "1170\n",
      "2049\n"
     ]
    }
   ],
   "source": [
    "print(source_vocab_size)\n",
    "print(target_vocab_size)"
   ]
  },
  {
   "cell_type": "code",
   "execution_count": 9,
   "metadata": {},
   "outputs": [],
   "source": [
    "encoder_input_data = source_t.texts_to_sequences(lines.source)\n",
    "source_max_length = max(len(l) for l in encoder_input_data)\n",
    "\n",
    "decoder_input_data = target_t.texts_to_sequences(lines.target)\n",
    "decoder_target_data = [l[1:] for l in decoder_input_data]\n",
    "target_max_length = max(len(l) for l in decoder_input_data)"
   ]
  },
  {
   "cell_type": "code",
   "execution_count": 10,
   "metadata": {},
   "outputs": [
    {
     "name": "stdout",
     "output_type": "stream",
     "text": [
      "19\n",
      "17\n"
     ]
    }
   ],
   "source": [
    "print(source_max_length)\n",
    "print(target_max_length)"
   ]
  },
  {
   "cell_type": "code",
   "execution_count": 11,
   "metadata": {},
   "outputs": [
    {
     "name": "stdout",
     "output_type": "stream",
     "text": [
      "[92]\n",
      "[1, 264, 2]\n",
      "[264, 2]\n"
     ]
    }
   ],
   "source": [
    "# sample\n",
    "print(encoder_input_data[0])\n",
    "print(decoder_input_data[0])\n",
    "print(decoder_target_data[0])"
   ]
  },
  {
   "cell_type": "code",
   "execution_count": 12,
   "metadata": {},
   "outputs": [],
   "source": [
    "from keras.preprocessing.sequence import pad_sequences"
   ]
  },
  {
   "cell_type": "code",
   "execution_count": 13,
   "metadata": {},
   "outputs": [],
   "source": [
    "encoder_input_data = pad_sequences(\n",
    "    encoder_input_data, maxlen = source_max_length, padding = 'post')\n",
    "decoder_input_data = pad_sequences(\n",
    "    decoder_input_data, maxlen = target_max_length, padding = 'post')\n",
    "decoder_target_data = pad_sequences(\n",
    "    decoder_target_data, maxlen = target_max_length, padding = 'post')"
   ]
  },
  {
   "cell_type": "code",
   "execution_count": 14,
   "metadata": {},
   "outputs": [],
   "source": [
    "from keras.utils import to_categorical"
   ]
  },
  {
   "cell_type": "code",
   "execution_count": 15,
   "metadata": {},
   "outputs": [],
   "source": [
    "decoder_target_data = to_categorical(decoder_target_data)"
   ]
  },
  {
   "cell_type": "code",
   "execution_count": 16,
   "metadata": {},
   "outputs": [
    {
     "name": "stdout",
     "output_type": "stream",
     "text": [
      "(909, 19)\n",
      "(909, 17)\n",
      "(909, 17, 2049)\n"
     ]
    }
   ],
   "source": [
    "print(encoder_input_data.shape)\n",
    "print(decoder_input_data.shape)\n",
    "print(decoder_target_data.shape)"
   ]
  },
  {
   "cell_type": "code",
   "execution_count": null,
   "metadata": {},
   "outputs": [],
   "source": []
  },
  {
   "cell_type": "code",
   "execution_count": null,
   "metadata": {},
   "outputs": [],
   "source": []
  },
  {
   "cell_type": "code",
   "execution_count": 17,
   "metadata": {},
   "outputs": [],
   "source": [
    "encoder_embedding_dim = engvec.vector_size\n",
    "encoder_pretrained_embedding = np.zeros((source_vocab_size, encoder_embedding_dim))\n",
    "\n",
    "for word, i in source_t.word_index.items():\n",
    "    if engvec.vocab.get(word) is not None:\n",
    "        encoder_pretrained_embedding[i] = engvec.get_vector(word)"
   ]
  },
  {
   "cell_type": "code",
   "execution_count": 18,
   "metadata": {},
   "outputs": [
    {
     "name": "stdout",
     "output_type": "stream",
     "text": [
      "(1170, 300)\n"
     ]
    }
   ],
   "source": [
    "print(encoder_pretrained_embedding.shape)"
   ]
  },
  {
   "cell_type": "code",
   "execution_count": 19,
   "metadata": {},
   "outputs": [],
   "source": [
    "decoder_embedding_dim = korvec.vector_size\n",
    "decoder_pretrained_embedding = np.zeros((target_vocab_size, decoder_embedding_dim))\n",
    "\n",
    "n = 0\n",
    "for word, i in target_t.word_index.items():\n",
    "    if korvec.wv.vocab.get(word) is not None:\n",
    "        decoder_pretrained_embedding[i] = korvec.wv.get_vector(word)\n",
    "        n += 1"
   ]
  },
  {
   "cell_type": "code",
   "execution_count": 20,
   "metadata": {},
   "outputs": [
    {
     "name": "stdout",
     "output_type": "stream",
     "text": [
      "(2049, 200)\n",
      "344\n"
     ]
    }
   ],
   "source": [
    "print(decoder_pretrained_embedding.shape)\n",
    "print(n)\n",
    "# 조사 때문에 너무 적다.."
   ]
  },
  {
   "cell_type": "markdown",
   "metadata": {},
   "source": [
    "> ### 시퀀스-투-시퀀스 모델"
   ]
  },
  {
   "cell_type": "code",
   "execution_count": 35,
   "metadata": {},
   "outputs": [],
   "source": [
    "from keras.layers import Input, GRU, LSTM, Embedding, Dense\n",
    "from keras.models import Model, load_model, save_model\n",
    "from keras.callbacks import ModelCheckpoint, EarlyStopping\n",
    "from keras import optimizers\n",
    "from keras import initializers\n",
    "import keras.backend as K\n",
    "\n",
    "K.clear_session()"
   ]
  },
  {
   "cell_type": "code",
   "execution_count": 36,
   "metadata": {},
   "outputs": [],
   "source": [
    "encoder_embedding_layer = Embedding(input_dim = source_vocab_size, \n",
    "                                    output_dim = encoder_embedding_dim,\n",
    "                                    input_length = source_max_length,\n",
    "                                    weights = [encoder_pretrained_embedding],\n",
    "                                    trainable = False)\n",
    "decoder_embedding_layer = Embedding(input_dim = target_vocab_size, \n",
    "                                    output_dim = decoder_embedding_dim,\n",
    "                                    input_length = target_max_length,\n",
    "                                    weights = [decoder_pretrained_embedding],\n",
    "                                    trainable = False)"
   ]
  },
  {
   "cell_type": "code",
   "execution_count": 37,
   "metadata": {},
   "outputs": [],
   "source": [
    "units = 64\n",
    "\n",
    "encoder_inputs = Input((None,))\n",
    "encoder_embedding = encoder_embedding_layer(encoder_inputs)\n",
    "encoder_rnn = LSTM(units = units, return_state = True)\n",
    "encoder_outputs, state_h, state_c = encoder_rnn(encoder_embedding)\n",
    "encoder_states = [state_h, state_c]\n",
    "\n",
    "decoder_inputs = Input((None,))\n",
    "decoder_embedding = decoder_embedding_layer(decoder_inputs)\n",
    "decoder_rnn = LSTM(units = units, return_sequences = True, return_state = True)\n",
    "decoder_outputs, _, _ = decoder_rnn(decoder_embedding, initial_state = encoder_states)\n",
    "\n",
    "decoder_softmax_layer = Dense(target_vocab_size, activation = 'softmax')\n",
    "decoder_outputs = decoder_softmax_layer(decoder_outputs)\n",
    "\n",
    "model = Model([encoder_inputs, decoder_inputs], decoder_outputs)"
   ]
  },
  {
   "cell_type": "code",
   "execution_count": 38,
   "metadata": {},
   "outputs": [
    {
     "name": "stdout",
     "output_type": "stream",
     "text": [
      "__________________________________________________________________________________________________\n",
      "Layer (type)                    Output Shape         Param #     Connected to                     \n",
      "==================================================================================================\n",
      "input_1 (InputLayer)            (None, None)         0                                            \n",
      "__________________________________________________________________________________________________\n",
      "input_2 (InputLayer)            (None, None)         0                                            \n",
      "__________________________________________________________________________________________________\n",
      "embedding_1 (Embedding)         (None, 19, 300)      351000      input_1[0][0]                    \n",
      "__________________________________________________________________________________________________\n",
      "embedding_2 (Embedding)         (None, 17, 200)      409800      input_2[0][0]                    \n",
      "__________________________________________________________________________________________________\n",
      "lstm_1 (LSTM)                   [(None, 64), (None,  93440       embedding_1[0][0]                \n",
      "__________________________________________________________________________________________________\n",
      "lstm_2 (LSTM)                   [(None, 17, 64), (No 67840       embedding_2[0][0]                \n",
      "                                                                 lstm_1[0][1]                     \n",
      "                                                                 lstm_1[0][2]                     \n",
      "__________________________________________________________________________________________________\n",
      "dense_1 (Dense)                 (None, 17, 2049)     133185      lstm_2[0][0]                     \n",
      "==================================================================================================\n",
      "Total params: 1,055,265\n",
      "Trainable params: 294,465\n",
      "Non-trainable params: 760,800\n",
      "__________________________________________________________________________________________________\n"
     ]
    }
   ],
   "source": [
    "model.compile(loss = \"categorical_crossentropy\",\n",
    "              optimizer = optimizers.rmsprop(),\n",
    "              metrics = ['acc'])\n",
    "\n",
    "model.summary()"
   ]
  },
  {
   "cell_type": "code",
   "execution_count": 39,
   "metadata": {},
   "outputs": [
    {
     "name": "stdout",
     "output_type": "stream",
     "text": [
      "Train on 727 samples, validate on 182 samples\n",
      "Epoch 1/300\n",
      " - 5s - loss: 7.4803 - acc: 0.5799 - val_loss: 6.6581 - val_acc: 0.5711\n",
      "Epoch 2/300\n",
      " - 3s - loss: 5.7337 - acc: 0.7315 - val_loss: 5.4128 - val_acc: 0.5692\n",
      "Epoch 3/300\n",
      " - 4s - loss: 4.3123 - acc: 0.7315 - val_loss: 4.4514 - val_acc: 0.5692\n",
      "Epoch 4/300\n",
      " - 4s - loss: 3.2488 - acc: 0.7315 - val_loss: 3.9247 - val_acc: 0.5692\n",
      "Epoch 5/300\n",
      " - 4s - loss: 2.6892 - acc: 0.7315 - val_loss: 3.6542 - val_acc: 0.5692\n",
      "Epoch 6/300\n",
      " - 4s - loss: 2.3817 - acc: 0.7315 - val_loss: 3.4753 - val_acc: 0.5692\n",
      "Epoch 7/300\n",
      " - 3s - loss: 2.1899 - acc: 0.7315 - val_loss: 3.3719 - val_acc: 0.5692\n",
      "Epoch 8/300\n",
      " - 3s - loss: 2.0608 - acc: 0.7315 - val_loss: 3.3251 - val_acc: 0.5692\n",
      "Epoch 9/300\n",
      " - 3s - loss: 1.9693 - acc: 0.7315 - val_loss: 3.2962 - val_acc: 0.5692\n",
      "Epoch 10/300\n",
      " - 3s - loss: 1.9032 - acc: 0.7315 - val_loss: 3.3181 - val_acc: 0.5692\n",
      "Epoch 11/300\n",
      " - 3s - loss: 1.8502 - acc: 0.7315 - val_loss: 3.2888 - val_acc: 0.5692\n",
      "Epoch 12/300\n",
      " - 3s - loss: 1.8022 - acc: 0.7315 - val_loss: 3.2243 - val_acc: 0.5695\n",
      "Epoch 13/300\n",
      " - 3s - loss: 1.7810 - acc: 0.7315 - val_loss: 3.2231 - val_acc: 0.5695\n",
      "Epoch 14/300\n",
      " - 3s - loss: 1.7427 - acc: 0.7315 - val_loss: 3.3861 - val_acc: 0.5695\n",
      "Epoch 15/300\n",
      " - 3s - loss: 1.7264 - acc: 0.7315 - val_loss: 3.2565 - val_acc: 0.5695\n",
      "Epoch 16/300\n",
      " - 3s - loss: 1.6995 - acc: 0.7317 - val_loss: 3.3652 - val_acc: 0.5695\n",
      "Epoch 17/300\n",
      " - 3s - loss: 1.6779 - acc: 0.7323 - val_loss: 3.2256 - val_acc: 0.5708\n",
      "Epoch 18/300\n",
      " - 3s - loss: 1.6675 - acc: 0.7336 - val_loss: 3.2444 - val_acc: 0.5708\n",
      "Epoch 19/300\n",
      " - 3s - loss: 1.6508 - acc: 0.7342 - val_loss: 3.2551 - val_acc: 0.5721\n",
      "Epoch 20/300\n",
      " - 3s - loss: 1.6361 - acc: 0.7352 - val_loss: 3.2893 - val_acc: 0.5730\n",
      "Epoch 21/300\n",
      " - 3s - loss: 1.6151 - acc: 0.7360 - val_loss: 3.2804 - val_acc: 0.5737\n",
      "Epoch 22/300\n",
      " - 3s - loss: 1.6163 - acc: 0.7382 - val_loss: 3.3652 - val_acc: 0.5734\n",
      "Epoch 23/300\n",
      " - 3s - loss: 1.5876 - acc: 0.7386 - val_loss: 3.3355 - val_acc: 0.5750\n",
      "Epoch 24/300\n",
      " - 3s - loss: 1.5920 - acc: 0.7412 - val_loss: 3.3615 - val_acc: 0.5772\n",
      "Epoch 25/300\n",
      " - 3s - loss: 1.5720 - acc: 0.7420 - val_loss: 3.3274 - val_acc: 0.5834\n",
      "Epoch 26/300\n",
      " - 3s - loss: 1.5670 - acc: 0.7459 - val_loss: 3.3878 - val_acc: 0.5776\n",
      "Epoch 27/300\n",
      " - 3s - loss: 1.5621 - acc: 0.7483 - val_loss: 3.4803 - val_acc: 0.5766\n",
      "Epoch 28/300\n",
      " - 3s - loss: 1.5371 - acc: 0.7474 - val_loss: 3.4321 - val_acc: 0.5824\n",
      "Epoch 29/300\n",
      " - 3s - loss: 1.5428 - acc: 0.7493 - val_loss: 3.4413 - val_acc: 0.5850\n",
      "Epoch 30/300\n",
      " - 3s - loss: 1.5279 - acc: 0.7531 - val_loss: 3.4543 - val_acc: 0.5863\n",
      "Epoch 31/300\n",
      " - 4s - loss: 1.5171 - acc: 0.7564 - val_loss: 3.4175 - val_acc: 0.5908\n",
      "Epoch 32/300\n",
      " - 4s - loss: 1.5199 - acc: 0.7577 - val_loss: 3.4935 - val_acc: 0.5876\n",
      "Epoch 33/300\n",
      " - 4s - loss: 1.4931 - acc: 0.7628 - val_loss: 3.4890 - val_acc: 0.5889\n",
      "Epoch 34/300\n",
      " - 4s - loss: 1.4974 - acc: 0.7615 - val_loss: 3.5482 - val_acc: 0.5957\n",
      "Epoch 35/300\n",
      " - 4s - loss: 1.4826 - acc: 0.7671 - val_loss: 3.5279 - val_acc: 0.5953\n",
      "Epoch 36/300\n",
      " - 4s - loss: 1.4771 - acc: 0.7660 - val_loss: 3.5648 - val_acc: 0.5911\n",
      "Epoch 37/300\n",
      " - 5s - loss: 1.4710 - acc: 0.7653 - val_loss: 3.5507 - val_acc: 0.5928\n",
      "Epoch 38/300\n",
      " - 5s - loss: 1.4635 - acc: 0.7655 - val_loss: 3.6113 - val_acc: 0.5924\n",
      "Epoch 39/300\n",
      " - 5s - loss: 1.4579 - acc: 0.7673 - val_loss: 3.6288 - val_acc: 0.5911\n",
      "Epoch 40/300\n",
      " - 5s - loss: 1.4544 - acc: 0.7673 - val_loss: 3.6307 - val_acc: 0.5963\n",
      "Epoch 41/300\n",
      " - 5s - loss: 1.4304 - acc: 0.7744 - val_loss: 3.7538 - val_acc: 0.5928\n",
      "Epoch 42/300\n",
      " - 4s - loss: 1.4355 - acc: 0.7692 - val_loss: 3.7759 - val_acc: 0.5931\n",
      "Epoch 43/300\n",
      " - 3s - loss: 1.4348 - acc: 0.7677 - val_loss: 3.8027 - val_acc: 0.5931\n",
      "Epoch 44/300\n",
      " - 3s - loss: 1.4087 - acc: 0.7760 - val_loss: 3.6746 - val_acc: 0.5944\n",
      "Epoch 45/300\n",
      " - 3s - loss: 1.4201 - acc: 0.7692 - val_loss: 3.7627 - val_acc: 0.5924\n",
      "Epoch 46/300\n",
      " - 3s - loss: 1.3970 - acc: 0.7761 - val_loss: 3.6641 - val_acc: 0.5908\n",
      "Epoch 47/300\n",
      " - 3s - loss: 1.4056 - acc: 0.7730 - val_loss: 3.7374 - val_acc: 0.5934\n",
      "Epoch 48/300\n",
      " - 3s - loss: 1.3910 - acc: 0.7736 - val_loss: 3.7807 - val_acc: 0.5957\n",
      "Epoch 49/300\n",
      " - 4s - loss: 1.3742 - acc: 0.7782 - val_loss: 3.9444 - val_acc: 0.5944\n",
      "Epoch 50/300\n",
      " - 2s - loss: 1.3856 - acc: 0.7722 - val_loss: 3.8973 - val_acc: 0.5950\n",
      "Epoch 51/300\n",
      " - 2s - loss: 1.3586 - acc: 0.7798 - val_loss: 3.9608 - val_acc: 0.5944\n",
      "Epoch 52/300\n",
      " - 3s - loss: 1.3671 - acc: 0.7726 - val_loss: 3.8844 - val_acc: 0.5957\n",
      "Epoch 53/300\n",
      " - 3s - loss: 1.3634 - acc: 0.7730 - val_loss: 3.9217 - val_acc: 0.5960\n",
      "Epoch 54/300\n",
      " - 3s - loss: 1.3356 - acc: 0.7821 - val_loss: 3.8199 - val_acc: 0.5966\n",
      "Epoch 55/300\n",
      " - 3s - loss: 1.3596 - acc: 0.7721 - val_loss: 3.9328 - val_acc: 0.5960\n",
      "Epoch 56/300\n",
      " - 3s - loss: 1.3224 - acc: 0.7829 - val_loss: 3.9380 - val_acc: 0.5960\n",
      "Epoch 57/300\n",
      " - 3s - loss: 1.3339 - acc: 0.7763 - val_loss: 4.1628 - val_acc: 0.5908\n",
      "Epoch 58/300\n",
      " - 3s - loss: 1.3126 - acc: 0.7821 - val_loss: 3.9862 - val_acc: 0.5953\n",
      "Epoch 59/300\n",
      " - 3s - loss: 1.3182 - acc: 0.7773 - val_loss: 4.1044 - val_acc: 0.5941\n",
      "Epoch 60/300\n",
      " - 3s - loss: 1.2982 - acc: 0.7828 - val_loss: 3.8739 - val_acc: 0.5973\n",
      "Epoch 61/300\n",
      " - 3s - loss: 1.3149 - acc: 0.7761 - val_loss: 4.0090 - val_acc: 0.5960\n",
      "Epoch 62/300\n",
      " - 3s - loss: 1.2841 - acc: 0.7836 - val_loss: 3.9111 - val_acc: 0.5976\n",
      "Epoch 63/300\n",
      " - 3s - loss: 1.3018 - acc: 0.7772 - val_loss: 3.9759 - val_acc: 0.5960\n",
      "Epoch 64/300\n",
      " - 3s - loss: 1.2873 - acc: 0.7804 - val_loss: 3.9894 - val_acc: 0.5973\n",
      "Epoch 65/300\n",
      " - 3s - loss: 1.2671 - acc: 0.7844 - val_loss: 3.9641 - val_acc: 0.5937\n",
      "Epoch 66/300\n",
      " - 3s - loss: 1.2808 - acc: 0.7769 - val_loss: 4.0220 - val_acc: 0.5947\n",
      "Epoch 67/300\n",
      " - 3s - loss: 1.2517 - acc: 0.7873 - val_loss: 4.0570 - val_acc: 0.5973\n",
      "Epoch 68/300\n",
      " - 3s - loss: 1.2665 - acc: 0.7797 - val_loss: 4.1990 - val_acc: 0.5941\n",
      "Epoch 69/300\n",
      " - 3s - loss: 1.2507 - acc: 0.7837 - val_loss: 4.2168 - val_acc: 0.5944\n",
      "Epoch 70/300\n",
      " - 3s - loss: 1.2411 - acc: 0.7855 - val_loss: 4.2365 - val_acc: 0.5937\n",
      "Epoch 71/300\n",
      " - 3s - loss: 1.2490 - acc: 0.7812 - val_loss: 4.2028 - val_acc: 0.5937\n",
      "Epoch 72/300\n",
      " - 4s - loss: 1.2330 - acc: 0.7844 - val_loss: 4.2299 - val_acc: 0.5944\n",
      "Epoch 73/300\n",
      " - 4s - loss: 1.2310 - acc: 0.7838 - val_loss: 4.2130 - val_acc: 0.5953\n",
      "Epoch 74/300\n",
      " - 4s - loss: 1.2146 - acc: 0.7881 - val_loss: 4.2647 - val_acc: 0.5950\n",
      "Epoch 75/300\n",
      " - 4s - loss: 1.2172 - acc: 0.7855 - val_loss: 4.3064 - val_acc: 0.5941\n",
      "Epoch 76/300\n",
      " - 4s - loss: 1.2125 - acc: 0.7872 - val_loss: 4.2341 - val_acc: 0.5960\n",
      "Epoch 77/300\n",
      " - 4s - loss: 1.2094 - acc: 0.7839 - val_loss: 4.2276 - val_acc: 0.5944\n",
      "Epoch 78/300\n",
      " - 5s - loss: 1.1935 - acc: 0.7884 - val_loss: 4.2873 - val_acc: 0.5950\n",
      "Epoch 79/300\n",
      " - 4s - loss: 1.1967 - acc: 0.7877 - val_loss: 4.2600 - val_acc: 0.5950\n",
      "Epoch 80/300\n",
      " - 4s - loss: 1.1829 - acc: 0.7897 - val_loss: 4.2209 - val_acc: 0.5973\n",
      "Epoch 81/300\n",
      " - 4s - loss: 1.1864 - acc: 0.7873 - val_loss: 4.3517 - val_acc: 0.5937\n",
      "Epoch 82/300\n",
      " - 3s - loss: 1.1664 - acc: 0.7922 - val_loss: 4.2891 - val_acc: 0.5960\n",
      "Epoch 83/300\n",
      " - 4s - loss: 1.1705 - acc: 0.7908 - val_loss: 4.3620 - val_acc: 0.5953\n",
      "Epoch 84/300\n",
      " - 3s - loss: 1.1571 - acc: 0.7936 - val_loss: 4.2556 - val_acc: 0.5976\n",
      "Epoch 85/300\n",
      " - 3s - loss: 1.1618 - acc: 0.7904 - val_loss: 4.3437 - val_acc: 0.5957\n",
      "Epoch 86/300\n",
      " - 3s - loss: 1.1455 - acc: 0.7946 - val_loss: 4.2642 - val_acc: 0.5957\n",
      "Epoch 87/300\n",
      " - 3s - loss: 1.1433 - acc: 0.7930 - val_loss: 4.3654 - val_acc: 0.5953\n",
      "Epoch 88/300\n",
      " - 3s - loss: 1.1351 - acc: 0.7962 - val_loss: 4.3070 - val_acc: 0.5960\n",
      "Epoch 89/300\n",
      " - 3s - loss: 1.1352 - acc: 0.7944 - val_loss: 4.3109 - val_acc: 0.5966\n",
      "Epoch 90/300\n",
      " - 3s - loss: 1.1373 - acc: 0.7917 - val_loss: 4.3115 - val_acc: 0.5973\n",
      "Epoch 91/300\n",
      " - 3s - loss: 1.1082 - acc: 0.8003 - val_loss: 4.2860 - val_acc: 0.5963\n",
      "Epoch 92/300\n",
      " - 3s - loss: 1.1216 - acc: 0.7963 - val_loss: 4.3507 - val_acc: 0.5947\n",
      "Epoch 93/300\n",
      " - 3s - loss: 1.1124 - acc: 0.7984 - val_loss: 4.3383 - val_acc: 0.5960\n",
      "Epoch 94/300\n",
      " - 3s - loss: 1.0985 - acc: 0.8000 - val_loss: 4.3993 - val_acc: 0.5944\n",
      "Epoch 95/300\n",
      " - 3s - loss: 1.1044 - acc: 0.7980 - val_loss: 4.3174 - val_acc: 0.5983\n",
      "Epoch 96/300\n",
      " - 3s - loss: 1.0898 - acc: 0.8018 - val_loss: 4.3946 - val_acc: 0.5950\n"
     ]
    },
    {
     "name": "stdout",
     "output_type": "stream",
     "text": [
      "Epoch 97/300\n",
      " - 3s - loss: 1.0917 - acc: 0.7991 - val_loss: 4.3631 - val_acc: 0.5963\n",
      "Epoch 98/300\n",
      " - 3s - loss: 1.0748 - acc: 0.8034 - val_loss: 4.3512 - val_acc: 0.5976\n",
      "Epoch 99/300\n",
      " - 3s - loss: 1.0854 - acc: 0.8009 - val_loss: 4.3916 - val_acc: 0.5960\n",
      "Epoch 100/300\n",
      " - 3s - loss: 1.0684 - acc: 0.8044 - val_loss: 4.4110 - val_acc: 0.5963\n",
      "Epoch 101/300\n",
      " - 3s - loss: 1.0756 - acc: 0.8004 - val_loss: 4.3677 - val_acc: 0.5966\n",
      "Epoch 102/300\n",
      " - 3s - loss: 1.0483 - acc: 0.8085 - val_loss: 4.3694 - val_acc: 0.5973\n",
      "Epoch 103/300\n",
      " - 3s - loss: 1.0636 - acc: 0.8032 - val_loss: 4.3982 - val_acc: 0.5979\n",
      "Epoch 104/300\n",
      " - 3s - loss: 1.0430 - acc: 0.8082 - val_loss: 4.4052 - val_acc: 0.5953\n",
      "Epoch 105/300\n",
      " - 3s - loss: 1.0541 - acc: 0.8039 - val_loss: 4.3900 - val_acc: 0.5973\n",
      "Epoch 106/300\n",
      " - 3s - loss: 1.0287 - acc: 0.8116 - val_loss: 4.3418 - val_acc: 0.5976\n",
      "Epoch 107/300\n",
      " - 3s - loss: 1.0446 - acc: 0.8061 - val_loss: 4.2439 - val_acc: 0.5941\n",
      "Epoch 108/300\n",
      " - 3s - loss: 1.0333 - acc: 0.8083 - val_loss: 4.3750 - val_acc: 0.5979\n",
      "Epoch 109/300\n",
      " - 3s - loss: 1.0249 - acc: 0.8103 - val_loss: 4.3764 - val_acc: 0.5986\n",
      "Epoch 110/300\n",
      " - 3s - loss: 1.0138 - acc: 0.8126 - val_loss: 4.3435 - val_acc: 0.5963\n",
      "Epoch 111/300\n",
      " - 4s - loss: 1.0234 - acc: 0.8090 - val_loss: 4.3819 - val_acc: 0.5976\n",
      "Epoch 112/300\n",
      " - 4s - loss: 1.0060 - acc: 0.8127 - val_loss: 4.3462 - val_acc: 0.5973\n",
      "Epoch 113/300\n",
      " - 4s - loss: 1.0085 - acc: 0.8101 - val_loss: 4.3707 - val_acc: 0.5989\n",
      "Epoch 114/300\n",
      " - 4s - loss: 0.9908 - acc: 0.8167 - val_loss: 4.3695 - val_acc: 0.5966\n",
      "Epoch 115/300\n",
      " - 4s - loss: 1.0068 - acc: 0.8099 - val_loss: 4.3472 - val_acc: 0.5963\n",
      "Epoch 116/300\n",
      " - 4s - loss: 0.9872 - acc: 0.8145 - val_loss: 4.4170 - val_acc: 0.5992\n",
      "Epoch 117/300\n",
      " - 5s - loss: 0.9799 - acc: 0.8160 - val_loss: 4.3590 - val_acc: 0.5957\n",
      "Epoch 118/300\n",
      " - 5s - loss: 0.9977 - acc: 0.8107 - val_loss: 4.4576 - val_acc: 0.5973\n",
      "Epoch 119/300\n",
      " - 4s - loss: 0.9690 - acc: 0.8182 - val_loss: 4.4469 - val_acc: 0.5979\n",
      "Epoch 120/300\n",
      " - 4s - loss: 0.9596 - acc: 0.8202 - val_loss: 4.2976 - val_acc: 0.5931\n",
      "Epoch 121/300\n",
      " - 3s - loss: 0.9967 - acc: 0.8095 - val_loss: 4.4212 - val_acc: 0.5976\n",
      "Epoch 122/300\n",
      " - 3s - loss: 0.9480 - acc: 0.8218 - val_loss: 4.4463 - val_acc: 0.5963\n",
      "Epoch 123/300\n",
      " - 3s - loss: 0.9420 - acc: 0.8228 - val_loss: 4.4984 - val_acc: 0.5983\n",
      "Epoch 124/300\n",
      " - 3s - loss: 0.9768 - acc: 0.8124 - val_loss: 4.5089 - val_acc: 0.5970\n",
      "Epoch 125/300\n",
      " - 3s - loss: 0.9367 - acc: 0.8234 - val_loss: 4.5278 - val_acc: 0.5963\n",
      "Epoch 126/300\n",
      " - 3s - loss: 0.9463 - acc: 0.8192 - val_loss: 4.5092 - val_acc: 0.5976\n",
      "Epoch 127/300\n",
      " - 3s - loss: 0.9382 - acc: 0.8219 - val_loss: 4.5148 - val_acc: 0.5966\n",
      "Epoch 128/300\n",
      " - 3s - loss: 0.9428 - acc: 0.8181 - val_loss: 4.4966 - val_acc: 0.5960\n",
      "Epoch 129/300\n",
      " - 3s - loss: 0.9285 - acc: 0.8218 - val_loss: 4.5046 - val_acc: 0.5973\n",
      "Epoch 130/300\n",
      " - 3s - loss: 0.9229 - acc: 0.8226 - val_loss: 4.5244 - val_acc: 0.5979\n",
      "Epoch 131/300\n",
      " - 2s - loss: 0.9175 - acc: 0.8238 - val_loss: 4.5091 - val_acc: 0.5989\n",
      "Epoch 132/300\n",
      " - 3s - loss: 0.9139 - acc: 0.8247 - val_loss: 4.5378 - val_acc: 0.5960\n",
      "Epoch 133/300\n",
      " - 3s - loss: 0.9194 - acc: 0.8221 - val_loss: 4.5357 - val_acc: 0.5983\n",
      "Epoch 134/300\n",
      " - 3s - loss: 0.9023 - acc: 0.8262 - val_loss: 4.5228 - val_acc: 0.5995\n",
      "Epoch 135/300\n",
      " - 3s - loss: 0.8996 - acc: 0.8266 - val_loss: 4.5837 - val_acc: 0.5976\n",
      "Epoch 136/300\n",
      " - 3s - loss: 0.9060 - acc: 0.8226 - val_loss: 4.5240 - val_acc: 0.5979\n",
      "Epoch 137/300\n",
      " - 3s - loss: 0.8923 - acc: 0.8274 - val_loss: 4.6019 - val_acc: 0.5979\n",
      "Epoch 138/300\n",
      " - 3s - loss: 0.8980 - acc: 0.8248 - val_loss: 4.5425 - val_acc: 0.5986\n",
      "Epoch 139/300\n",
      " - 3s - loss: 0.8803 - acc: 0.8293 - val_loss: 4.5587 - val_acc: 0.5983\n",
      "Epoch 140/300\n",
      " - 3s - loss: 0.8758 - acc: 0.8298 - val_loss: 4.5619 - val_acc: 0.5970\n",
      "Epoch 141/300\n",
      " - 3s - loss: 0.8959 - acc: 0.8235 - val_loss: 4.5363 - val_acc: 0.6002\n",
      "Epoch 142/300\n",
      " - 3s - loss: 0.8617 - acc: 0.8315 - val_loss: 4.5572 - val_acc: 0.5989\n",
      "Epoch 143/300\n",
      " - 3s - loss: 0.8656 - acc: 0.8308 - val_loss: 4.5946 - val_acc: 0.5957\n",
      "Epoch 144/300\n",
      " - 3s - loss: 0.8738 - acc: 0.8273 - val_loss: 4.5731 - val_acc: 0.5976\n",
      "Epoch 145/300\n",
      " - 3s - loss: 0.8525 - acc: 0.8321 - val_loss: 4.5933 - val_acc: 0.5970\n",
      "Epoch 146/300\n",
      " - 3s - loss: 0.8658 - acc: 0.8284 - val_loss: 4.5767 - val_acc: 0.5976\n",
      "Epoch 147/300\n",
      " - 3s - loss: 0.8573 - acc: 0.8303 - val_loss: 4.5501 - val_acc: 0.5989\n",
      "Epoch 148/300\n",
      " - 3s - loss: 0.8366 - acc: 0.8351 - val_loss: 4.6213 - val_acc: 0.5995\n",
      "Epoch 149/300\n",
      " - 3s - loss: 0.8573 - acc: 0.8288 - val_loss: 4.6477 - val_acc: 0.5960\n",
      "Epoch 150/300\n",
      " - 3s - loss: 0.8398 - acc: 0.8339 - val_loss: 4.5467 - val_acc: 0.5999\n",
      "Epoch 151/300\n",
      " - 3s - loss: 0.8372 - acc: 0.8330 - val_loss: 4.5040 - val_acc: 0.6005\n",
      "Epoch 152/300\n",
      " - 3s - loss: 0.8306 - acc: 0.8347 - val_loss: 4.5465 - val_acc: 0.6002\n",
      "Epoch 153/300\n",
      " - 4s - loss: 0.8283 - acc: 0.8359 - val_loss: 4.5327 - val_acc: 0.6002\n",
      "Epoch 154/300\n",
      " - 4s - loss: 0.8224 - acc: 0.8353 - val_loss: 4.5340 - val_acc: 0.5992\n",
      "Epoch 155/300\n",
      " - 4s - loss: 0.8238 - acc: 0.8338 - val_loss: 4.5191 - val_acc: 0.6008\n",
      "Epoch 156/300\n",
      " - 4s - loss: 0.8092 - acc: 0.8384 - val_loss: 4.5553 - val_acc: 0.6015\n",
      "Epoch 157/300\n",
      " - 4s - loss: 0.8176 - acc: 0.8352 - val_loss: 4.6295 - val_acc: 0.6002\n",
      "Epoch 158/300\n",
      " - 4s - loss: 0.8066 - acc: 0.8366 - val_loss: 4.5960 - val_acc: 0.6012\n",
      "Epoch 159/300\n",
      " - 5s - loss: 0.7968 - acc: 0.8394 - val_loss: 4.5762 - val_acc: 0.6002\n",
      "Epoch 160/300\n",
      " - 4s - loss: 0.7959 - acc: 0.8402 - val_loss: 4.7206 - val_acc: 0.5970\n",
      "Epoch 161/300\n",
      " - 4s - loss: 0.8042 - acc: 0.8358 - val_loss: 4.5143 - val_acc: 0.6018\n",
      "Epoch 162/300\n",
      " - 4s - loss: 0.7933 - acc: 0.8393 - val_loss: 4.6098 - val_acc: 0.5992\n",
      "Epoch 163/300\n",
      " - 3s - loss: 0.7800 - acc: 0.8427 - val_loss: 4.6350 - val_acc: 0.5986\n",
      "Epoch 164/300\n",
      " - 3s - loss: 0.7968 - acc: 0.8374 - val_loss: 4.5905 - val_acc: 0.5995\n",
      "Epoch 165/300\n",
      " - 3s - loss: 0.7757 - acc: 0.8430 - val_loss: 4.6224 - val_acc: 0.6012\n",
      "Epoch 166/300\n",
      " - 3s - loss: 0.7682 - acc: 0.8438 - val_loss: 4.5696 - val_acc: 0.5999\n",
      "Epoch 167/300\n",
      " - 3s - loss: 0.7765 - acc: 0.8422 - val_loss: 4.4662 - val_acc: 0.5995\n",
      "Epoch 168/300\n",
      " - 3s - loss: 0.7708 - acc: 0.8436 - val_loss: 4.5939 - val_acc: 0.6015\n",
      "Epoch 169/300\n",
      " - 3s - loss: 0.7653 - acc: 0.8462 - val_loss: 4.6364 - val_acc: 0.6012\n",
      "Epoch 170/300\n",
      " - 3s - loss: 0.7532 - acc: 0.8472 - val_loss: 4.6382 - val_acc: 0.6025\n",
      "Epoch 171/300\n",
      " - 3s - loss: 0.7785 - acc: 0.8416 - val_loss: 4.6234 - val_acc: 0.6021\n",
      "Epoch 172/300\n",
      " - 3s - loss: 0.7445 - acc: 0.8496 - val_loss: 4.6454 - val_acc: 0.6021\n",
      "Epoch 173/300\n",
      " - 3s - loss: 0.7421 - acc: 0.8495 - val_loss: 4.6547 - val_acc: 0.6021\n",
      "Epoch 174/300\n",
      " - 3s - loss: 0.7643 - acc: 0.8415 - val_loss: 4.7193 - val_acc: 0.5983\n",
      "Epoch 175/300\n",
      " - 3s - loss: 0.7344 - acc: 0.8506 - val_loss: 4.6955 - val_acc: 0.6002\n",
      "Epoch 176/300\n",
      " - 3s - loss: 0.7358 - acc: 0.8512 - val_loss: 4.7465 - val_acc: 0.5983\n",
      "Epoch 177/300\n",
      " - 3s - loss: 0.7329 - acc: 0.8493 - val_loss: 4.6806 - val_acc: 0.6015\n",
      "Epoch 178/300\n",
      " - 3s - loss: 0.7501 - acc: 0.8434 - val_loss: 4.7110 - val_acc: 0.6008\n",
      "Epoch 179/300\n",
      " - 3s - loss: 0.7243 - acc: 0.8511 - val_loss: 4.6785 - val_acc: 0.6021\n",
      "Epoch 180/300\n",
      " - 3s - loss: 0.7137 - acc: 0.8540 - val_loss: 4.6750 - val_acc: 0.6025\n",
      "Epoch 181/300\n",
      " - 3s - loss: 0.7225 - acc: 0.8504 - val_loss: 4.6586 - val_acc: 0.6005\n",
      "Epoch 182/300\n",
      " - 3s - loss: 0.7189 - acc: 0.8527 - val_loss: 4.5826 - val_acc: 0.5989\n",
      "Epoch 183/300\n",
      " - 3s - loss: 0.7151 - acc: 0.8514 - val_loss: 4.6626 - val_acc: 0.6028\n",
      "Epoch 184/300\n",
      " - 3s - loss: 0.7121 - acc: 0.8531 - val_loss: 4.6240 - val_acc: 0.5999\n",
      "Epoch 185/300\n",
      " - 3s - loss: 0.7201 - acc: 0.8493 - val_loss: 4.6666 - val_acc: 0.6041\n",
      "Epoch 186/300\n",
      " - 3s - loss: 0.6911 - acc: 0.8590 - val_loss: 4.6454 - val_acc: 0.6012\n",
      "Epoch 187/300\n",
      " - 3s - loss: 0.7035 - acc: 0.8534 - val_loss: 4.6183 - val_acc: 0.6005\n",
      "Epoch 188/300\n",
      " - 3s - loss: 0.7028 - acc: 0.8551 - val_loss: 4.6191 - val_acc: 0.6005\n",
      "Epoch 189/300\n",
      " - 3s - loss: 0.6933 - acc: 0.8585 - val_loss: 4.6606 - val_acc: 0.6037\n",
      "Epoch 190/300\n",
      " - 3s - loss: 0.6815 - acc: 0.8598 - val_loss: 4.6420 - val_acc: 0.6034\n",
      "Epoch 191/300\n",
      " - 3s - loss: 0.7005 - acc: 0.8543 - val_loss: 4.7972 - val_acc: 0.5979\n",
      "Epoch 192/300\n",
      " - 4s - loss: 0.6799 - acc: 0.8586 - val_loss: 4.6959 - val_acc: 0.6034\n"
     ]
    },
    {
     "name": "stdout",
     "output_type": "stream",
     "text": [
      "Epoch 193/300\n",
      " - 4s - loss: 0.6683 - acc: 0.8617 - val_loss: 4.7142 - val_acc: 0.6021\n",
      "Epoch 194/300\n",
      " - 4s - loss: 0.6926 - acc: 0.8553 - val_loss: 4.7272 - val_acc: 0.6028\n",
      "Epoch 195/300\n",
      " - 5s - loss: 0.6740 - acc: 0.8590 - val_loss: 4.6684 - val_acc: 0.6044\n",
      "Epoch 196/300\n",
      " - 4s - loss: 0.6636 - acc: 0.8626 - val_loss: 4.6719 - val_acc: 0.6041\n",
      "Epoch 197/300\n",
      " - 5s - loss: 0.6589 - acc: 0.8638 - val_loss: 4.6709 - val_acc: 0.5983\n",
      "Epoch 198/300\n",
      " - 5s - loss: 0.6849 - acc: 0.8539 - val_loss: 4.7045 - val_acc: 0.6028\n",
      "Epoch 199/300\n",
      " - 5s - loss: 0.6515 - acc: 0.8645 - val_loss: 4.7501 - val_acc: 0.6015\n",
      "Epoch 200/300\n",
      " - 5s - loss: 0.6567 - acc: 0.8624 - val_loss: 4.7676 - val_acc: 0.5995\n",
      "Epoch 201/300\n",
      " - 4s - loss: 0.6552 - acc: 0.8637 - val_loss: 4.6996 - val_acc: 0.5999\n",
      "Epoch 202/300\n",
      " - 4s - loss: 0.6560 - acc: 0.8615 - val_loss: 4.7478 - val_acc: 0.6005\n",
      "Epoch 203/300\n",
      " - 3s - loss: 0.6485 - acc: 0.8641 - val_loss: 4.7410 - val_acc: 0.6012\n",
      "Epoch 204/300\n",
      " - 3s - loss: 0.6360 - acc: 0.8671 - val_loss: 4.7855 - val_acc: 0.5999\n",
      "Epoch 205/300\n",
      " - 3s - loss: 0.6480 - acc: 0.8635 - val_loss: 4.7738 - val_acc: 0.5989\n",
      "Epoch 206/300\n",
      " - 3s - loss: 0.6382 - acc: 0.8654 - val_loss: 4.7083 - val_acc: 0.6028\n",
      "Epoch 207/300\n",
      " - 3s - loss: 0.6373 - acc: 0.8661 - val_loss: 4.7845 - val_acc: 0.5995\n",
      "Epoch 208/300\n",
      " - 3s - loss: 0.6354 - acc: 0.8650 - val_loss: 4.7717 - val_acc: 0.6008\n",
      "Epoch 209/300\n",
      " - 3s - loss: 0.6241 - acc: 0.8691 - val_loss: 4.7632 - val_acc: 0.6021\n",
      "Epoch 210/300\n",
      " - 3s - loss: 0.6250 - acc: 0.8690 - val_loss: 4.7151 - val_acc: 0.6021\n",
      "Epoch 211/300\n",
      " - 3s - loss: 0.6298 - acc: 0.8670 - val_loss: 4.7580 - val_acc: 0.6015\n",
      "Epoch 212/300\n",
      " - 3s - loss: 0.6200 - acc: 0.8696 - val_loss: 4.7862 - val_acc: 0.6008\n",
      "Epoch 213/300\n",
      " - 3s - loss: 0.6095 - acc: 0.8697 - val_loss: 4.7644 - val_acc: 0.6018\n",
      "Epoch 214/300\n",
      " - 3s - loss: 0.6253 - acc: 0.8664 - val_loss: 4.7528 - val_acc: 0.6021\n",
      "Epoch 215/300\n",
      " - 3s - loss: 0.6062 - acc: 0.8714 - val_loss: 4.7123 - val_acc: 0.6021\n",
      "Epoch 216/300\n",
      " - 3s - loss: 0.6058 - acc: 0.8727 - val_loss: 4.7174 - val_acc: 0.6015\n",
      "Epoch 217/300\n",
      " - 3s - loss: 0.5920 - acc: 0.8752 - val_loss: 4.7478 - val_acc: 0.6005\n",
      "Epoch 218/300\n",
      " - 3s - loss: 0.6166 - acc: 0.8677 - val_loss: 4.6549 - val_acc: 0.5947\n",
      "Epoch 219/300\n",
      " - 3s - loss: 0.6069 - acc: 0.8712 - val_loss: 4.7547 - val_acc: 0.6018\n",
      "Epoch 220/300\n",
      " - 3s - loss: 0.5836 - acc: 0.8760 - val_loss: 4.7711 - val_acc: 0.6018\n",
      "Epoch 221/300\n",
      " - 3s - loss: 0.5936 - acc: 0.8754 - val_loss: 4.7098 - val_acc: 0.6002\n",
      "Epoch 222/300\n",
      " - 3s - loss: 0.5850 - acc: 0.8757 - val_loss: 4.7490 - val_acc: 0.5979\n",
      "Epoch 223/300\n",
      " - 3s - loss: 0.5888 - acc: 0.8744 - val_loss: 4.6961 - val_acc: 0.5983\n",
      "Epoch 224/300\n",
      " - 3s - loss: 0.5940 - acc: 0.8731 - val_loss: 4.7714 - val_acc: 0.6012\n",
      "Epoch 225/300\n",
      " - 3s - loss: 0.5694 - acc: 0.8800 - val_loss: 4.7360 - val_acc: 0.6028\n",
      "Epoch 226/300\n",
      " - 3s - loss: 0.5790 - acc: 0.8769 - val_loss: 4.7701 - val_acc: 0.6034\n",
      "Epoch 227/300\n",
      " - 3s - loss: 0.5959 - acc: 0.8698 - val_loss: 4.8308 - val_acc: 0.6002\n",
      "Epoch 228/300\n",
      " - 3s - loss: 0.5655 - acc: 0.8802 - val_loss: 4.7847 - val_acc: 0.6018\n",
      "Epoch 229/300\n",
      " - 4s - loss: 0.5620 - acc: 0.8823 - val_loss: 4.7793 - val_acc: 0.5979\n",
      "Epoch 230/300\n",
      " - 4s - loss: 0.5684 - acc: 0.8777 - val_loss: 4.7375 - val_acc: 0.6005\n",
      "Epoch 231/300\n",
      " - 4s - loss: 0.5607 - acc: 0.8820 - val_loss: 4.7429 - val_acc: 0.5983\n",
      "Epoch 232/300\n",
      " - 4s - loss: 0.5750 - acc: 0.8760 - val_loss: 4.7750 - val_acc: 0.6005\n",
      "Epoch 233/300\n",
      " - 4s - loss: 0.5469 - acc: 0.8848 - val_loss: 4.7670 - val_acc: 0.6005\n",
      "Epoch 234/300\n",
      " - 4s - loss: 0.5550 - acc: 0.8831 - val_loss: 4.7709 - val_acc: 0.6025\n",
      "Epoch 235/300\n",
      " - 5s - loss: 0.5475 - acc: 0.8840 - val_loss: 4.7591 - val_acc: 0.5963\n",
      "Epoch 236/300\n",
      " - 5s - loss: 0.5745 - acc: 0.8738 - val_loss: 4.7925 - val_acc: 0.6008\n",
      "Epoch 237/300\n",
      " - 5s - loss: 0.5347 - acc: 0.8886 - val_loss: 4.7885 - val_acc: 0.6008\n",
      "Epoch 238/300\n",
      " - 4s - loss: 0.5399 - acc: 0.8858 - val_loss: 4.7928 - val_acc: 0.6037\n",
      "Epoch 239/300\n",
      " - 4s - loss: 0.5370 - acc: 0.8859 - val_loss: 4.8705 - val_acc: 0.6015\n",
      "Epoch 240/300\n",
      " - 3s - loss: 0.5647 - acc: 0.8759 - val_loss: 4.8162 - val_acc: 0.6031\n",
      "Epoch 241/300\n",
      " - 3s - loss: 0.5234 - acc: 0.8898 - val_loss: 4.8151 - val_acc: 0.6012\n",
      "Epoch 242/300\n",
      " - 3s - loss: 0.5289 - acc: 0.8868 - val_loss: 4.8340 - val_acc: 0.6018\n",
      "Epoch 243/300\n",
      " - 3s - loss: 0.5317 - acc: 0.8863 - val_loss: 4.8768 - val_acc: 0.5983\n",
      "Epoch 244/300\n",
      " - 3s - loss: 0.5322 - acc: 0.8845 - val_loss: 4.8440 - val_acc: 0.6021\n",
      "Epoch 245/300\n",
      " - 3s - loss: 0.5230 - acc: 0.8876 - val_loss: 4.8266 - val_acc: 0.6018\n"
     ]
    }
   ],
   "source": [
    "epochs = 300\n",
    "batch_size = 128\n",
    "\n",
    "modelpath = 'models/pretrained-word2vec-eng-to-kor.hdf5'\n",
    "check = ModelCheckpoint(modelpath, monitor = 'val_acc', save_best_only = True, save_weights_only = True)\n",
    "early = EarlyStopping(monitor = 'val_acc', patience = 50)\n",
    "\n",
    "history = model.fit([encoder_input_data, decoder_input_data], decoder_target_data, \n",
    "                    validation_split = 0.2,\n",
    "                    callbacks = [check, early],\n",
    "                    epochs = epochs, batch_size = batch_size, verbose = 2)"
   ]
  },
  {
   "cell_type": "code",
   "execution_count": 43,
   "metadata": {},
   "outputs": [
    {
     "data": {
      "image/png": "[encoded data removed]",
      "text/plain": [
       "<Figure size 432x288 with 1 Axes>"
      ]
     },
     "metadata": {
      "needs_background": "light"
     },
     "output_type": "display_data"
    },
    {
     "data": {
      "image/png": "[encoded data removed]",
      "text/plain": [
       "<Figure size 432x288 with 1 Axes>"
      ]
     },
     "metadata": {
      "needs_background": "light"
     },
     "output_type": "display_data"
    },
    {
     "name": "stdout",
     "output_type": "stream",
     "text": [
      "epoch 194: Training Acc = 85.9%, Validation Acc = 60.440000000000005%\n"
     ]
    }
   ],
   "source": [
    "import matplotlib.pyplot as plt\n",
    "\n",
    "def history_plot(history):\n",
    "    epoch = range(1, len(history.history['loss']) + 1)\n",
    "    m = np.argmax(history.history['val_acc'])\n",
    "    \n",
    "    plt.plot(epoch, history.history['loss'], '-k', label = 'Training Loss')\n",
    "    plt.plot(epoch, history.history['val_loss'], ':r', label = 'Validation Loss')\n",
    "    plt.legend()\n",
    "    plt.show()\n",
    "\n",
    "    plt.plot(epoch, history.history['acc'], '-k', label = 'Training Acc')\n",
    "    plt.plot(epoch, history.history['val_acc'], ':r', label = 'Validation Acc')\n",
    "    plt.axvline(m, linestyle = ':', color = 'gray')\n",
    "    plt.legend()\n",
    "    plt.show()\n",
    "    \n",
    "    print('epoch {}: Training Acc = {}%, Validation Acc = {}%'.\n",
    "          format(m, np.round(history.history['acc'][m], 4)*100, np.round(history.history['val_acc'][m], 4)*100))\n",
    "\n",
    "history_plot(history)"
   ]
  },
  {
   "cell_type": "code",
   "execution_count": 44,
   "metadata": {},
   "outputs": [],
   "source": [
    "encoder_model = Model(encoder_inputs, encoder_states)\n",
    "\n",
    "decoder_state_input_h = Input(shape = (units,))\n",
    "decoder_state_input_c = Input(shape = (units,))\n",
    "decoder_states_inputs = [decoder_state_input_h, decoder_state_input_c]\n",
    "\n",
    "decoder_embedded_p = decoder_embedding_layer(decoder_inputs)\n",
    "decoder_outputs_p, state_h_p, state_c_p = decoder_rnn(\n",
    "    decoder_embedded_p, initial_state = decoder_states_inputs)\n",
    "\n",
    "decoder_states_p = [state_h_p, state_c_p]\n",
    "decoder_outputs_p = decoder_softmax_layer(decoder_outputs_p)\n",
    "\n",
    "decoder_model = Model([decoder_inputs] + decoder_states_inputs, \n",
    "                      [decoder_outputs_p] + decoder_states_p)"
   ]
  },
  {
   "cell_type": "code",
   "execution_count": 45,
   "metadata": {},
   "outputs": [],
   "source": [
    "index_to_source = dict((i, char) for char, i in source_t.word_index.items())\n",
    "index_to_target = dict((i, char) for char, i in target_t.word_index.items())"
   ]
  },
  {
   "cell_type": "code",
   "execution_count": 46,
   "metadata": {},
   "outputs": [],
   "source": [
    "def decode_sentence(input_seq):\n",
    "    states_value = encoder_model.predict(input_seq)\n",
    "    target_seq = np.zeros((1, 1))\n",
    "    target_seq[0, 0] = target_t.word_index['sos']\n",
    "    \n",
    "    stop_condition = False\n",
    "    decoded_sentence = ''\n",
    "    \n",
    "    # stop_condition이 True가 될 때까지 루프 반복\n",
    "    while not stop_condition: \n",
    "        output_tokens, h, c = decoder_model.predict([target_seq] + states_value)\n",
    "        sampled_token_index = np.argmax(output_tokens[0, -1, :])\n",
    "        sampled_char = index_to_target[sampled_token_index]\n",
    "        decoded_sentence += ' ' + sampled_char\n",
    "        \n",
    "        # 문장 끝에 도달하거나 최대 길이를 넘으면 중단\n",
    "        if (sampled_char == 'eos' or\n",
    "           len(decoded_sentence) > target_max_length):\n",
    "            stop_condition = True\n",
    "        \n",
    "        # 길이가 1인 타겟 시퀀스를 업데이트\n",
    "        target_seq = np.zeros((1, 1))\n",
    "        target_seq[0, 0] = sampled_token_index\n",
    "        \n",
    "        # 상태를 업데이트\n",
    "        states_value = [h, c]\n",
    "        \n",
    "    return decoded_sentence"
   ]
  },
  {
   "cell_type": "code",
   "execution_count": null,
   "metadata": {},
   "outputs": [],
   "source": []
  },
  {
   "cell_type": "code",
   "execution_count": null,
   "metadata": {},
   "outputs": [],
   "source": []
  }
 ],
 "metadata": {
  "accelerator": "GPU",
  "colab": {
   "collapsed_sections": [],
   "name": "사전 학습된 Word2Vec 영어-한국어 번역 모형.ipynb",
   "provenance": []
  },
  "kernelspec": {
   "display_name": "Python 3",
   "language": "python",
   "name": "python3"
  },
  "language_info": {
   "codemirror_mode": {
    "name": "ipython",
    "version": 3
   },
   "file_extension": ".py",
   "mimetype": "text/x-python",
   "name": "python",
   "nbconvert_exporter": "python",
   "pygments_lexer": "ipython3",
   "version": "3.6.7"
  }
 },
 "nbformat": 4,
 "nbformat_minor": 1
}
