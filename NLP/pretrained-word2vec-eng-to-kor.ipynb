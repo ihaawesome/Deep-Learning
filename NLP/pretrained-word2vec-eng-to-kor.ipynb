{
 "cells": [
  {
   "cell_type": "markdown",
   "metadata": {
    "colab_type": "text",
    "id": "NJ3kR_9AeUj9"
   },
   "source": [
    "## 사전 훈련된 Word2Vec을 이용한 영어-한국어 번역 모형"
   ]
  },
  {
   "cell_type": "code",
   "execution_count": 1,
   "metadata": {
    "colab": {
     "base_uri": "https://localhost:8080/",
     "height": 35
    },
    "colab_type": "code",
    "id": "yI47CHoS7k9Z",
    "outputId": "6e156e48-55e7-44a5-af7d-a622c07aecdc"
   },
   "outputs": [
    {
     "name": "stderr",
     "output_type": "stream",
     "text": [
      "Using TensorFlow backend.\n"
     ]
    }
   ],
   "source": [
    "import os\n",
    "os.chdir('C:/Users/HK/Desktop/GitHub/Deep-Learning/NLP')\n",
    "\n",
    "import gensim\n",
    "import nltk\n",
    "import konlpy\n",
    "import keras\n",
    "import numpy as np\n",
    "import pandas as pd"
   ]
  },
  {
   "cell_type": "code",
   "execution_count": null,
   "metadata": {
    "colab": {},
    "colab_type": "code",
    "id": "Z-8EDzFJeTdD"
   },
   "outputs": [],
   "source": []
  },
  {
   "cell_type": "markdown",
   "metadata": {
    "colab_type": "text",
    "id": "F1e0NtzvVS4P"
   },
   "source": [
    "> ### 사전 훈련된 워드벡터 준비\n",
    "\n",
    "- 언어별 Word2Vec 불러오기"
   ]
  },
  {
   "cell_type": "code",
   "execution_count": 3,
   "metadata": {
    "colab": {
     "base_uri": "https://localhost:8080/",
     "height": 72
    },
    "colab_type": "code",
    "id": "pbKm6wPbAAf2",
    "outputId": "1e1a5fcd-b780-404c-f962-4bf747ce2859"
   },
   "outputs": [
    {
     "name": "stderr",
     "output_type": "stream",
     "text": [
      "C:\\Anaconda3\\lib\\site-packages\\gensim\\models\\base_any2vec.py:743: UserWarning: C extension not loaded, training will be slow. Install a C compiler and reinstall gensim for fast training.\n",
      "  \"C extension not loaded, training will be slow. \"\n"
     ]
    }
   ],
   "source": [
    "from gensim.models import Word2Vec\n",
    "korvec = Word2Vec.load('datasets/ko.bin')"
   ]
  },
  {
   "cell_type": "code",
   "execution_count": 4,
   "metadata": {
    "colab": {
     "base_uri": "https://localhost:8080/",
     "height": 72
    },
    "colab_type": "code",
    "id": "rgO7LgYWDCqL",
    "outputId": "600c8a97-289d-4ec8-af85-b82eecca3dbb"
   },
   "outputs": [],
   "source": [
    "from gensim.models import KeyedVectors\n",
    "engvec = KeyedVectors.load_word2vec_format('datasets/GoogleNews-vectors-negative300.bin', binary = True)"
   ]
  },
  {
   "cell_type": "code",
   "execution_count": null,
   "metadata": {},
   "outputs": [],
   "source": []
  },
  {
   "cell_type": "markdown",
   "metadata": {
    "colab_type": "text",
    "id": "QR5wiAxScvxG"
   },
   "source": [
    "> ### 데이터 준비\n",
    "\n",
    "- 출처: Manythings.org http://www.manythings.org/anki/kor-eng.zip"
   ]
  },
  {
   "cell_type": "code",
   "execution_count": 5,
   "metadata": {
    "colab": {
     "base_uri": "https://localhost:8080/",
     "height": 394
    },
    "colab_type": "code",
    "id": "NiFf9dXIdunu",
    "outputId": "c0c6c068-592b-45ca-86db-640085840367"
   },
   "outputs": [
    {
     "name": "stdout",
     "output_type": "stream",
     "text": [
      "909 observations\n"
     ]
    },
    {
     "data": {
      "text/html": [
       "<div>\n",
       "<style scoped>\n",
       "    .dataframe tbody tr th:only-of-type {\n",
       "        vertical-align: middle;\n",
       "    }\n",
       "\n",
       "    .dataframe tbody tr th {\n",
       "        vertical-align: top;\n",
       "    }\n",
       "\n",
       "    .dataframe thead th {\n",
       "        text-align: right;\n",
       "    }\n",
       "</style>\n",
       "<table border=\"1\" class=\"dataframe\">\n",
       "  <thead>\n",
       "    <tr style=\"text-align: right;\">\n",
       "      <th></th>\n",
       "      <th>source</th>\n",
       "      <th>target</th>\n",
       "    </tr>\n",
       "  </thead>\n",
       "  <tbody>\n",
       "    <tr>\n",
       "      <th>50</th>\n",
       "      <td>I hate liars.</td>\n",
       "      <td>난 거짓말쟁이가 싫어.</td>\n",
       "    </tr>\n",
       "    <tr>\n",
       "      <th>859</th>\n",
       "      <td>Being too nervous to reply, he stared at the f...</td>\n",
       "      <td>대답하기에 너무 긴장되어서, 그는 바닥을 응시했다.</td>\n",
       "    </tr>\n",
       "    <tr>\n",
       "      <th>666</th>\n",
       "      <td>I want to learn Chinese next year.</td>\n",
       "      <td>나는 내년에 중국어를 배우고 싶다.</td>\n",
       "    </tr>\n",
       "    <tr>\n",
       "      <th>153</th>\n",
       "      <td>There aren't any.</td>\n",
       "      <td>없다.</td>\n",
       "    </tr>\n",
       "    <tr>\n",
       "      <th>327</th>\n",
       "      <td>Do you come here a lot?</td>\n",
       "      <td>여기 자주 와?</td>\n",
       "    </tr>\n",
       "    <tr>\n",
       "      <th>494</th>\n",
       "      <td>Can I take your word for it?</td>\n",
       "      <td>내가 그것에 대한 너의 말을 믿어도 되겠니?</td>\n",
       "    </tr>\n",
       "    <tr>\n",
       "      <th>107</th>\n",
       "      <td>Have a good day.</td>\n",
       "      <td>좋은하루 되세요.</td>\n",
       "    </tr>\n",
       "    <tr>\n",
       "      <th>786</th>\n",
       "      <td>It took me three hours to clean my house.</td>\n",
       "      <td>집을 청소하는데 3시간이 걸렸습니다.</td>\n",
       "    </tr>\n",
       "    <tr>\n",
       "      <th>15</th>\n",
       "      <td>Let's go!</td>\n",
       "      <td>가자!</td>\n",
       "    </tr>\n",
       "    <tr>\n",
       "      <th>688</th>\n",
       "      <td>Are you Swedish? \"No, I'm Swiss.\"</td>\n",
       "      <td>스웨덴 사람이세요? \"아니요, 스위스 사람이예요.\"</td>\n",
       "    </tr>\n",
       "  </tbody>\n",
       "</table>\n",
       "</div>"
      ],
      "text/plain": [
       "                                                source  \\\n",
       "50                                       I hate liars.   \n",
       "859  Being too nervous to reply, he stared at the f...   \n",
       "666                 I want to learn Chinese next year.   \n",
       "153                                  There aren't any.   \n",
       "327                            Do you come here a lot?   \n",
       "494                       Can I take your word for it?   \n",
       "107                                   Have a good day.   \n",
       "786          It took me three hours to clean my house.   \n",
       "15                                           Let's go!   \n",
       "688                  Are you Swedish? \"No, I'm Swiss.\"   \n",
       "\n",
       "                           target  \n",
       "50                   난 거짓말쟁이가 싫어.  \n",
       "859  대답하기에 너무 긴장되어서, 그는 바닥을 응시했다.  \n",
       "666           나는 내년에 중국어를 배우고 싶다.  \n",
       "153                           없다.  \n",
       "327                      여기 자주 와?  \n",
       "494      내가 그것에 대한 너의 말을 믿어도 되겠니?  \n",
       "107                     좋은하루 되세요.  \n",
       "786          집을 청소하는데 3시간이 걸렸습니다.  \n",
       "15                            가자!  \n",
       "688  스웨덴 사람이세요? \"아니요, 스위스 사람이예요.\"  "
      ]
     },
     "execution_count": 5,
     "metadata": {},
     "output_type": "execute_result"
    }
   ],
   "source": [
    "lines = pd.read_table('datasets/kor.txt', names = ['source', 'target'])\n",
    "print(len(lines), 'observations')\n",
    "lines.sample(10)"
   ]
  },
  {
   "cell_type": "code",
   "execution_count": 6,
   "metadata": {
    "colab": {
     "base_uri": "https://localhost:8080/",
     "height": 340
    },
    "colab_type": "code",
    "id": "ODCr0fTDjKMp",
    "outputId": "6deb8b9e-52e7-4fad-b269-d8ed3cf94947"
   },
   "outputs": [
    {
     "data": {
      "text/html": [
       "<div>\n",
       "<style scoped>\n",
       "    .dataframe tbody tr th:only-of-type {\n",
       "        vertical-align: middle;\n",
       "    }\n",
       "\n",
       "    .dataframe tbody tr th {\n",
       "        vertical-align: top;\n",
       "    }\n",
       "\n",
       "    .dataframe thead th {\n",
       "        text-align: right;\n",
       "    }\n",
       "</style>\n",
       "<table border=\"1\" class=\"dataframe\">\n",
       "  <thead>\n",
       "    <tr style=\"text-align: right;\">\n",
       "      <th></th>\n",
       "      <th>source</th>\n",
       "      <th>target</th>\n",
       "    </tr>\n",
       "  </thead>\n",
       "  <tbody>\n",
       "    <tr>\n",
       "      <th>429</th>\n",
       "      <td>I am four months pregnant.</td>\n",
       "      <td>&lt;sos&gt; 나는 임신 4개월이다. &lt;eos&gt;</td>\n",
       "    </tr>\n",
       "    <tr>\n",
       "      <th>875</th>\n",
       "      <td>I used to keep a diary in English when I was a...</td>\n",
       "      <td>&lt;sos&gt; 나는 학생일 때 영어로 일기를 쓰곤 했다. &lt;eos&gt;</td>\n",
       "    </tr>\n",
       "    <tr>\n",
       "      <th>57</th>\n",
       "      <td>We don't lie.</td>\n",
       "      <td>&lt;sos&gt; 우리는 거짓말을 하지 않아요. &lt;eos&gt;</td>\n",
       "    </tr>\n",
       "    <tr>\n",
       "      <th>207</th>\n",
       "      <td>Whose book is this?</td>\n",
       "      <td>&lt;sos&gt; 이것은 누구의 책입니까? &lt;eos&gt;</td>\n",
       "    </tr>\n",
       "    <tr>\n",
       "      <th>334</th>\n",
       "      <td>I don't understand you.</td>\n",
       "      <td>&lt;sos&gt; 선생님의 말씀은 이해가 안 됩니다. &lt;eos&gt;</td>\n",
       "    </tr>\n",
       "    <tr>\n",
       "      <th>870</th>\n",
       "      <td>Tom thanked Mary for the bottle of wine she ga...</td>\n",
       "      <td>&lt;sos&gt; 톰은 메리가 그에게 준 와인 한 병에 대하여 메리에게 감사함을 표시했다....</td>\n",
       "    </tr>\n",
       "    <tr>\n",
       "      <th>369</th>\n",
       "      <td>It's just not that easy.</td>\n",
       "      <td>&lt;sos&gt; 그것이 그렇게 쉽지는 않아. &lt;eos&gt;</td>\n",
       "    </tr>\n",
       "    <tr>\n",
       "      <th>370</th>\n",
       "      <td>Kick as hard as you can.</td>\n",
       "      <td>&lt;sos&gt; 최대한 세게 차. &lt;eos&gt;</td>\n",
       "    </tr>\n",
       "    <tr>\n",
       "      <th>428</th>\n",
       "      <td>He tried to open the door.</td>\n",
       "      <td>&lt;sos&gt; 그가 문을 열려고 하였다. &lt;eos&gt;</td>\n",
       "    </tr>\n",
       "    <tr>\n",
       "      <th>455</th>\n",
       "      <td>You will know soon enough.</td>\n",
       "      <td>&lt;sos&gt; 곧 충분히 알게 될거야. &lt;eos&gt;</td>\n",
       "    </tr>\n",
       "  </tbody>\n",
       "</table>\n",
       "</div>"
      ],
      "text/plain": [
       "                                                source  \\\n",
       "429                         I am four months pregnant.   \n",
       "875  I used to keep a diary in English when I was a...   \n",
       "57                                       We don't lie.   \n",
       "207                                Whose book is this?   \n",
       "334                            I don't understand you.   \n",
       "870  Tom thanked Mary for the bottle of wine she ga...   \n",
       "369                           It's just not that easy.   \n",
       "370                           Kick as hard as you can.   \n",
       "428                         He tried to open the door.   \n",
       "455                         You will know soon enough.   \n",
       "\n",
       "                                                target  \n",
       "429                           <sos> 나는 임신 4개월이다. <eos>  \n",
       "875                <sos> 나는 학생일 때 영어로 일기를 쓰곤 했다. <eos>  \n",
       "57                        <sos> 우리는 거짓말을 하지 않아요. <eos>  \n",
       "207                          <sos> 이것은 누구의 책입니까? <eos>  \n",
       "334                    <sos> 선생님의 말씀은 이해가 안 됩니다. <eos>  \n",
       "870  <sos> 톰은 메리가 그에게 준 와인 한 병에 대하여 메리에게 감사함을 표시했다....  \n",
       "369                        <sos> 그것이 그렇게 쉽지는 않아. <eos>  \n",
       "370                              <sos> 최대한 세게 차. <eos>  \n",
       "428                         <sos> 그가 문을 열려고 하였다. <eos>  \n",
       "455                          <sos> 곧 충분히 알게 될거야. <eos>  "
      ]
     },
     "execution_count": 6,
     "metadata": {},
     "output_type": "execute_result"
    }
   ],
   "source": [
    "lines.target = lines.target.apply(lambda x : '<sos> ' + x + ' <eos>')\n",
    "lines.sample(10)"
   ]
  },
  {
   "cell_type": "code",
   "execution_count": 7,
   "metadata": {},
   "outputs": [],
   "source": [
    "from keras.preprocessing.text import Tokenizer"
   ]
  },
  {
   "cell_type": "code",
   "execution_count": 8,
   "metadata": {},
   "outputs": [],
   "source": [
    "source_t = Tokenizer()\n",
    "source_t.fit_on_texts(lines.source)\n",
    "source_vocab_size = len(source_t.word_index) + 1\n",
    "\n",
    "target_t = Tokenizer()\n",
    "target_t.fit_on_texts(lines.target)\n",
    "target_vocab_size = len(target_t.word_index) + 1"
   ]
  },
  {
   "cell_type": "code",
   "execution_count": 9,
   "metadata": {},
   "outputs": [
    {
     "name": "stdout",
     "output_type": "stream",
     "text": [
      "1170\n",
      "2049\n"
     ]
    }
   ],
   "source": [
    "print(source_vocab_size)\n",
    "print(target_vocab_size)"
   ]
  },
  {
   "cell_type": "code",
   "execution_count": 10,
   "metadata": {},
   "outputs": [],
   "source": [
    "encoder_input_data = source_t.texts_to_sequences(lines.source)\n",
    "source_max_length = max(len(l) for l in encoder_input_data)\n",
    "\n",
    "decoder_input_data = target_t.texts_to_sequences(lines.target)\n",
    "decoder_target_data = [l[1:] for l in decoder_input_data]\n",
    "target_max_length = max(len(l) for l in decoder_input_data)"
   ]
  },
  {
   "cell_type": "code",
   "execution_count": 11,
   "metadata": {},
   "outputs": [
    {
     "name": "stdout",
     "output_type": "stream",
     "text": [
      "19\n",
      "17\n"
     ]
    }
   ],
   "source": [
    "print(source_max_length)\n",
    "print(target_max_length)"
   ]
  },
  {
   "cell_type": "code",
   "execution_count": 12,
   "metadata": {},
   "outputs": [
    {
     "name": "stdout",
     "output_type": "stream",
     "text": [
      "[92]\n",
      "[1, 264, 2]\n",
      "[264, 2]\n"
     ]
    }
   ],
   "source": [
    "# sample\n",
    "print(encoder_input_data[0])\n",
    "print(decoder_input_data[0])\n",
    "print(decoder_target_data[0])"
   ]
  },
  {
   "cell_type": "code",
   "execution_count": 13,
   "metadata": {},
   "outputs": [],
   "source": [
    "from keras.preprocessing.sequence import pad_sequences"
   ]
  },
  {
   "cell_type": "code",
   "execution_count": 14,
   "metadata": {},
   "outputs": [],
   "source": [
    "encoder_input_data = pad_sequences(\n",
    "    encoder_input_data, maxlen = source_max_length, padding = 'post')\n",
    "decoder_input_data = pad_sequences(\n",
    "    decoder_input_data, maxlen = target_max_length, padding = 'post')\n",
    "decoder_target_data = pad_sequences(\n",
    "    decoder_target_data, maxlen = target_max_length, padding = 'post')"
   ]
  },
  {
   "cell_type": "code",
   "execution_count": 41,
   "metadata": {},
   "outputs": [],
   "source": [
    "from keras.utils import to_categorical"
   ]
  },
  {
   "cell_type": "code",
   "execution_count": 42,
   "metadata": {},
   "outputs": [],
   "source": [
    "decoder_target_data = to_categorical(decoder_target_data)"
   ]
  },
  {
   "cell_type": "code",
   "execution_count": 43,
   "metadata": {},
   "outputs": [
    {
     "name": "stdout",
     "output_type": "stream",
     "text": [
      "(909, 19)\n",
      "(909, 17)\n",
      "(909, 17, 2049)\n"
     ]
    }
   ],
   "source": [
    "print(encoder_input_data.shape)\n",
    "print(decoder_input_data.shape)\n",
    "print(decoder_target_data.shape)"
   ]
  },
  {
   "cell_type": "code",
   "execution_count": null,
   "metadata": {},
   "outputs": [],
   "source": []
  },
  {
   "cell_type": "code",
   "execution_count": null,
   "metadata": {},
   "outputs": [],
   "source": []
  },
  {
   "cell_type": "code",
   "execution_count": 15,
   "metadata": {},
   "outputs": [],
   "source": [
    "encoder_embedding_dim = engvec.vector_size\n",
    "encoder_pretrained_embedding = np.zeros((source_vocab_size, encoder_embedding_dim))\n",
    "\n",
    "for word, i in source_t.word_index.items():\n",
    "    if engvec.vocab.get(word) is not None:\n",
    "        encoder_pretrained_embedding[i] = engvec.get_vector(word)"
   ]
  },
  {
   "cell_type": "code",
   "execution_count": 16,
   "metadata": {},
   "outputs": [
    {
     "name": "stdout",
     "output_type": "stream",
     "text": [
      "(1170, 300)\n"
     ]
    }
   ],
   "source": [
    "print(encoder_pretrained_embedding.shape)"
   ]
  },
  {
   "cell_type": "code",
   "execution_count": 17,
   "metadata": {},
   "outputs": [],
   "source": [
    "decoder_embedding_dim = korvec.vector_size\n",
    "decoder_pretrained_embedding = np.zeros((target_vocab_size, decoder_embedding_dim))\n",
    "\n",
    "n = 0\n",
    "for word, i in target_t.word_index.items():\n",
    "    if korvec.wv.vocab.get(word) is not None:\n",
    "        decoder_pretrained_embedding[i] = korvec.wv.get_vector(word)\n",
    "        n += 1"
   ]
  },
  {
   "cell_type": "code",
   "execution_count": 18,
   "metadata": {},
   "outputs": [
    {
     "name": "stdout",
     "output_type": "stream",
     "text": [
      "(2049, 200)\n",
      "344\n"
     ]
    }
   ],
   "source": [
    "print(decoder_pretrained_embedding.shape)\n",
    "print(n)\n",
    "# 조사 때문에 너무 적다.."
   ]
  },
  {
   "cell_type": "code",
   "execution_count": 34,
   "metadata": {},
   "outputs": [],
   "source": [
    "encoder_embedding_layer = Embedding(input_dim = source_vocab_size, \n",
    "                                    output_dim = encoder_embedding_dim,\n",
    "                                    input_length = source_max_length,\n",
    "                                    weights = [encoder_pretrained_embedding],\n",
    "                                    trainable = False)\n",
    "decoder_embedding_layer = Embedding(input_dim = target_vocab_size, \n",
    "                                    output_dim = decoder_embedding_dim,\n",
    "                                    input_length = target_max_length,\n",
    "                                    weights = [decoder_pretrained_embedding],\n",
    "                                    trainable = False)"
   ]
  },
  {
   "cell_type": "code",
   "execution_count": 35,
   "metadata": {},
   "outputs": [
    {
     "data": {
      "text/plain": [
       "1170"
      ]
     },
     "execution_count": 35,
     "metadata": {},
     "output_type": "execute_result"
    }
   ],
   "source": [
    "encoder_embedding_layer.input_dim"
   ]
  },
  {
   "cell_type": "markdown",
   "metadata": {},
   "source": [
    "> ### 시퀀스-투-시퀀스 모델"
   ]
  },
  {
   "cell_type": "code",
   "execution_count": 24,
   "metadata": {},
   "outputs": [],
   "source": [
    "from keras.layers import Input, GRU, LSTM, Embedding, Dense\n",
    "from keras.models import Model, load_model, save_model\n",
    "from keras import optimizers\n",
    "from keras import initializers\n",
    "import keras.backend as K"
   ]
  },
  {
   "cell_type": "code",
   "execution_count": 36,
   "metadata": {},
   "outputs": [],
   "source": [
    "units = 64\n",
    "\n",
    "K.clear_session()\n",
    "\n",
    "encoder_inputs = Input((source_max_length,))\n",
    "encoder_embedding = encoder_embedding_layer(encoder_inputs)\n",
    "encoder_rnn = LSTM(units = units, return_state = True)\n",
    "encoder_outputs, state_h, state_c = encoder_rnn(encoder_embedding)\n",
    "encoder_states = [state_h, state_c]\n",
    "\n",
    "decoder_inputs = Input((target_max_length,))\n",
    "decoder_embedding = decoder_embedding_layer(decoder_inputs)\n",
    "decoder_rnn = LSTM(units = units, return_sequences = True, return_state = True)\n",
    "decoder_outputs, _, _ = decoder_rnn(decoder_embedding, initial_state = encoder_states)\n",
    "\n",
    "decoder_softmax_layer = Dense(target_vocab_size, activation = 'softmax')\n",
    "decoder_outputs = decoder_softmax_layer(decoder_outputs)\n",
    "\n",
    "model = Model([encoder_inputs, decoder_inputs], decoder_outputs)"
   ]
  },
  {
   "cell_type": "code",
   "execution_count": 39,
   "metadata": {},
   "outputs": [
    {
     "name": "stdout",
     "output_type": "stream",
     "text": [
      "__________________________________________________________________________________________________\n",
      "Layer (type)                    Output Shape         Param #     Connected to                     \n",
      "==================================================================================================\n",
      "input_1 (InputLayer)            (None, 19)           0                                            \n",
      "__________________________________________________________________________________________________\n",
      "input_2 (InputLayer)            (None, 17)           0                                            \n",
      "__________________________________________________________________________________________________\n",
      "embedding_3 (Embedding)         (None, 19, 300)      351000      input_1[0][0]                    \n",
      "__________________________________________________________________________________________________\n",
      "embedding_4 (Embedding)         (None, 17, 200)      409800      input_2[0][0]                    \n",
      "__________________________________________________________________________________________________\n",
      "lstm_1 (LSTM)                   [(None, 64), (None,  93440       embedding_3[0][0]                \n",
      "__________________________________________________________________________________________________\n",
      "lstm_2 (LSTM)                   [(None, 17, 64), (No 67840       embedding_4[0][0]                \n",
      "                                                                 lstm_1[0][1]                     \n",
      "                                                                 lstm_1[0][2]                     \n",
      "__________________________________________________________________________________________________\n",
      "dense_1 (Dense)                 (None, 17, 2049)     133185      lstm_2[0][0]                     \n",
      "==================================================================================================\n",
      "Total params: 1,055,265\n",
      "Trainable params: 294,465\n",
      "Non-trainable params: 760,800\n",
      "__________________________________________________________________________________________________\n"
     ]
    }
   ],
   "source": [
    "model.compile(loss = \"categorical_crossentropy\",\n",
    "              optimizer = optimizers.adam(),\n",
    "              metrics = ['acc'])\n",
    "\n",
    "model.summary()"
   ]
  },
  {
   "cell_type": "code",
   "execution_count": 45,
   "metadata": {},
   "outputs": [],
   "source": [
    "epochs = 100\n",
    "batch_size = 128\n",
    "\n",
    "history = model.fit([encoder_input_data, decoder_input_data], decoder_target_data, \n",
    "                    validation_split = 0.2,\n",
    "                    epochs = epochs, batch_size = batch_size, verbose = 0)"
   ]
  },
  {
   "cell_type": "code",
   "execution_count": 48,
   "metadata": {},
   "outputs": [
    {
     "data": {
      "image/png": "[encoded data removed]",
      "text/plain": [
       "<Figure size 432x288 with 1 Axes>"
      ]
     },
     "metadata": {
      "needs_background": "light"
     },
     "output_type": "display_data"
    },
    {
     "data": {
      "image/png": "[encoded data removed]",
      "text/plain": [
       "<Figure size 432x288 with 1 Axes>"
      ]
     },
     "metadata": {
      "needs_background": "light"
     },
     "output_type": "display_data"
    }
   ],
   "source": [
    "import matplotlib.pyplot as plt\n",
    "\n",
    "epoch = range(1, epochs + 1)\n",
    "\n",
    "plt.plot(epoch, history.history['loss'], '-k', label = 'Training Loss')\n",
    "plt.plot(epoch, history.history['val_loss'], ':r', label = 'Validation Loss')\n",
    "plt.legend()\n",
    "plt.show()\n",
    "\n",
    "plt.plot(epoch, history.history['acc'], '-k', label = 'Training Acc')\n",
    "plt.plot(epoch, history.history['val_acc'], ':r', label = 'Validation Acc')\n",
    "plt.legend()\n",
    "plt.show()"
   ]
  },
  {
   "cell_type": "code",
   "execution_count": 50,
   "metadata": {},
   "outputs": [],
   "source": [
    "encoder_model = Model(encoder_inputs, encoder_states)\n",
    "save_model(encoder_model, 'models/pretrained-eng-to-kor-encoder.hdf5')\n",
    "\n",
    "decoder_state_input_h = Input(shape = (units,))\n",
    "decoder_state_input_c = Input(shape = (units,))\n",
    "decoder_states_inputs = [decoder_state_input_h, decoder_state_input_c]\n",
    "\n",
    "decoder_embedded_p = decoder_embedding_layer(decoder_inputs)\n",
    "decoder_outputs_p, state_h_p, state_c_p = decoder_rnn(\n",
    "    decoder_embedded_p, initial_state = decoder_states_inputs)\n",
    "\n",
    "decoder_states_p = [state_h_p, state_c_p]\n",
    "decoder_outputs_p = decoder_softmax_layer(decoder_outputs_p)\n",
    "\n",
    "decoder_model = Model([decoder_inputs] + decoder_states_inputs, \n",
    "                      [decoder_outputs_p] + decoder_states_p)"
   ]
  },
  {
   "cell_type": "code",
   "execution_count": 54,
   "metadata": {},
   "outputs": [],
   "source": [
    "index_to_source = dict((i, char) for char, i in source_t.word_index.items())\n",
    "index_to_target = dict((i, char) for char, i in target_t.word_index.items())"
   ]
  },
  {
   "cell_type": "code",
   "execution_count": 75,
   "metadata": {},
   "outputs": [],
   "source": [
    "def decode_sentence(input_seq):\n",
    "    states_value = encoder_model.predict(input_seq)\n",
    "    target_seq = np.zeros((1, 1))\n",
    "    target_seq[0, 0] = target_t.word_index['sos']\n",
    "    \n",
    "    stop_condition = False\n",
    "    decoded_sentence = ''\n",
    "    \n",
    "    # stop_condition이 True가 될 때까지 루프 반복\n",
    "    while not stop_condition: \n",
    "        output_tokens, h, c = decoder_model.predict([target_seq] + states_value)\n",
    "        sampled_token_index = np.argmax(output_tokens[0, -1, :])\n",
    "        sampled_char = index_to_target[sampled_token_index]\n",
    "        decoded_sentence += ' ' + sampled_char\n",
    "        \n",
    "        # 문장 끝에 도달하거나 최대 길이를 넘으면 중단\n",
    "        if (sampled_char == 'eos' or\n",
    "           len(decoded_sentence) > target_max_length):\n",
    "            stop_condition = True\n",
    "        \n",
    "        # 길이가 1인 타겟 시퀀스를 업데이트\n",
    "        target_seq = np.zeros((1, 1))\n",
    "        target_seq[0, 0] = sampled_token_index\n",
    "        \n",
    "        # 상태를 업데이트\n",
    "        states_value = [h, c]\n",
    "        \n",
    "    return decoded_sentence"
   ]
  },
  {
   "cell_type": "code",
   "execution_count": null,
   "metadata": {},
   "outputs": [],
   "source": []
  }
 ],
 "metadata": {
  "accelerator": "GPU",
  "colab": {
   "collapsed_sections": [],
   "name": "사전 학습된 Word2Vec 영어-한국어 번역 모형.ipynb",
   "provenance": []
  },
  "kernelspec": {
   "display_name": "Python 3",
   "language": "python",
   "name": "python3"
  },
  "language_info": {
   "codemirror_mode": {
    "name": "ipython",
    "version": 3
   },
   "file_extension": ".py",
   "mimetype": "text/x-python",
   "name": "python",
   "nbconvert_exporter": "python",
   "pygments_lexer": "ipython3",
   "version": "3.6.7"
  }
 },
 "nbformat": 4,
 "nbformat_minor": 1
}
