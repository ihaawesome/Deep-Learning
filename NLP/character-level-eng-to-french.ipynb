{
 "cells": [
  {
   "cell_type": "code",
   "execution_count": 1,
   "metadata": {},
   "outputs": [],
   "source": [
    "import os\n",
    "import pandas as pd"
   ]
  },
  {
   "cell_type": "code",
   "execution_count": 2,
   "metadata": {},
   "outputs": [],
   "source": [
    "os.chdir('C:/Users/HK/Desktop/LAB/RNN/S2S')"
   ]
  },
  {
   "cell_type": "markdown",
   "metadata": {},
   "source": [
    "### 데이터 준비"
   ]
  },
  {
   "cell_type": "code",
   "execution_count": 3,
   "metadata": {},
   "outputs": [],
   "source": [
    "lines = pd.read_table('fra.txt', names = ['source', 'target'])"
   ]
  },
  {
   "cell_type": "code",
   "execution_count": 4,
   "metadata": {},
   "outputs": [
    {
     "name": "stdout",
     "output_type": "stream",
     "text": [
      "170190 observations\n"
     ]
    },
    {
     "data": {
      "text/html": [
       "<div>\n",
       "<style scoped>\n",
       "    .dataframe tbody tr th:only-of-type {\n",
       "        vertical-align: middle;\n",
       "    }\n",
       "\n",
       "    .dataframe tbody tr th {\n",
       "        vertical-align: top;\n",
       "    }\n",
       "\n",
       "    .dataframe thead th {\n",
       "        text-align: right;\n",
       "    }\n",
       "</style>\n",
       "<table border=\"1\" class=\"dataframe\">\n",
       "  <thead>\n",
       "    <tr style=\"text-align: right;\">\n",
       "      <th></th>\n",
       "      <th>source</th>\n",
       "      <th>target</th>\n",
       "    </tr>\n",
       "  </thead>\n",
       "  <tbody>\n",
       "    <tr>\n",
       "      <th>9693</th>\n",
       "      <td>Are you certain?</td>\n",
       "      <td>En êtes-vous sûre ?</td>\n",
       "    </tr>\n",
       "    <tr>\n",
       "      <th>3581</th>\n",
       "      <td>I have to go.</td>\n",
       "      <td>Je dois m'en aller.</td>\n",
       "    </tr>\n",
       "    <tr>\n",
       "      <th>5972</th>\n",
       "      <td>It's all true.</td>\n",
       "      <td>Tout est vrai.</td>\n",
       "    </tr>\n",
       "    <tr>\n",
       "      <th>6409</th>\n",
       "      <td>They're drunk.</td>\n",
       "      <td>Elles sont saoules.</td>\n",
       "    </tr>\n",
       "    <tr>\n",
       "      <th>5924</th>\n",
       "      <td>It looks nice.</td>\n",
       "      <td>Ça a l'air bien.</td>\n",
       "    </tr>\n",
       "    <tr>\n",
       "      <th>3670</th>\n",
       "      <td>I started it.</td>\n",
       "      <td>Je l'ai démarré.</td>\n",
       "    </tr>\n",
       "    <tr>\n",
       "      <th>9839</th>\n",
       "      <td>Can we fix this?</td>\n",
       "      <td>Pouvons-nous arranger ça ?</td>\n",
       "    </tr>\n",
       "    <tr>\n",
       "      <th>410</th>\n",
       "      <td>Save Tom.</td>\n",
       "      <td>Sauvez Tom.</td>\n",
       "    </tr>\n",
       "    <tr>\n",
       "      <th>1006</th>\n",
       "      <td>Who cares?</td>\n",
       "      <td>À qui ceci importe-t-il ?</td>\n",
       "    </tr>\n",
       "    <tr>\n",
       "      <th>6466</th>\n",
       "      <td>Tie your shoe.</td>\n",
       "      <td>Attachez votre lacet.</td>\n",
       "    </tr>\n",
       "  </tbody>\n",
       "</table>\n",
       "</div>"
      ],
      "text/plain": [
       "                source                      target\n",
       "9693  Are you certain?         En êtes-vous sûre ?\n",
       "3581     I have to go.         Je dois m'en aller.\n",
       "5972    It's all true.              Tout est vrai.\n",
       "6409    They're drunk.         Elles sont saoules.\n",
       "5924    It looks nice.            Ça a l'air bien.\n",
       "3670     I started it.            Je l'ai démarré.\n",
       "9839  Can we fix this?  Pouvons-nous arranger ça ?\n",
       "410          Save Tom.                 Sauvez Tom.\n",
       "1006        Who cares?   À qui ceci importe-t-il ?\n",
       "6466    Tie your shoe.       Attachez votre lacet."
      ]
     },
     "execution_count": 4,
     "metadata": {},
     "output_type": "execute_result"
    }
   ],
   "source": [
    "print(len(lines), 'observations')\n",
    "lines = lines.head(10000) # 메모리 문제로 10000개만 사용\n",
    "lines.sample(10)"
   ]
  },
  {
   "cell_type": "code",
   "execution_count": 5,
   "metadata": {},
   "outputs": [
    {
     "data": {
      "text/html": [
       "<div>\n",
       "<style scoped>\n",
       "    .dataframe tbody tr th:only-of-type {\n",
       "        vertical-align: middle;\n",
       "    }\n",
       "\n",
       "    .dataframe tbody tr th {\n",
       "        vertical-align: top;\n",
       "    }\n",
       "\n",
       "    .dataframe thead th {\n",
       "        text-align: right;\n",
       "    }\n",
       "</style>\n",
       "<table border=\"1\" class=\"dataframe\">\n",
       "  <thead>\n",
       "    <tr style=\"text-align: right;\">\n",
       "      <th></th>\n",
       "      <th>source</th>\n",
       "      <th>target</th>\n",
       "    </tr>\n",
       "  </thead>\n",
       "  <tbody>\n",
       "    <tr>\n",
       "      <th>63</th>\n",
       "      <td>No way!</td>\n",
       "      <td>\\tEn aucune manière !\\n</td>\n",
       "    </tr>\n",
       "    <tr>\n",
       "      <th>3592</th>\n",
       "      <td>I keep a dog.</td>\n",
       "      <td>\\tJ'élève un chien.\\n</td>\n",
       "    </tr>\n",
       "    <tr>\n",
       "      <th>12</th>\n",
       "      <td>Stop!</td>\n",
       "      <td>\\tArrête-toi !\\n</td>\n",
       "    </tr>\n",
       "    <tr>\n",
       "      <th>207</th>\n",
       "      <td>Wake up.</td>\n",
       "      <td>\\tRéveille-toi !\\n</td>\n",
       "    </tr>\n",
       "    <tr>\n",
       "      <th>2775</th>\n",
       "      <td>That's ugly.</td>\n",
       "      <td>\\tC'est laid.\\n</td>\n",
       "    </tr>\n",
       "    <tr>\n",
       "      <th>651</th>\n",
       "      <td>I saw one.</td>\n",
       "      <td>\\tJ'en ai vu un.\\n</td>\n",
       "    </tr>\n",
       "    <tr>\n",
       "      <th>8741</th>\n",
       "      <td>She hugged him.</td>\n",
       "      <td>\\tElle l'enlaça.\\n</td>\n",
       "    </tr>\n",
       "    <tr>\n",
       "      <th>4413</th>\n",
       "      <td>Trust no one.</td>\n",
       "      <td>\\tNe fais confiance à personne !\\n</td>\n",
       "    </tr>\n",
       "    <tr>\n",
       "      <th>5587</th>\n",
       "      <td>I was careful.</td>\n",
       "      <td>\\tJ'étais prudente.\\n</td>\n",
       "    </tr>\n",
       "    <tr>\n",
       "      <th>8526</th>\n",
       "      <td>Keep the money.</td>\n",
       "      <td>\\tGardez l'argent.\\n</td>\n",
       "    </tr>\n",
       "  </tbody>\n",
       "</table>\n",
       "</div>"
      ],
      "text/plain": [
       "               source                              target\n",
       "63            No way!             \\tEn aucune manière !\\n\n",
       "3592    I keep a dog.               \\tJ'élève un chien.\\n\n",
       "12              Stop!                    \\tArrête-toi !\\n\n",
       "207          Wake up.                  \\tRéveille-toi !\\n\n",
       "2775     That's ugly.                     \\tC'est laid.\\n\n",
       "651        I saw one.                  \\tJ'en ai vu un.\\n\n",
       "8741  She hugged him.                  \\tElle l'enlaça.\\n\n",
       "4413    Trust no one.  \\tNe fais confiance à personne !\\n\n",
       "5587   I was careful.               \\tJ'étais prudente.\\n\n",
       "8526  Keep the money.                \\tGardez l'argent.\\n"
      ]
     },
     "execution_count": 5,
     "metadata": {},
     "output_type": "execute_result"
    }
   ],
   "source": [
    "# 문장의 시작을 의미하는 '\\t'\n",
    "# 문장의 종료를 의미하는 '\\n'를 각 문장 앞뒤에 추가히기\n",
    "\n",
    "lines.target = lines.target.apply(lambda x : '\\t' + x + '\\n')\n",
    "lines.sample(10)"
   ]
  },
  {
   "cell_type": "code",
   "execution_count": 6,
   "metadata": {},
   "outputs": [],
   "source": [
    "# 글자집합 구축\n",
    "# source, target 시퀀스 각각 사전(글자집합)에 글자 추가\n",
    "\n",
    "source_vocab = set()\n",
    "for line in lines.source: # 문장 한 줄씩 읽음\n",
    "    for char in line:     # 글자 한 개씩 읽음\n",
    "        source_vocab.add(char)\n",
    "        \n",
    "target_vocab = set()\n",
    "for line in lines.target: \n",
    "    for char in line:     \n",
    "        target_vocab.add(char)        "
   ]
  },
  {
   "cell_type": "code",
   "execution_count": 7,
   "metadata": {},
   "outputs": [
    {
     "name": "stdout",
     "output_type": "stream",
     "text": [
      "source 글자 개수: 71\n",
      "target 글자 개수: 94\n"
     ]
    }
   ],
   "source": [
    "source_vocab_size = len(source_vocab) +1\n",
    "target_vocab_size = len(target_vocab) +1\n",
    "\n",
    "print('source 글자 개수:', source_vocab_size)\n",
    "print('target 글자 개수:', target_vocab_size)"
   ]
  },
  {
   "cell_type": "code",
   "execution_count": 8,
   "metadata": {},
   "outputs": [
    {
     "name": "stdout",
     "output_type": "stream",
     "text": [
      "['1', '2', '3', '5', '6', '7', '8', '9', ':', '?']\n",
      "[',', '-', '.', '0', '1', '2', '3', '5', '8', '9']\n"
     ]
    }
   ],
   "source": [
    "# 집합을 리스트로 변환하고 정렬\n",
    "\n",
    "source_vocab = sorted(list(source_vocab))\n",
    "target_vocab = sorted(list(target_vocab))\n",
    "\n",
    "print(source_vocab[10:20])\n",
    "print(target_vocab[10:20])"
   ]
  },
  {
   "cell_type": "code",
   "execution_count": 9,
   "metadata": {},
   "outputs": [],
   "source": [
    "# 각 사전의 글자에 인덱스 부여\n",
    "\n",
    "source_to_index = dict([(word, i+1) for i, word in enumerate(source_vocab)])\n",
    "target_to_index = dict([(word, i+1) for i, word in enumerate(target_vocab)])\n",
    "\n",
    "# print(source_to_index)\n",
    "# print(target_to_index)"
   ]
  },
  {
   "cell_type": "code",
   "execution_count": 10,
   "metadata": {},
   "outputs": [],
   "source": [
    "# 시퀀스 데이터에 정수 인코딩 (영어 source)\n",
    "\n",
    "encoder_input = []\n",
    "for line in lines.source:\n",
    "    tempX = []\n",
    "    for w in line:                        # 글자 하나씩\n",
    "        tempX.append(source_to_index[w])  # 글자에 해당하는 정수 인덱스 추가\n",
    "    encoder_input.append(tempX)"
   ]
  },
  {
   "cell_type": "code",
   "execution_count": 11,
   "metadata": {},
   "outputs": [
    {
     "name": "stdout",
     "output_type": "stream",
     "text": [
      "[[27, 59, 9], [28, 53, 9], [28, 53, 9], [38, 65, 58, 2], [38, 65, 58, 2]]\n"
     ]
    }
   ],
   "source": [
    "print(encoder_input[:5])"
   ]
  },
  {
   "cell_type": "code",
   "execution_count": 12,
   "metadata": {},
   "outputs": [],
   "source": [
    "# 정수 인코딩 (한국어 target)\n",
    "\n",
    "decoder_input = []\n",
    "for line in lines.target:\n",
    "    tempX = []\n",
    "    for w in line:\n",
    "        tempX.append(target_to_index[w])\n",
    "    decoder_input.append(tempX)"
   ]
  },
  {
   "cell_type": "code",
   "execution_count": 13,
   "metadata": {},
   "outputs": [],
   "source": [
    "# 디코더의 예측 값과 비교하기 위한 실제 값 인코딩\n",
    "# 여기서는 시작 심볼 '\\t'가 있을 필요가 없음 (사전에서 0:'\\t')\n",
    "\n",
    "decoder_target = []\n",
    "for line in lines.target:\n",
    "    t = 0\n",
    "    tempX = []\n",
    "    for w in line:\n",
    "        if t > 0:\n",
    "            tempX.append(target_to_index[w])\n",
    "        t = t + 1\n",
    "    decoder_target.append(tempX)"
   ]
  },
  {
   "cell_type": "code",
   "execution_count": 14,
   "metadata": {},
   "outputs": [
    {
     "name": "stdout",
     "output_type": "stream",
     "text": [
      "source 최대 문장길이: 16\n",
      "target 최대 문장길이: 59\n"
     ]
    }
   ],
   "source": [
    "max_source_len = max([len(line) for line in lines.source])\n",
    "max_target_len = max([len(line) for line in lines.target])\n",
    "\n",
    "print('source 최대 문장길이:', max_source_len)\n",
    "print('target 최대 문장길이:', max_target_len)"
   ]
  },
  {
   "cell_type": "code",
   "execution_count": 15,
   "metadata": {},
   "outputs": [
    {
     "name": "stderr",
     "output_type": "stream",
     "text": [
      "Using TensorFlow backend.\n"
     ]
    }
   ],
   "source": [
    "# 시퀀스-투-시퀀스 모델에서 데이터 하나의 쌍끼리는 길이가 같을 필요는 없음\n",
    "# source 시퀀스, target 시퀀스끼리 각각 길이를 맞춰서 패딩하면 됨\n",
    "\n",
    "# source/target 별로 가장 최대길이에 맞춰서 패딩 (앞에 채우기)\n",
    "\n",
    "from keras.preprocessing.sequence import pad_sequences\n",
    "\n",
    "encoder_input = pad_sequences(encoder_input, max_source_len, padding = 'post')\n",
    "decoder_input = pad_sequences(decoder_input, max_target_len, padding = 'post')\n",
    "decoder_target = pad_sequences(decoder_target, max_target_len, padding = 'post')"
   ]
  },
  {
   "cell_type": "code",
   "execution_count": 16,
   "metadata": {},
   "outputs": [],
   "source": [
    "# 원-핫 인코딩\n",
    "# 글자 단위 번역기이므로 워드 임베딩 사용 안함\n",
    "\n",
    "from keras.utils.np_utils import to_categorical\n",
    "\n",
    "encoder_input = to_categorical(encoder_input)\n",
    "decoder_input = to_categorical(decoder_input)\n",
    "decoder_target = to_categorical(decoder_target)"
   ]
  },
  {
   "cell_type": "markdown",
   "metadata": {},
   "source": [
    "### SEQ2SEQ 기계번역기 훈련시키기 (교사학습)"
   ]
  },
  {
   "cell_type": "code",
   "execution_count": 17,
   "metadata": {},
   "outputs": [],
   "source": [
    "from keras.layers import Input, GRU, LSTM, Embedding, Dense\n",
    "from keras.models import Model, load_model, save_model\n",
    "from keras import optimizers\n",
    "import keras.backend as K"
   ]
  },
  {
   "cell_type": "code",
   "execution_count": 18,
   "metadata": {},
   "outputs": [],
   "source": [
    "K.clear_session()"
   ]
  },
  {
   "cell_type": "code",
   "execution_count": 19,
   "metadata": {},
   "outputs": [],
   "source": [
    "rnn_units = 128"
   ]
  },
  {
   "cell_type": "code",
   "execution_count": 20,
   "metadata": {},
   "outputs": [],
   "source": [
    "# 인코더 설계\n",
    "\n",
    "encoder_inputs = Input(shape = (None, source_vocab_size))\n",
    "encoder_lstm = LSTM(units = rnn_units, return_state = True)\n",
    "# 인코더의 내부 상태를 디코더로 넘겨줘야 하므로 state도 같이 리턴함\n",
    "\n",
    "encoder_outputs, state_h, state_c = encoder_lstm(encoder_inputs)\n",
    "# encoder_outputs는 리턴받지만 여기서는 필요없음\n",
    "\n",
    "encoder_states = [state_h, state_c]\n",
    "# 넘겨줄 인코더 statee들 (LSTM이라 2개) : 이것이 곧 컨텍스트(context) 백터"
   ]
  },
  {
   "cell_type": "code",
   "execution_count": 21,
   "metadata": {},
   "outputs": [],
   "source": [
    "# 디코더 설계\n",
    "\n",
    "decoder_inputs = Input(shape = (None, target_vocab_size))\n",
    "decoder_lstm = LSTM(units = rnn_units, return_sequences = True, return_state = True)\n",
    "decoder_outputs, _, _ = decoder_lstm(decoder_inputs, initial_state = encoder_states)\n",
    "# 디코더의 첫 상태를 인코더의 은닉 상태, 셀 상태로 함\n",
    "# 디코더에서는 리턴되는 값 중 output만 필요함\n",
    "\n",
    "decoder_softmax_layer = Dense(target_vocab_size, activation = 'softmax')\n",
    "decoder_outputs = decoder_softmax_layer(decoder_outputs)"
   ]
  },
  {
   "cell_type": "code",
   "execution_count": 22,
   "metadata": {},
   "outputs": [
    {
     "name": "stdout",
     "output_type": "stream",
     "text": [
      "__________________________________________________________________________________________________\n",
      "Layer (type)                    Output Shape         Param #     Connected to                     \n",
      "==================================================================================================\n",
      "input_1 (InputLayer)            (None, None, 71)     0                                            \n",
      "__________________________________________________________________________________________________\n",
      "input_2 (InputLayer)            (None, None, 94)     0                                            \n",
      "__________________________________________________________________________________________________\n",
      "lstm_1 (LSTM)                   [(None, 128), (None, 102400      input_1[0][0]                    \n",
      "__________________________________________________________________________________________________\n",
      "lstm_2 (LSTM)                   [(None, None, 128),  114176      input_2[0][0]                    \n",
      "                                                                 lstm_1[0][1]                     \n",
      "                                                                 lstm_1[0][2]                     \n",
      "__________________________________________________________________________________________________\n",
      "dense_1 (Dense)                 (None, None, 94)     12126       lstm_2[0][0]                     \n",
      "==================================================================================================\n",
      "Total params: 228,702\n",
      "Trainable params: 228,702\n",
      "Non-trainable params: 0\n",
      "__________________________________________________________________________________________________\n"
     ]
    }
   ],
   "source": [
    "# 모형 설계\n",
    "\n",
    "model = Model([encoder_inputs, decoder_inputs], decoder_outputs)\n",
    "# 인코더 입력과 디코더 입력을 받아서 디코더 출력\n",
    "\n",
    "model.compile(optimizer = optimizers.adam(),\n",
    "              loss = \"categorical_crossentropy\",\n",
    "              metrics = ['acc'])\n",
    "model.summary()"
   ]
  },
  {
   "cell_type": "code",
   "execution_count": 25,
   "metadata": {},
   "outputs": [
    {
     "name": "stdout",
     "output_type": "stream",
     "text": [
      "Train on 8000 samples, validate on 2000 samples\n",
      "Epoch 1/100\n",
      " - 25s - loss: 2.0440 - acc: 0.6658 - val_loss: 1.4861 - val_acc: 0.6636\n",
      "Epoch 2/100\n",
      " - 22s - loss: 1.1509 - acc: 0.7097 - val_loss: 1.1682 - val_acc: 0.6790\n",
      "Epoch 3/100\n",
      " - 23s - loss: 0.9835 - acc: 0.7319 - val_loss: 1.0614 - val_acc: 0.7046\n",
      "Epoch 4/100\n",
      " - 23s - loss: 0.9088 - acc: 0.7508 - val_loss: 1.0056 - val_acc: 0.7130\n",
      "Epoch 5/100\n",
      " - 23s - loss: 0.8556 - acc: 0.7658 - val_loss: 0.9463 - val_acc: 0.7469\n",
      "Epoch 6/100\n",
      " - 22s - loss: 0.7985 - acc: 0.7850 - val_loss: 0.8863 - val_acc: 0.7639\n",
      "Epoch 7/100\n",
      " - 23s - loss: 0.7430 - acc: 0.7979 - val_loss: 0.8300 - val_acc: 0.7707\n",
      "Epoch 8/100\n",
      " - 23s - loss: 0.6949 - acc: 0.8068 - val_loss: 0.7821 - val_acc: 0.7807\n",
      "Epoch 9/100\n",
      " - 22s - loss: 0.6557 - acc: 0.8153 - val_loss: 0.7413 - val_acc: 0.7897\n",
      "Epoch 10/100\n",
      " - 23s - loss: 0.6246 - acc: 0.8224 - val_loss: 0.7135 - val_acc: 0.7964\n",
      "Epoch 11/100\n",
      " - 22s - loss: 0.5976 - acc: 0.8291 - val_loss: 0.6867 - val_acc: 0.8010\n",
      "Epoch 12/100\n",
      " - 22s - loss: 0.5769 - acc: 0.8341 - val_loss: 0.6660 - val_acc: 0.8068\n",
      "Epoch 13/100\n",
      " - 22s - loss: 0.5612 - acc: 0.8384 - val_loss: 0.6485 - val_acc: 0.8128\n",
      "Epoch 14/100\n",
      " - 22s - loss: 0.5466 - acc: 0.8424 - val_loss: 0.6361 - val_acc: 0.8152\n",
      "Epoch 15/100\n",
      " - 23s - loss: 0.5346 - acc: 0.8457 - val_loss: 0.6226 - val_acc: 0.8185\n",
      "Epoch 16/100\n",
      " - 22s - loss: 0.5231 - acc: 0.8485 - val_loss: 0.6134 - val_acc: 0.8210\n",
      "Epoch 17/100\n",
      " - 23s - loss: 0.5127 - acc: 0.8510 - val_loss: 0.6030 - val_acc: 0.8237\n",
      "Epoch 18/100\n",
      " - 21s - loss: 0.5038 - acc: 0.8534 - val_loss: 0.5945 - val_acc: 0.8269\n",
      "Epoch 19/100\n",
      " - 23s - loss: 0.4951 - acc: 0.8557 - val_loss: 0.5912 - val_acc: 0.8270\n",
      "Epoch 20/100\n",
      " - 23s - loss: 0.4875 - acc: 0.8574 - val_loss: 0.5795 - val_acc: 0.8306\n",
      "Epoch 21/100\n",
      " - 23s - loss: 0.4797 - acc: 0.8595 - val_loss: 0.5759 - val_acc: 0.8311\n",
      "Epoch 22/100\n",
      " - 23s - loss: 0.4726 - acc: 0.8616 - val_loss: 0.5707 - val_acc: 0.8326\n",
      "Epoch 23/100\n",
      " - 22s - loss: 0.4664 - acc: 0.8632 - val_loss: 0.5613 - val_acc: 0.8359\n",
      "Epoch 24/100\n",
      " - 23s - loss: 0.4595 - acc: 0.8648 - val_loss: 0.5578 - val_acc: 0.8360\n",
      "Epoch 25/100\n",
      " - 23s - loss: 0.4534 - acc: 0.8666 - val_loss: 0.5522 - val_acc: 0.8379\n",
      "Epoch 26/100\n",
      " - 23s - loss: 0.4485 - acc: 0.8678 - val_loss: 0.5481 - val_acc: 0.8393\n",
      "Epoch 27/100\n",
      " - 23s - loss: 0.4427 - acc: 0.8695 - val_loss: 0.5451 - val_acc: 0.8394\n",
      "Epoch 28/100\n",
      " - 22s - loss: 0.4366 - acc: 0.8709 - val_loss: 0.5404 - val_acc: 0.8412\n",
      "Epoch 29/100\n",
      " - 21s - loss: 0.4311 - acc: 0.8728 - val_loss: 0.5360 - val_acc: 0.8411\n",
      "Epoch 30/100\n",
      " - 21s - loss: 0.4266 - acc: 0.8741 - val_loss: 0.5333 - val_acc: 0.8432\n",
      "Epoch 31/100\n",
      " - 21s - loss: 0.4222 - acc: 0.8753 - val_loss: 0.5289 - val_acc: 0.8446\n",
      "Epoch 32/100\n",
      " - 21s - loss: 0.4171 - acc: 0.8767 - val_loss: 0.5242 - val_acc: 0.8463\n",
      "Epoch 33/100\n",
      " - 21s - loss: 0.4117 - acc: 0.8780 - val_loss: 0.5221 - val_acc: 0.8468\n",
      "Epoch 34/100\n",
      " - 22s - loss: 0.4072 - acc: 0.8794 - val_loss: 0.5220 - val_acc: 0.8466\n",
      "Epoch 35/100\n",
      " - 22s - loss: 0.4031 - acc: 0.8803 - val_loss: 0.5171 - val_acc: 0.8486\n",
      "Epoch 36/100\n",
      " - 23s - loss: 0.3982 - acc: 0.8818 - val_loss: 0.5130 - val_acc: 0.8493\n",
      "Epoch 37/100\n",
      " - 22s - loss: 0.3938 - acc: 0.8830 - val_loss: 0.5111 - val_acc: 0.8499\n",
      "Epoch 38/100\n",
      " - 22s - loss: 0.3894 - acc: 0.8842 - val_loss: 0.5082 - val_acc: 0.8509\n",
      "Epoch 39/100\n",
      " - 22s - loss: 0.3856 - acc: 0.8853 - val_loss: 0.5060 - val_acc: 0.8518\n",
      "Epoch 40/100\n",
      " - 23s - loss: 0.3815 - acc: 0.8865 - val_loss: 0.5051 - val_acc: 0.8518\n",
      "Epoch 41/100\n",
      " - 23s - loss: 0.3776 - acc: 0.8876 - val_loss: 0.5038 - val_acc: 0.8524\n",
      "Epoch 42/100\n",
      " - 23s - loss: 0.3742 - acc: 0.8887 - val_loss: 0.5009 - val_acc: 0.8530\n",
      "Epoch 43/100\n",
      " - 22s - loss: 0.3694 - acc: 0.8900 - val_loss: 0.4980 - val_acc: 0.8537\n",
      "Epoch 44/100\n",
      " - 22s - loss: 0.3653 - acc: 0.8912 - val_loss: 0.4998 - val_acc: 0.8537\n",
      "Epoch 45/100\n",
      " - 21s - loss: 0.3620 - acc: 0.8918 - val_loss: 0.4937 - val_acc: 0.8555\n",
      "Epoch 46/100\n",
      " - 21s - loss: 0.3581 - acc: 0.8931 - val_loss: 0.4935 - val_acc: 0.8555\n",
      "Epoch 47/100\n",
      " - 22s - loss: 0.3546 - acc: 0.8940 - val_loss: 0.4919 - val_acc: 0.8558\n",
      "Epoch 48/100\n",
      " - 21s - loss: 0.3511 - acc: 0.8951 - val_loss: 0.4924 - val_acc: 0.8560\n",
      "Epoch 49/100\n",
      " - 21s - loss: 0.3470 - acc: 0.8963 - val_loss: 0.4913 - val_acc: 0.8564\n",
      "Epoch 50/100\n",
      " - 21s - loss: 0.3441 - acc: 0.8967 - val_loss: 0.4897 - val_acc: 0.8571\n",
      "Epoch 51/100\n",
      " - 21s - loss: 0.3402 - acc: 0.8983 - val_loss: 0.4879 - val_acc: 0.8581\n",
      "Epoch 52/100\n",
      " - 22s - loss: 0.3371 - acc: 0.8990 - val_loss: 0.4855 - val_acc: 0.8583\n",
      "Epoch 53/100\n",
      " - 22s - loss: 0.3334 - acc: 0.9004 - val_loss: 0.4875 - val_acc: 0.8574\n",
      "Epoch 54/100\n",
      " - 23s - loss: 0.3312 - acc: 0.9012 - val_loss: 0.4870 - val_acc: 0.8585\n",
      "Epoch 55/100\n",
      " - 23s - loss: 0.3269 - acc: 0.9020 - val_loss: 0.4904 - val_acc: 0.8572\n",
      "Epoch 56/100\n",
      " - 23s - loss: 0.3240 - acc: 0.9032 - val_loss: 0.4877 - val_acc: 0.8586\n",
      "Epoch 57/100\n",
      " - 23s - loss: 0.3209 - acc: 0.9038 - val_loss: 0.4866 - val_acc: 0.8583\n",
      "Epoch 58/100\n",
      " - 23s - loss: 0.3178 - acc: 0.9048 - val_loss: 0.4853 - val_acc: 0.8593\n",
      "Epoch 59/100\n",
      " - 23s - loss: 0.3147 - acc: 0.9058 - val_loss: 0.4880 - val_acc: 0.8595\n",
      "Epoch 60/100\n",
      " - 23s - loss: 0.3118 - acc: 0.9068 - val_loss: 0.4847 - val_acc: 0.8599\n",
      "Epoch 61/100\n",
      " - 23s - loss: 0.3089 - acc: 0.9077 - val_loss: 0.4866 - val_acc: 0.8603\n",
      "Epoch 62/100\n",
      " - 23s - loss: 0.3064 - acc: 0.9088 - val_loss: 0.4853 - val_acc: 0.8600\n",
      "Epoch 63/100\n",
      " - 23s - loss: 0.3028 - acc: 0.9095 - val_loss: 0.4827 - val_acc: 0.8613\n",
      "Epoch 64/100\n",
      " - 23s - loss: 0.2995 - acc: 0.9107 - val_loss: 0.4839 - val_acc: 0.8613\n",
      "Epoch 65/100\n",
      " - 23s - loss: 0.2970 - acc: 0.9111 - val_loss: 0.4840 - val_acc: 0.8612\n",
      "Epoch 66/100\n",
      " - 23s - loss: 0.2941 - acc: 0.9123 - val_loss: 0.4850 - val_acc: 0.8619\n",
      "Epoch 67/100\n",
      " - 22s - loss: 0.2916 - acc: 0.9129 - val_loss: 0.4849 - val_acc: 0.8615\n",
      "Epoch 68/100\n",
      " - 22s - loss: 0.2886 - acc: 0.9138 - val_loss: 0.4880 - val_acc: 0.8617\n",
      "Epoch 69/100\n",
      " - 21s - loss: 0.2858 - acc: 0.9150 - val_loss: 0.4833 - val_acc: 0.8623\n",
      "Epoch 70/100\n",
      " - 22s - loss: 0.2831 - acc: 0.9155 - val_loss: 0.4890 - val_acc: 0.8618\n",
      "Epoch 71/100\n",
      " - 21s - loss: 0.2809 - acc: 0.9162 - val_loss: 0.4886 - val_acc: 0.8621\n",
      "Epoch 72/100\n",
      " - 22s - loss: 0.2783 - acc: 0.9167 - val_loss: 0.4865 - val_acc: 0.8635\n",
      "Epoch 73/100\n",
      " - 22s - loss: 0.2758 - acc: 0.9176 - val_loss: 0.4891 - val_acc: 0.8627\n",
      "Epoch 74/100\n",
      " - 22s - loss: 0.2723 - acc: 0.9188 - val_loss: 0.4884 - val_acc: 0.8630\n",
      "Epoch 75/100\n",
      " - 23s - loss: 0.2706 - acc: 0.9190 - val_loss: 0.4931 - val_acc: 0.8627\n",
      "Epoch 76/100\n",
      " - 21s - loss: 0.2678 - acc: 0.9203 - val_loss: 0.4923 - val_acc: 0.8622\n",
      "Epoch 77/100\n",
      " - 22s - loss: 0.2661 - acc: 0.9204 - val_loss: 0.4953 - val_acc: 0.8616\n",
      "Epoch 78/100\n",
      " - 22s - loss: 0.2628 - acc: 0.9218 - val_loss: 0.4916 - val_acc: 0.8638\n",
      "Epoch 79/100\n",
      " - 23s - loss: 0.2615 - acc: 0.9215 - val_loss: 0.4919 - val_acc: 0.8634\n",
      "Epoch 80/100\n",
      " - 22s - loss: 0.2581 - acc: 0.9229 - val_loss: 0.4930 - val_acc: 0.8626\n",
      "Epoch 81/100\n",
      " - 22s - loss: 0.2563 - acc: 0.9232 - val_loss: 0.4908 - val_acc: 0.8645\n",
      "Epoch 82/100\n",
      " - 22s - loss: 0.2543 - acc: 0.9238 - val_loss: 0.4994 - val_acc: 0.8632\n",
      "Epoch 83/100\n",
      " - 21s - loss: 0.2524 - acc: 0.9244 - val_loss: 0.4972 - val_acc: 0.8631\n",
      "Epoch 84/100\n",
      " - 22s - loss: 0.2489 - acc: 0.9256 - val_loss: 0.4988 - val_acc: 0.8637\n",
      "Epoch 85/100\n",
      " - 23s - loss: 0.2479 - acc: 0.9258 - val_loss: 0.4999 - val_acc: 0.8630\n",
      "Epoch 86/100\n",
      " - 23s - loss: 0.2453 - acc: 0.9268 - val_loss: 0.5017 - val_acc: 0.8631\n",
      "Epoch 87/100\n",
      " - 23s - loss: 0.2425 - acc: 0.9275 - val_loss: 0.5032 - val_acc: 0.8634\n",
      "Epoch 88/100\n",
      " - 22s - loss: 0.2410 - acc: 0.9281 - val_loss: 0.5049 - val_acc: 0.8632\n",
      "Epoch 89/100\n",
      " - 23s - loss: 0.2391 - acc: 0.9285 - val_loss: 0.5064 - val_acc: 0.8636\n",
      "Epoch 90/100\n",
      " - 22s - loss: 0.2372 - acc: 0.9289 - val_loss: 0.5074 - val_acc: 0.8635\n",
      "Epoch 91/100\n",
      " - 22s - loss: 0.2348 - acc: 0.9299 - val_loss: 0.5080 - val_acc: 0.8640\n",
      "Epoch 92/100\n",
      " - 22s - loss: 0.2331 - acc: 0.9302 - val_loss: 0.5093 - val_acc: 0.8635\n",
      "Epoch 93/100\n",
      " - 22s - loss: 0.2316 - acc: 0.9307 - val_loss: 0.5119 - val_acc: 0.8642\n",
      "Epoch 94/100\n",
      " - 22s - loss: 0.2290 - acc: 0.9312 - val_loss: 0.5142 - val_acc: 0.8632\n",
      "Epoch 95/100\n",
      " - 22s - loss: 0.2265 - acc: 0.9321 - val_loss: 0.5172 - val_acc: 0.8626\n"
     ]
    },
    {
     "name": "stdout",
     "output_type": "stream",
     "text": [
      "Epoch 96/100\n",
      " - 21s - loss: 0.2241 - acc: 0.9329 - val_loss: 0.5166 - val_acc: 0.8635\n",
      "Epoch 97/100\n",
      " - 22s - loss: 0.2226 - acc: 0.9334 - val_loss: 0.5239 - val_acc: 0.8624\n",
      "Epoch 98/100\n",
      " - 23s - loss: 0.2207 - acc: 0.9338 - val_loss: 0.5203 - val_acc: 0.8633\n",
      "Epoch 99/100\n",
      " - 23s - loss: 0.2193 - acc: 0.9343 - val_loss: 0.5188 - val_acc: 0.8637\n",
      "Epoch 100/100\n",
      " - 22s - loss: 0.2173 - acc: 0.9351 - val_loss: 0.5218 - val_acc: 0.8630\n"
     ]
    }
   ],
   "source": [
    "epochs = 100\n",
    "batch_size = 128\n",
    "\n",
    "history = model.fit([encoder_input, decoder_input], decoder_target,\n",
    "                    validation_split = 0.2,\n",
    "                    epochs = epochs, batch_size = batch_size, verbose = 2)"
   ]
  },
  {
   "cell_type": "code",
   "execution_count": 28,
   "metadata": {},
   "outputs": [],
   "source": [
    "import matplotlib.pyplot as plt\n",
    "\n",
    "def history_plot(history, model = 1):\n",
    "    acc = history.history['acc']\n",
    "    val_acc = history.history['val_acc']\n",
    "    loss = history.history['loss']\n",
    "    val_loss = history.history['val_loss']\n",
    "    epochs = [i for i in range(len(acc))]\n",
    "    \n",
    "    plt.plot(epochs, loss, '-k', label = 'Training')\n",
    "    plt.plot(epochs, val_loss, ':r', label = 'Validation')\n",
    "    plt.title('Loss')\n",
    "    plt.legend()\n",
    "    plt.show()\n",
    "    \n",
    "    plt.plot(epochs, acc, '-k', label = 'Training')\n",
    "    plt.plot(epochs, val_acc, ':r', label = 'Validation')\n",
    "    plt.title('Accuracy')\n",
    "    plt.legend()\n",
    "    plt.show()"
   ]
  },
  {
   "cell_type": "code",
   "execution_count": 29,
   "metadata": {},
   "outputs": [
    {
     "data": {
      "image/png": "[encoded data removed]",
      "text/plain": [
       "<Figure size 432x288 with 1 Axes>"
      ]
     },
     "metadata": {
      "needs_background": "light"
     },
     "output_type": "display_data"
    },
    {
     "data": {
      "image/png": "[encoded data removed]",
      "text/plain": [
       "<Figure size 432x288 with 1 Axes>"
      ]
     },
     "metadata": {
      "needs_background": "light"
     },
     "output_type": "display_data"
    }
   ],
   "source": [
    "history_plot(history)"
   ]
  },
  {
   "cell_type": "markdown",
   "metadata": {},
   "source": [
    "### 기계번역 동작 (예측)"
   ]
  },
  {
   "cell_type": "code",
   "execution_count": 31,
   "metadata": {},
   "outputs": [],
   "source": [
    "encoder_model = Model(encoder_inputs, encoder_states)\n",
    "\n",
    "decoder_state_input_h = Input(shape = (rnn_units,))\n",
    "decoder_state_input_c = Input(shape = (rnn_units,))\n",
    "decoder_states_inputs_p = [decoder_state_input_h, decoder_state_input_c]\n",
    "decoder_outputs_p, state_h_p, state_c_p = decoder_lstm(decoder_inputs, initial_state = decoder_states_inputs_p)\n",
    "\n",
    "decoder_states_p = [state_h_p, state_c_p]\n",
    "decoder_outputs_p = decoder_softmax_layer(decoder_outputs_p)\n",
    "\n",
    "decoder_model = Model([decoder_inputs] + decoder_states_inputs_p, [decoder_outputs_p] + decoder_states_p)"
   ]
  },
  {
   "cell_type": "code",
   "execution_count": 32,
   "metadata": {},
   "outputs": [],
   "source": [
    "index_to_source = dict((i, char) for char, i in source_to_index.items())\n",
    "index_to_target = dict((i, char) for char, i in target_to_index.items())"
   ]
  },
  {
   "cell_type": "code",
   "execution_count": 33,
   "metadata": {},
   "outputs": [],
   "source": [
    "def decode_sentence(input_seq):\n",
    "    # 입력으로부터 인코더의 상태를 얻음\n",
    "    states_value = encoder_model.predict(input_seq)\n",
    "    # 문장 시작에 해당하는 원-핫 벡터 생성\n",
    "    target_seq = np.zeros((1, 1, target_vocab_size))\n",
    "    target_seq[0, 0, target_to_index['\\t']] = 1.\n",
    "\n",
    "    stop_condition = False\n",
    "    decoded_sentence = ''\n",
    "    \n",
    "    # stop_condition이 True가 될 때까지 루프 반복\n",
    "    while not stop_condition: \n",
    "        output_tokens, h, c = decoder_model.predict([target_seq] + states_value)\n",
    "        sampled_token_index = np.argmax(output_tokens[0, -1, :])\n",
    "        sampled_char = index_to_target[sampled_token_index]\n",
    "        decoded_sentence += sampled_char\n",
    "        \n",
    "        # 문장 끝에 도달하거나 최대 길이를 넘으면 중단\n",
    "        if (sampled_char == '\\n' or\n",
    "           len(decoded_sentence) > max_target_len):\n",
    "            stop_condition = True\n",
    "\n",
    "        # 길이가 1인 타겟 시퀀스를 업데이트\n",
    "        target_seq = np.zeros((1, 1, target_vocab_size))\n",
    "        target_seq[0, 0, sampled_token_index] = 1.\n",
    "\n",
    "        # 상태를 업데이트\n",
    "        states_value = [h, c]\n",
    "\n",
    "    return decoded_sentence"
   ]
  },
  {
   "cell_type": "code",
   "execution_count": 34,
   "metadata": {
    "scrolled": true
   },
   "outputs": [
    {
     "name": "stdout",
     "output_type": "stream",
     "text": [
      "--------------------------------------------------\n",
      "입력 문장: I like beer.\n",
      "정답 문장: J'aime la bière.\n",
      "번역기: J'aime le la maintenant.\n",
      "\n",
      "--------------------------------------------------\n",
      "입력 문장: You're through.\n",
      "정답 문장: Vous en avez fini.\n",
      "번역기: Vous êtes bincelle.\n",
      "\n",
      "--------------------------------------------------\n",
      "입력 문장: I'm powerless.\n",
      "정답 문장: Je suis désarmé.\n",
      "번역기: Je suis prépasée.\n",
      "\n"
     ]
    }
   ],
   "source": [
    "import numpy as np\n",
    "\n",
    "for i in np.random.randint(0, len(lines) - 1, size = 3):\n",
    "    input_sequence = encoder_input[i:i+1]\n",
    "    decoded_sentence = decode_sentence(input_sequence)\n",
    "    \n",
    "    print(50 * '-')\n",
    "    print('입력 문장:', lines.source[i])\n",
    "    print('정답 문장:', lines.target[i][1:len(lines.target[i])-1])\n",
    "    print('번역기:', decoded_sentence)"
   ]
  },
  {
   "cell_type": "code",
   "execution_count": null,
   "metadata": {},
   "outputs": [],
   "source": []
  }
 ],
 "metadata": {
  "kernelspec": {
   "display_name": "Python 3",
   "language": "python",
   "name": "python3"
  },
  "language_info": {
   "codemirror_mode": {
    "name": "ipython",
    "version": 3
   },
   "file_extension": ".py",
   "mimetype": "text/x-python",
   "name": "python",
   "nbconvert_exporter": "python",
   "pygments_lexer": "ipython3",
   "version": "3.6.7"
  }
 },
 "nbformat": 4,
 "nbformat_minor": 2
}
