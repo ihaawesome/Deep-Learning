{
 "cells": [
  {
   "cell_type": "code",
   "execution_count": 1,
   "metadata": {},
   "outputs": [],
   "source": [
    "import os\n",
    "import pandas as pd"
   ]
  },
  {
   "cell_type": "code",
   "execution_count": 2,
   "metadata": {},
   "outputs": [],
   "source": [
    "os.chdir('C:/Users/HK/Desktop/LAB/RNN/S2S')"
   ]
  },
  {
   "cell_type": "markdown",
   "metadata": {},
   "source": [
    "### 데이터 준비"
   ]
  },
  {
   "cell_type": "code",
   "execution_count": 3,
   "metadata": {},
   "outputs": [],
   "source": [
    "lines = pd.read_table('fra.txt', names = ['source', 'target'])"
   ]
  },
  {
   "cell_type": "code",
   "execution_count": 4,
   "metadata": {},
   "outputs": [
    {
     "name": "stdout",
     "output_type": "stream",
     "text": [
      "170190 observations\n"
     ]
    },
    {
     "data": {
      "text/html": [
       "<div>\n",
       "<style scoped>\n",
       "    .dataframe tbody tr th:only-of-type {\n",
       "        vertical-align: middle;\n",
       "    }\n",
       "\n",
       "    .dataframe tbody tr th {\n",
       "        vertical-align: top;\n",
       "    }\n",
       "\n",
       "    .dataframe thead th {\n",
       "        text-align: right;\n",
       "    }\n",
       "</style>\n",
       "<table border=\"1\" class=\"dataframe\">\n",
       "  <thead>\n",
       "    <tr style=\"text-align: right;\">\n",
       "      <th></th>\n",
       "      <th>source</th>\n",
       "      <th>target</th>\n",
       "    </tr>\n",
       "  </thead>\n",
       "  <tbody>\n",
       "    <tr>\n",
       "      <th>6548</th>\n",
       "      <td>Tom's healthy.</td>\n",
       "      <td>Tom est en bonne santé.</td>\n",
       "    </tr>\n",
       "    <tr>\n",
       "      <th>8928</th>\n",
       "      <td>They found out.</td>\n",
       "      <td>Ils ont découvert la chose.</td>\n",
       "    </tr>\n",
       "    <tr>\n",
       "      <th>2497</th>\n",
       "      <td>I'm touched.</td>\n",
       "      <td>Je suis touché.</td>\n",
       "    </tr>\n",
       "    <tr>\n",
       "      <th>6286</th>\n",
       "      <td>Take a shower.</td>\n",
       "      <td>Prends une douche !</td>\n",
       "    </tr>\n",
       "    <tr>\n",
       "      <th>7230</th>\n",
       "      <td>Don't be sorry.</td>\n",
       "      <td>Ne soyez pas désolés !</td>\n",
       "    </tr>\n",
       "    <tr>\n",
       "      <th>5781</th>\n",
       "      <td>I'm not a kid.</td>\n",
       "      <td>Je ne suis pas un enfant.</td>\n",
       "    </tr>\n",
       "    <tr>\n",
       "      <th>4654</th>\n",
       "      <td>You're early.</td>\n",
       "      <td>Vous êtes matinale.</td>\n",
       "    </tr>\n",
       "    <tr>\n",
       "      <th>8549</th>\n",
       "      <td>Let Tom answer.</td>\n",
       "      <td>Laissez Tom répondre.</td>\n",
       "    </tr>\n",
       "    <tr>\n",
       "      <th>5170</th>\n",
       "      <td>I am not deaf.</td>\n",
       "      <td>Je ne suis pas sourd.</td>\n",
       "    </tr>\n",
       "    <tr>\n",
       "      <th>6618</th>\n",
       "      <td>We met before.</td>\n",
       "      <td>Nous nous sommes rencontrés auparavant.</td>\n",
       "    </tr>\n",
       "  </tbody>\n",
       "</table>\n",
       "</div>"
      ],
      "text/plain": [
       "               source                                   target\n",
       "6548   Tom's healthy.                  Tom est en bonne santé.\n",
       "8928  They found out.              Ils ont découvert la chose.\n",
       "2497     I'm touched.                          Je suis touché.\n",
       "6286   Take a shower.                      Prends une douche !\n",
       "7230  Don't be sorry.                   Ne soyez pas désolés !\n",
       "5781   I'm not a kid.                Je ne suis pas un enfant.\n",
       "4654    You're early.                      Vous êtes matinale.\n",
       "8549  Let Tom answer.                    Laissez Tom répondre.\n",
       "5170   I am not deaf.                    Je ne suis pas sourd.\n",
       "6618   We met before.  Nous nous sommes rencontrés auparavant."
      ]
     },
     "execution_count": 4,
     "metadata": {},
     "output_type": "execute_result"
    }
   ],
   "source": [
    "print(len(lines), 'observations')\n",
    "lines = lines.head(10000) # 메모리 문제로 10000개만 사용\n",
    "lines.sample(10)"
   ]
  },
  {
   "cell_type": "code",
   "execution_count": 5,
   "metadata": {},
   "outputs": [
    {
     "data": {
      "text/html": [
       "<div>\n",
       "<style scoped>\n",
       "    .dataframe tbody tr th:only-of-type {\n",
       "        vertical-align: middle;\n",
       "    }\n",
       "\n",
       "    .dataframe tbody tr th {\n",
       "        vertical-align: top;\n",
       "    }\n",
       "\n",
       "    .dataframe thead th {\n",
       "        text-align: right;\n",
       "    }\n",
       "</style>\n",
       "<table border=\"1\" class=\"dataframe\">\n",
       "  <thead>\n",
       "    <tr style=\"text-align: right;\">\n",
       "      <th></th>\n",
       "      <th>source</th>\n",
       "      <th>target</th>\n",
       "    </tr>\n",
       "  </thead>\n",
       "  <tbody>\n",
       "    <tr>\n",
       "      <th>6511</th>\n",
       "      <td>Tom let us go.</td>\n",
       "      <td>\\tTom nous a laissé partir.\\n</td>\n",
       "    </tr>\n",
       "    <tr>\n",
       "      <th>7142</th>\n",
       "      <td>Did you see it?</td>\n",
       "      <td>\\tL'as-tu vu ?\\n</td>\n",
       "    </tr>\n",
       "    <tr>\n",
       "      <th>1621</th>\n",
       "      <td>Stay still.</td>\n",
       "      <td>\\tNe bouge pas.\\n</td>\n",
       "    </tr>\n",
       "    <tr>\n",
       "      <th>8918</th>\n",
       "      <td>They all drank.</td>\n",
       "      <td>\\tElles ont toutes bu.\\n</td>\n",
       "    </tr>\n",
       "    <tr>\n",
       "      <th>2719</th>\n",
       "      <td>Stay in bed.</td>\n",
       "      <td>\\tReste alité !\\n</td>\n",
       "    </tr>\n",
       "    <tr>\n",
       "      <th>5876</th>\n",
       "      <td>Is it serious?</td>\n",
       "      <td>\\tC'est grave ?\\n</td>\n",
       "    </tr>\n",
       "    <tr>\n",
       "      <th>7247</th>\n",
       "      <td>Don't buy that.</td>\n",
       "      <td>\\tN'achète pas ça.\\n</td>\n",
       "    </tr>\n",
       "    <tr>\n",
       "      <th>3644</th>\n",
       "      <td>I need money.</td>\n",
       "      <td>\\tJ'ai besoin d'argent.\\n</td>\n",
       "    </tr>\n",
       "    <tr>\n",
       "      <th>9429</th>\n",
       "      <td>Who's watching?</td>\n",
       "      <td>\\tQui est en train de regarder ?\\n</td>\n",
       "    </tr>\n",
       "    <tr>\n",
       "      <th>138</th>\n",
       "      <td>He quit.</td>\n",
       "      <td>\\tIl laissa tomber.\\n</td>\n",
       "    </tr>\n",
       "  </tbody>\n",
       "</table>\n",
       "</div>"
      ],
      "text/plain": [
       "               source                              target\n",
       "6511   Tom let us go.       \\tTom nous a laissé partir.\\n\n",
       "7142  Did you see it?                    \\tL'as-tu vu ?\\n\n",
       "1621      Stay still.                   \\tNe bouge pas.\\n\n",
       "8918  They all drank.            \\tElles ont toutes bu.\\n\n",
       "2719     Stay in bed.                   \\tReste alité !\\n\n",
       "5876   Is it serious?                   \\tC'est grave ?\\n\n",
       "7247  Don't buy that.                \\tN'achète pas ça.\\n\n",
       "3644    I need money.           \\tJ'ai besoin d'argent.\\n\n",
       "9429  Who's watching?  \\tQui est en train de regarder ?\\n\n",
       "138          He quit.               \\tIl laissa tomber.\\n"
      ]
     },
     "execution_count": 5,
     "metadata": {},
     "output_type": "execute_result"
    }
   ],
   "source": [
    "# 문장의 시작을 의미하는 '\\t'\n",
    "# 문장의 종료를 의미하는 '\\n'를 각 문장 앞뒤에 추가히기\n",
    "\n",
    "lines.target = lines.target.apply(lambda x : '\\t' + x + '\\n')\n",
    "lines.sample(10)"
   ]
  },
  {
   "cell_type": "code",
   "execution_count": 6,
   "metadata": {},
   "outputs": [],
   "source": [
    "# 글자집합 구축\n",
    "# source, target 시퀀스 각각 사전(글자집합)에 글자 추가\n",
    "\n",
    "source_vocab = set()\n",
    "for line in lines.source: # 문장 한 줄씩 읽음\n",
    "    for char in line:     # 글자 한 개씩 읽음\n",
    "        source_vocab.add(char)\n",
    "        \n",
    "target_vocab = set()\n",
    "for line in lines.target: \n",
    "    for char in line:     \n",
    "        target_vocab.add(char)        "
   ]
  },
  {
   "cell_type": "code",
   "execution_count": 7,
   "metadata": {},
   "outputs": [
    {
     "name": "stdout",
     "output_type": "stream",
     "text": [
      "source 글자 개수: 71\n",
      "target 글자 개수: 94\n"
     ]
    }
   ],
   "source": [
    "source_vocab_size = len(source_vocab) +1\n",
    "target_vocab_size = len(target_vocab) +1\n",
    "\n",
    "print('source 글자 개수:', source_vocab_size)\n",
    "print('target 글자 개수:', target_vocab_size)"
   ]
  },
  {
   "cell_type": "code",
   "execution_count": 8,
   "metadata": {},
   "outputs": [
    {
     "name": "stdout",
     "output_type": "stream",
     "text": [
      "['1', '2', '3', '5', '6', '7', '8', '9', ':', '?']\n",
      "[',', '-', '.', '0', '1', '2', '3', '5', '8', '9']\n"
     ]
    }
   ],
   "source": [
    "# 집합을 리스트로 변환하고 정렬\n",
    "\n",
    "source_vocab = sorted(list(source_vocab))\n",
    "target_vocab = sorted(list(target_vocab))\n",
    "\n",
    "print(source_vocab[10:20])\n",
    "print(target_vocab[10:20])"
   ]
  },
  {
   "cell_type": "code",
   "execution_count": 9,
   "metadata": {},
   "outputs": [],
   "source": [
    "# 각 사전의 글자에 인덱스 부여\n",
    "\n",
    "source_to_index = dict([(word, i+1) for i, word in enumerate(source_vocab)])\n",
    "target_to_index = dict([(word, i+1) for i, word in enumerate(target_vocab)])\n",
    "\n",
    "# print(source_to_index)\n",
    "# print(target_to_index)"
   ]
  },
  {
   "cell_type": "code",
   "execution_count": 10,
   "metadata": {},
   "outputs": [],
   "source": [
    "# 시퀀스 데이터에 정수 인코딩 (영어 source)\n",
    "\n",
    "encoder_input = []\n",
    "for line in lines.source:\n",
    "    tempX = []\n",
    "    for w in line:                        # 글자 하나씩\n",
    "        tempX.append(source_to_index[w])  # 글자에 해당하는 정수 인덱스 추가\n",
    "    encoder_input.append(tempX)"
   ]
  },
  {
   "cell_type": "code",
   "execution_count": 11,
   "metadata": {},
   "outputs": [
    {
     "name": "stdout",
     "output_type": "stream",
     "text": [
      "[[27, 59, 9], [28, 53, 9], [28, 53, 9], [38, 65, 58, 2], [38, 65, 58, 2]]\n"
     ]
    }
   ],
   "source": [
    "print(encoder_input[:5])"
   ]
  },
  {
   "cell_type": "code",
   "execution_count": 12,
   "metadata": {},
   "outputs": [],
   "source": [
    "# 정수 인코딩 (한국어 target)\n",
    "\n",
    "decoder_input = []\n",
    "for line in lines.target:\n",
    "    tempX = []\n",
    "    for w in line:\n",
    "        tempX.append(target_to_index[w])\n",
    "    decoder_input.append(tempX)"
   ]
  },
  {
   "cell_type": "code",
   "execution_count": 13,
   "metadata": {},
   "outputs": [],
   "source": [
    "# 디코더의 예측 값과 비교하기 위한 실제 값 인코딩\n",
    "# 여기서는 시작 심볼 '\\t'가 있을 필요가 없음 (사전에서 0:'\\t')\n",
    "\n",
    "decoder_target = []\n",
    "for line in lines.target:\n",
    "    t = 0\n",
    "    tempX = []\n",
    "    for w in line:\n",
    "        if t > 0:\n",
    "            tempX.append(target_to_index[w])\n",
    "        t = t + 1\n",
    "    decoder_target.append(tempX)"
   ]
  },
  {
   "cell_type": "code",
   "execution_count": 14,
   "metadata": {},
   "outputs": [
    {
     "name": "stdout",
     "output_type": "stream",
     "text": [
      "source 최대 문장길이: 16\n",
      "target 최대 문장길이: 59\n"
     ]
    }
   ],
   "source": [
    "max_source_len = max([len(line) for line in lines.source])\n",
    "max_target_len = max([len(line) for line in lines.target])\n",
    "\n",
    "print('source 최대 문장길이:', max_source_len)\n",
    "print('target 최대 문장길이:', max_target_len)"
   ]
  },
  {
   "cell_type": "code",
   "execution_count": 15,
   "metadata": {},
   "outputs": [
    {
     "name": "stderr",
     "output_type": "stream",
     "text": [
      "Using TensorFlow backend.\n"
     ]
    }
   ],
   "source": [
    "# 시퀀스-투-시퀀스 모델에서 데이터 하나의 쌍끼리는 길이가 같을 필요는 없음\n",
    "# source 시퀀스, target 시퀀스끼리 각각 길이를 맞춰서 패딩하면 됨\n",
    "\n",
    "# source/target 별로 가장 최대길이에 맞춰서 패딩 (앞에 채우기)\n",
    "\n",
    "from keras.preprocessing.sequence import pad_sequences\n",
    "\n",
    "encoder_input = pad_sequences(encoder_input, max_source_len, padding = 'post')\n",
    "decoder_input = pad_sequences(decoder_input, max_target_len, padding = 'post')\n",
    "decoder_target = pad_sequences(decoder_target, max_target_len, padding = 'post')"
   ]
  },
  {
   "cell_type": "code",
   "execution_count": 16,
   "metadata": {},
   "outputs": [],
   "source": [
    "# 원-핫 인코딩\n",
    "# 글자 단위 번역기이므로 워드 임베딩 사용 안함\n",
    "\n",
    "from keras.utils.np_utils import to_categorical\n",
    "\n",
    "encoder_input = to_categorical(encoder_input)\n",
    "decoder_input = to_categorical(decoder_input)\n",
    "decoder_target = to_categorical(decoder_target)"
   ]
  },
  {
   "cell_type": "markdown",
   "metadata": {},
   "source": [
    "### SEQ2SEQ 기계번역기 훈련시키기 (교사학습)"
   ]
  },
  {
   "cell_type": "code",
   "execution_count": 17,
   "metadata": {},
   "outputs": [],
   "source": [
    "from keras.layers import Input, GRU, LSTM, Embedding, Dense\n",
    "from keras.models import Model, load_model, save_model\n",
    "from keras import optimizers\n",
    "import keras.backend as K"
   ]
  },
  {
   "cell_type": "code",
   "execution_count": 18,
   "metadata": {},
   "outputs": [],
   "source": [
    "K.clear_session()"
   ]
  },
  {
   "cell_type": "code",
   "execution_count": 19,
   "metadata": {},
   "outputs": [],
   "source": [
    "rnn_units = 128"
   ]
  },
  {
   "cell_type": "code",
   "execution_count": 20,
   "metadata": {},
   "outputs": [],
   "source": [
    "# 인코더 설계\n",
    "\n",
    "encoder_inputs = Input(shape = (None, source_vocab_size))\n",
    "encoder_lstm = LSTM(units = rnn_units, return_state = True)\n",
    "# 인코더의 내부 상태를 디코더로 넘겨줘야 하므로 state도 같이 리턴함\n",
    "\n",
    "encoder_outputs, state_h, state_c = encoder_lstm(encoder_inputs)\n",
    "# encoder_outputs는 리턴받지만 여기서는 필요없음\n",
    "\n",
    "encoder_states = [state_h, state_c]\n",
    "# 넘겨줄 인코더 statee들 (LSTM이라 2개) : 이것이 곧 컨텍스트(context) 백터"
   ]
  },
  {
   "cell_type": "code",
   "execution_count": 21,
   "metadata": {},
   "outputs": [],
   "source": [
    "# 디코더 설계\n",
    "\n",
    "decoder_inputs = Input(shape = (None, target_vocab_size))\n",
    "decoder_lstm = LSTM(units = rnn_units, return_sequences = True, return_state = True)\n",
    "decoder_outputs, _, _ = decoder_lstm(decoder_inputs, initial_state = encoder_states)\n",
    "# 디코더의 첫 상태를 인코더의 은닉 상태, 셀 상태로 함\n",
    "# 디코더에서는 리턴되는 값 중 output만 필요함\n",
    "\n",
    "decoder_softmax_layer = Dense(target_vocab_size, activation = 'softmax')\n",
    "decoder_outputs = decoder_softmax_layer(decoder_outputs)"
   ]
  },
  {
   "cell_type": "code",
   "execution_count": 22,
   "metadata": {},
   "outputs": [
    {
     "name": "stdout",
     "output_type": "stream",
     "text": [
      "__________________________________________________________________________________________________\n",
      "Layer (type)                    Output Shape         Param #     Connected to                     \n",
      "==================================================================================================\n",
      "input_1 (InputLayer)            (None, None, 71)     0                                            \n",
      "__________________________________________________________________________________________________\n",
      "input_2 (InputLayer)            (None, None, 94)     0                                            \n",
      "__________________________________________________________________________________________________\n",
      "lstm_1 (LSTM)                   [(None, 128), (None, 102400      input_1[0][0]                    \n",
      "__________________________________________________________________________________________________\n",
      "lstm_2 (LSTM)                   [(None, None, 128),  114176      input_2[0][0]                    \n",
      "                                                                 lstm_1[0][1]                     \n",
      "                                                                 lstm_1[0][2]                     \n",
      "__________________________________________________________________________________________________\n",
      "dense_1 (Dense)                 (None, None, 94)     12126       lstm_2[0][0]                     \n",
      "==================================================================================================\n",
      "Total params: 228,702\n",
      "Trainable params: 228,702\n",
      "Non-trainable params: 0\n",
      "__________________________________________________________________________________________________\n"
     ]
    }
   ],
   "source": [
    "# 모형 설계\n",
    "\n",
    "model = Model([encoder_inputs, decoder_inputs], decoder_outputs)\n",
    "# 인코더 입력과 디코더 입력을 받아서 디코더 출력\n",
    "\n",
    "model.compile(optimizer = optimizers.adam(),\n",
    "              loss = \"categorical_crossentropy\",\n",
    "              metrics = ['acc'])\n",
    "model.summary()"
   ]
  },
  {
   "cell_type": "code",
   "execution_count": 23,
   "metadata": {},
   "outputs": [
    {
     "name": "stdout",
     "output_type": "stream",
     "text": [
      "Train on 8000 samples, validate on 2000 samples\n",
      "Epoch 1/100\n",
      " - 20s - loss: 2.0867 - acc: 0.6587 - val_loss: 1.4720 - val_acc: 0.6700\n",
      "Epoch 2/100\n",
      " - 18s - loss: 1.1223 - acc: 0.7185 - val_loss: 1.1418 - val_acc: 0.6903\n",
      "Epoch 3/100\n",
      " - 19s - loss: 0.9768 - acc: 0.7338 - val_loss: 1.0610 - val_acc: 0.7042\n",
      "Epoch 4/100\n",
      " - 23s - loss: 0.9096 - acc: 0.7525 - val_loss: 1.0049 - val_acc: 0.7275\n",
      "Epoch 5/100\n",
      " - 25s - loss: 0.8571 - acc: 0.7673 - val_loss: 0.9492 - val_acc: 0.7411\n",
      "Epoch 6/100\n",
      " - 24s - loss: 0.8019 - acc: 0.7830 - val_loss: 0.8903 - val_acc: 0.7579\n",
      "Epoch 7/100\n",
      " - 19s - loss: 0.7451 - acc: 0.7970 - val_loss: 0.8306 - val_acc: 0.7700\n",
      "Epoch 8/100\n",
      " - 19s - loss: 0.6935 - acc: 0.8068 - val_loss: 0.7770 - val_acc: 0.7809\n",
      "Epoch 9/100\n",
      " - 20s - loss: 0.6504 - acc: 0.8173 - val_loss: 0.7350 - val_acc: 0.7913\n",
      "Epoch 10/100\n",
      " - 24s - loss: 0.6178 - acc: 0.8250 - val_loss: 0.7054 - val_acc: 0.7980\n",
      "Epoch 11/100\n",
      " - 29s - loss: 0.5944 - acc: 0.8298 - val_loss: 0.6804 - val_acc: 0.8055\n",
      "Epoch 12/100\n",
      " - 21s - loss: 0.5746 - acc: 0.8350 - val_loss: 0.6612 - val_acc: 0.8102\n",
      "Epoch 13/100\n",
      " - 19s - loss: 0.5576 - acc: 0.8392 - val_loss: 0.6459 - val_acc: 0.8133\n",
      "Epoch 14/100\n",
      " - 21s - loss: 0.5438 - acc: 0.8429 - val_loss: 0.6324 - val_acc: 0.8168\n",
      "Epoch 15/100\n",
      " - 24s - loss: 0.5318 - acc: 0.8456 - val_loss: 0.6241 - val_acc: 0.8192\n",
      "Epoch 16/100\n",
      " - 30s - loss: 0.5206 - acc: 0.8481 - val_loss: 0.6126 - val_acc: 0.8206\n",
      "Epoch 17/100\n",
      " - 24s - loss: 0.5102 - acc: 0.8507 - val_loss: 0.5994 - val_acc: 0.8248\n",
      "Epoch 18/100\n",
      " - 20s - loss: 0.5015 - acc: 0.8533 - val_loss: 0.5932 - val_acc: 0.8268\n",
      "Epoch 19/100\n",
      " - 20s - loss: 0.4930 - acc: 0.8558 - val_loss: 0.5823 - val_acc: 0.8301\n",
      "Epoch 20/100\n",
      " - 22s - loss: 0.4847 - acc: 0.8583 - val_loss: 0.5777 - val_acc: 0.8318\n",
      "Epoch 21/100\n",
      " - 29s - loss: 0.4770 - acc: 0.8606 - val_loss: 0.5694 - val_acc: 0.8334\n",
      "Epoch 22/100\n",
      " - 31s - loss: 0.4704 - acc: 0.8623 - val_loss: 0.5645 - val_acc: 0.8346\n",
      "Epoch 23/100\n",
      " - 21s - loss: 0.4637 - acc: 0.8639 - val_loss: 0.5575 - val_acc: 0.8372\n",
      "Epoch 24/100\n",
      " - 21s - loss: 0.4567 - acc: 0.8657 - val_loss: 0.5512 - val_acc: 0.8382\n",
      "Epoch 25/100\n",
      " - 25s - loss: 0.4509 - acc: 0.8676 - val_loss: 0.5487 - val_acc: 0.8399\n",
      "Epoch 26/100\n",
      " - 28s - loss: 0.4449 - acc: 0.8692 - val_loss: 0.5441 - val_acc: 0.8407\n",
      "Epoch 27/100\n",
      " - 30s - loss: 0.4393 - acc: 0.8707 - val_loss: 0.5374 - val_acc: 0.8429\n",
      "Epoch 28/100\n",
      " - 20s - loss: 0.4338 - acc: 0.8723 - val_loss: 0.5345 - val_acc: 0.8430\n",
      "Epoch 29/100\n",
      " - 20s - loss: 0.4278 - acc: 0.8740 - val_loss: 0.5306 - val_acc: 0.8439\n",
      "Epoch 30/100\n",
      " - 22s - loss: 0.4227 - acc: 0.8755 - val_loss: 0.5262 - val_acc: 0.8457\n",
      "Epoch 31/100\n",
      " - 26s - loss: 0.4178 - acc: 0.8768 - val_loss: 0.5252 - val_acc: 0.8460\n",
      "Epoch 32/100\n",
      " - 31s - loss: 0.4131 - acc: 0.8781 - val_loss: 0.5179 - val_acc: 0.8477\n",
      "Epoch 33/100\n",
      " - 21s - loss: 0.4084 - acc: 0.8793 - val_loss: 0.5193 - val_acc: 0.8476\n",
      "Epoch 34/100\n",
      " - 18s - loss: 0.4046 - acc: 0.8804 - val_loss: 0.5154 - val_acc: 0.8485\n",
      "Epoch 35/100\n",
      " - 19s - loss: 0.3989 - acc: 0.8823 - val_loss: 0.5105 - val_acc: 0.8503\n",
      "Epoch 36/100\n",
      " - 22s - loss: 0.3952 - acc: 0.8831 - val_loss: 0.5056 - val_acc: 0.8514\n",
      "Epoch 37/100\n",
      " - 28s - loss: 0.3902 - acc: 0.8844 - val_loss: 0.5035 - val_acc: 0.8517\n",
      "Epoch 38/100\n",
      " - 26s - loss: 0.3860 - acc: 0.8857 - val_loss: 0.5024 - val_acc: 0.8518\n",
      "Epoch 39/100\n",
      " - 19s - loss: 0.3823 - acc: 0.8866 - val_loss: 0.5011 - val_acc: 0.8520\n",
      "Epoch 40/100\n",
      " - 19s - loss: 0.3783 - acc: 0.8878 - val_loss: 0.5030 - val_acc: 0.8513\n",
      "Epoch 41/100\n",
      " - 21s - loss: 0.3740 - acc: 0.8890 - val_loss: 0.4963 - val_acc: 0.8539\n",
      "Epoch 42/100\n",
      " - 25s - loss: 0.3696 - acc: 0.8903 - val_loss: 0.4939 - val_acc: 0.8552\n",
      "Epoch 43/100\n",
      " - 29s - loss: 0.3655 - acc: 0.8918 - val_loss: 0.4927 - val_acc: 0.8560\n",
      "Epoch 44/100\n",
      " - 22s - loss: 0.3622 - acc: 0.8926 - val_loss: 0.4886 - val_acc: 0.8567\n",
      "Epoch 45/100\n",
      " - 19s - loss: 0.3573 - acc: 0.8941 - val_loss: 0.4873 - val_acc: 0.8569\n",
      "Epoch 46/100\n",
      " - 20s - loss: 0.3540 - acc: 0.8950 - val_loss: 0.4876 - val_acc: 0.8570\n",
      "Epoch 47/100\n",
      " - 23s - loss: 0.3502 - acc: 0.8961 - val_loss: 0.4856 - val_acc: 0.8571\n",
      "Epoch 48/100\n",
      " - 30s - loss: 0.3464 - acc: 0.8973 - val_loss: 0.4828 - val_acc: 0.8589\n",
      "Epoch 49/100\n",
      " - 26s - loss: 0.3429 - acc: 0.8981 - val_loss: 0.4821 - val_acc: 0.8587\n",
      "Epoch 50/100\n",
      " - 20s - loss: 0.3396 - acc: 0.8994 - val_loss: 0.4805 - val_acc: 0.8599\n",
      "Epoch 51/100\n",
      " - 20s - loss: 0.3364 - acc: 0.9002 - val_loss: 0.4808 - val_acc: 0.8601\n",
      "Epoch 52/100\n",
      " - 21s - loss: 0.3330 - acc: 0.9015 - val_loss: 0.4828 - val_acc: 0.8587\n",
      "Epoch 53/100\n",
      " - 25s - loss: 0.3294 - acc: 0.9021 - val_loss: 0.4783 - val_acc: 0.8603\n",
      "Epoch 54/100\n",
      " - 30s - loss: 0.3261 - acc: 0.9033 - val_loss: 0.4773 - val_acc: 0.8605\n",
      "Epoch 55/100\n",
      " - 23s - loss: 0.3229 - acc: 0.9043 - val_loss: 0.4784 - val_acc: 0.8608\n",
      "Epoch 56/100\n",
      " - 20s - loss: 0.3204 - acc: 0.9049 - val_loss: 0.4774 - val_acc: 0.8619\n",
      "Epoch 57/100\n",
      " - 21s - loss: 0.3161 - acc: 0.9061 - val_loss: 0.4770 - val_acc: 0.8621\n",
      "Epoch 58/100\n",
      " - 26s - loss: 0.3137 - acc: 0.9068 - val_loss: 0.4767 - val_acc: 0.8618\n",
      "Epoch 59/100\n",
      " - 31s - loss: 0.3108 - acc: 0.9079 - val_loss: 0.4767 - val_acc: 0.8623\n",
      "Epoch 60/100\n",
      " - 22s - loss: 0.3079 - acc: 0.9086 - val_loss: 0.4749 - val_acc: 0.8630\n",
      "Epoch 61/100\n",
      " - 19s - loss: 0.3042 - acc: 0.9096 - val_loss: 0.4786 - val_acc: 0.8623\n",
      "Epoch 62/100\n",
      " - 20s - loss: 0.3019 - acc: 0.9103 - val_loss: 0.4776 - val_acc: 0.8619\n",
      "Epoch 63/100\n",
      " - 24s - loss: 0.2986 - acc: 0.9115 - val_loss: 0.4789 - val_acc: 0.8623\n",
      "Epoch 64/100\n",
      " - 48s - loss: 0.2958 - acc: 0.9120 - val_loss: 0.4766 - val_acc: 0.8630\n",
      "Epoch 65/100\n",
      " - 39s - loss: 0.2937 - acc: 0.9128 - val_loss: 0.4774 - val_acc: 0.8638\n",
      "Epoch 66/100\n",
      " - 37s - loss: 0.2907 - acc: 0.9136 - val_loss: 0.4773 - val_acc: 0.8633\n",
      "Epoch 67/100\n",
      " - 52s - loss: 0.2880 - acc: 0.9144 - val_loss: 0.4781 - val_acc: 0.8632\n",
      "Epoch 68/100\n",
      " - 40s - loss: 0.2852 - acc: 0.9152 - val_loss: 0.4743 - val_acc: 0.8638\n",
      "Epoch 69/100\n",
      " - 35s - loss: 0.2820 - acc: 0.9164 - val_loss: 0.4786 - val_acc: 0.8639\n",
      "Epoch 70/100\n",
      " - 45s - loss: 0.2804 - acc: 0.9167 - val_loss: 0.4793 - val_acc: 0.8629\n",
      "Epoch 71/100\n",
      " - 43s - loss: 0.2768 - acc: 0.9178 - val_loss: 0.4786 - val_acc: 0.8637\n",
      "Epoch 72/100\n",
      " - 33s - loss: 0.2747 - acc: 0.9186 - val_loss: 0.4757 - val_acc: 0.8651\n",
      "Epoch 73/100\n",
      " - 43s - loss: 0.2734 - acc: 0.9187 - val_loss: 0.4773 - val_acc: 0.8648\n",
      "Epoch 74/100\n",
      " - 45s - loss: 0.2702 - acc: 0.9197 - val_loss: 0.4814 - val_acc: 0.8638\n",
      "Epoch 75/100\n",
      " - 35s - loss: 0.2670 - acc: 0.9207 - val_loss: 0.4788 - val_acc: 0.8656\n",
      "Epoch 76/100\n",
      " - 47s - loss: 0.2647 - acc: 0.9215 - val_loss: 0.4824 - val_acc: 0.8637\n",
      "Epoch 77/100\n",
      " - 47s - loss: 0.2635 - acc: 0.9218 - val_loss: 0.4835 - val_acc: 0.8645\n",
      "Epoch 78/100\n",
      " - 36s - loss: 0.2599 - acc: 0.9228 - val_loss: 0.4815 - val_acc: 0.8647\n",
      "Epoch 79/100\n",
      " - 45s - loss: 0.2578 - acc: 0.9235 - val_loss: 0.4863 - val_acc: 0.8638\n",
      "Epoch 80/100\n",
      " - 50s - loss: 0.2562 - acc: 0.9238 - val_loss: 0.4856 - val_acc: 0.8643\n",
      "Epoch 81/100\n",
      " - 33s - loss: 0.2548 - acc: 0.9242 - val_loss: 0.4826 - val_acc: 0.8647\n",
      "Epoch 82/100\n",
      " - 38s - loss: 0.2517 - acc: 0.9252 - val_loss: 0.4855 - val_acc: 0.8647\n",
      "Epoch 83/100\n",
      " - 51s - loss: 0.2494 - acc: 0.9257 - val_loss: 0.4857 - val_acc: 0.8651\n",
      "Epoch 84/100\n",
      " - 35s - loss: 0.2476 - acc: 0.9263 - val_loss: 0.4925 - val_acc: 0.8638\n",
      "Epoch 85/100\n",
      " - 35s - loss: 0.2459 - acc: 0.9265 - val_loss: 0.4885 - val_acc: 0.8654\n",
      "Epoch 86/100\n",
      " - 45s - loss: 0.2434 - acc: 0.9276 - val_loss: 0.4907 - val_acc: 0.8648\n",
      "Epoch 87/100\n",
      " - 47s - loss: 0.2413 - acc: 0.9280 - val_loss: 0.4907 - val_acc: 0.8650\n",
      "Epoch 88/100\n",
      " - 35s - loss: 0.2392 - acc: 0.9291 - val_loss: 0.4914 - val_acc: 0.8646\n",
      "Epoch 89/100\n",
      " - 45s - loss: 0.2377 - acc: 0.9292 - val_loss: 0.4962 - val_acc: 0.8642\n",
      "Epoch 90/100\n",
      " - 55s - loss: 0.2358 - acc: 0.9299 - val_loss: 0.4969 - val_acc: 0.8642\n",
      "Epoch 91/100\n",
      " - 35s - loss: 0.2336 - acc: 0.9303 - val_loss: 0.4953 - val_acc: 0.8653\n",
      "Epoch 92/100\n",
      " - 32s - loss: 0.2321 - acc: 0.9305 - val_loss: 0.4982 - val_acc: 0.8646\n",
      "Epoch 93/100\n",
      " - 27s - loss: 0.2301 - acc: 0.9315 - val_loss: 0.4979 - val_acc: 0.8652\n",
      "Epoch 94/100\n",
      " - 34s - loss: 0.2279 - acc: 0.9320 - val_loss: 0.5021 - val_acc: 0.8645\n",
      "Epoch 95/100\n",
      " - 20s - loss: 0.2264 - acc: 0.9325 - val_loss: 0.5011 - val_acc: 0.8645\n"
     ]
    },
    {
     "name": "stdout",
     "output_type": "stream",
     "text": [
      "Epoch 96/100\n",
      " - 19s - loss: 0.2254 - acc: 0.9326 - val_loss: 0.5021 - val_acc: 0.8643\n",
      "Epoch 97/100\n",
      " - 20s - loss: 0.2221 - acc: 0.9339 - val_loss: 0.5012 - val_acc: 0.8650\n",
      "Epoch 98/100\n",
      " - 23s - loss: 0.2206 - acc: 0.9343 - val_loss: 0.5059 - val_acc: 0.8642\n",
      "Epoch 99/100\n",
      " - 29s - loss: 0.2186 - acc: 0.9347 - val_loss: 0.5066 - val_acc: 0.8644\n",
      "Epoch 100/100\n",
      " - 26s - loss: 0.2175 - acc: 0.9352 - val_loss: 0.5108 - val_acc: 0.8637\n"
     ]
    }
   ],
   "source": [
    "epochs = 100\n",
    "batch_size = 128\n",
    "\n",
    "history = model.fit([encoder_input, decoder_input], decoder_target,\n",
    "                    validation_split = 0.2,\n",
    "                    epochs = epochs, batch_size = batch_size, verbose = 2)"
   ]
  },
  {
   "cell_type": "code",
   "execution_count": 30,
   "metadata": {},
   "outputs": [],
   "source": [
    "import matplotlib.pyplot as plt\n",
    "\n",
    "def history_plot(history, model = 1):\n",
    "    acc = history.history['acc']\n",
    "    val_acc = history.history['val_acc']\n",
    "    loss = history.history['loss']\n",
    "    val_loss = history.history['val_loss']\n",
    "    epochs = [i for i in range(len(acc))]\n",
    "    \n",
    "    plt.plot(epochs, loss, '-k', label = 'Training')\n",
    "    plt.plot(epochs, val_loss, ':r', label = 'Validation')\n",
    "    plt.title('Loss')\n",
    "    plt.legend()\n",
    "    plt.show()\n",
    "    \n",
    "    plt.plot(epochs, acc, '-k', label = 'Training')\n",
    "    plt.plot(epochs, val_acc, ':r', label = 'Validation')\n",
    "    plt.title('Accuracy')\n",
    "    plt.legend()\n",
    "    plt.show()"
   ]
  },
  {
   "cell_type": "code",
   "execution_count": 31,
   "metadata": {},
   "outputs": [
    {
     "data": {
      "image/png": "[encoded data removed]",
      "text/plain": [
       "<Figure size 432x288 with 1 Axes>"
      ]
     },
     "metadata": {
      "needs_background": "light"
     },
     "output_type": "display_data"
    },
    {
     "data": {
      "image/png": "[encoded data removed]",
      "text/plain": [
       "<Figure size 432x288 with 1 Axes>"
      ]
     },
     "metadata": {
      "needs_background": "light"
     },
     "output_type": "display_data"
    }
   ],
   "source": [
    "history_plot(history)"
   ]
  },
  {
   "cell_type": "markdown",
   "metadata": {},
   "source": [
    "### 기계번역 동작 (예측)"
   ]
  },
  {
   "cell_type": "code",
   "execution_count": 26,
   "metadata": {},
   "outputs": [],
   "source": [
    "encoder_model = Model(encoder_inputs, encoder_states)\n",
    "\n",
    "decoder_state_input_h = Input(shape = (rnn_units,))\n",
    "decoder_state_input_c = Input(shape = (rnn_units,))\n",
    "decoder_states_inputs_p = [decoder_state_input_h, decoder_state_input_c]\n",
    "decoder_outputs_p, state_h_p, state_c_p = decoder_lstm(\n",
    "    decoder_inputs, initial_state = decoder_states_inputs_p)\n",
    "\n",
    "decoder_states_p = [state_h_p, state_c_p]\n",
    "decoder_outputs_p = decoder_softmax_layer(decoder_outputs_p)\n",
    "\n",
    "decoder_model = Model([decoder_inputs] + decoder_states_inputs_p, [decoder_outputs_p] + decoder_states_p)"
   ]
  },
  {
   "cell_type": "code",
   "execution_count": 27,
   "metadata": {},
   "outputs": [],
   "source": [
    "index_to_source = dict((i, char) for char, i in source_to_index.items())\n",
    "index_to_target = dict((i, char) for char, i in target_to_index.items())"
   ]
  },
  {
   "cell_type": "code",
   "execution_count": 28,
   "metadata": {},
   "outputs": [],
   "source": [
    "def decode_sentence(input_seq):\n",
    "    # 입력으로부터 인코더의 상태를 얻음\n",
    "    states_value = encoder_model.predict(input_seq)\n",
    "    # 문장 시작에 해당하는 원-핫 벡터 생성\n",
    "    target_seq = np.zeros((1, 1, target_vocab_size))\n",
    "    target_seq[0, 0, target_to_index['\\t']] = 1.\n",
    "\n",
    "    stop_condition = False\n",
    "    decoded_sentence = ''\n",
    "    \n",
    "    # stop_condition이 True가 될 때까지 루프 반복\n",
    "    while not stop_condition: \n",
    "        output_tokens, h, c = decoder_model.predict([target_seq] + states_value)\n",
    "        sampled_token_index = np.argmax(output_tokens[0, -1, :])\n",
    "        sampled_char = index_to_target[sampled_token_index]\n",
    "        decoded_sentence += sampled_char\n",
    "        \n",
    "        # 문장 끝에 도달하거나 최대 길이를 넘으면 중단\n",
    "        if (sampled_char == '\\n' or\n",
    "           len(decoded_sentence) > max_target_len):\n",
    "            stop_condition = True\n",
    "\n",
    "        # 길이가 1인 타겟 시퀀스를 업데이트\n",
    "        target_seq = np.zeros((1, 1, target_vocab_size))\n",
    "        target_seq[0, 0, sampled_token_index] = 1.\n",
    "\n",
    "        # 상태를 업데이트\n",
    "        states_value = [h, c]\n",
    "\n",
    "    return decoded_sentence"
   ]
  },
  {
   "cell_type": "code",
   "execution_count": 34,
   "metadata": {
    "scrolled": true
   },
   "outputs": [
    {
     "name": "stdout",
     "output_type": "stream",
     "text": [
      "--------------------------------------------------\n",
      "입력 문장: I'll get it.\n",
      "정답 문장: Je vais aller le chercher.\n",
      "번역기: J'achiterai.\n",
      "\n",
      "--------------------------------------------------\n",
      "입력 문장: I'm grounded.\n",
      "정답 문장: Je suis cloué.\n",
      "번역기: Je suis pristé.\n",
      "\n",
      "--------------------------------------------------\n",
      "입력 문장: What a mess!\n",
      "정답 문장: Quelle pagaille !\n",
      "번역기: Quel moure !\n",
      "\n"
     ]
    }
   ],
   "source": [
    "import numpy as np\n",
    "\n",
    "for i in np.random.randint(0, len(lines) - 1, size = 3):\n",
    "    input_sequence = encoder_input[i:i + 1]\n",
    "    decoded_sentence = decode_sentence(input_sequence)\n",
    "    \n",
    "    print(50 * '-')\n",
    "    print('입력 문장:', lines.source[i])\n",
    "    print('정답 문장:', lines.target[i][1:len(lines.target[i]) - 1])\n",
    "    print('번역기:', decoded_sentence)"
   ]
  },
  {
   "cell_type": "code",
   "execution_count": null,
   "metadata": {},
   "outputs": [],
   "source": []
  }
 ],
 "metadata": {
  "kernelspec": {
   "display_name": "Python 3",
   "language": "python",
   "name": "python3"
  },
  "language_info": {
   "codemirror_mode": {
    "name": "ipython",
    "version": 3
   },
   "file_extension": ".py",
   "mimetype": "text/x-python",
   "name": "python",
   "nbconvert_exporter": "python",
   "pygments_lexer": "ipython3",
   "version": "3.6.7"
  }
 },
 "nbformat": 4,
 "nbformat_minor": 2
}
