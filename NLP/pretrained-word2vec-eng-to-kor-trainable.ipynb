{
 "cells": [
  {
   "cell_type": "markdown",
   "metadata": {
    "colab_type": "text",
    "id": "NJ3kR_9AeUj9"
   },
   "source": [
    "## 사전 훈련된 Word2Vec을 이용한 영어-한국어 번역 모형"
   ]
  },
  {
   "cell_type": "code",
   "execution_count": 1,
   "metadata": {
    "colab": {
     "base_uri": "https://localhost:8080/",
     "height": 35
    },
    "colab_type": "code",
    "id": "yI47CHoS7k9Z",
    "outputId": "6e156e48-55e7-44a5-af7d-a622c07aecdc"
   },
   "outputs": [
    {
     "name": "stderr",
     "output_type": "stream",
     "text": [
      "Using TensorFlow backend.\n"
     ]
    }
   ],
   "source": [
    "import os\n",
    "os.chdir('C:/Users/HK/Desktop/GitHub/Deep-Learning/NLP')\n",
    "\n",
    "import gensim\n",
    "import nltk\n",
    "import konlpy\n",
    "import keras\n",
    "import numpy as np\n",
    "import pandas as pd"
   ]
  },
  {
   "cell_type": "code",
   "execution_count": null,
   "metadata": {
    "colab": {},
    "colab_type": "code",
    "id": "Z-8EDzFJeTdD"
   },
   "outputs": [],
   "source": []
  },
  {
   "cell_type": "markdown",
   "metadata": {
    "colab_type": "text",
    "id": "F1e0NtzvVS4P"
   },
   "source": [
    "> ### 사전 훈련된 워드벡터 준비\n",
    "\n",
    "- 언어별 Word2Vec 불러오기"
   ]
  },
  {
   "cell_type": "code",
   "execution_count": 2,
   "metadata": {
    "colab": {
     "base_uri": "https://localhost:8080/",
     "height": 72
    },
    "colab_type": "code",
    "id": "pbKm6wPbAAf2",
    "outputId": "1e1a5fcd-b780-404c-f962-4bf747ce2859"
   },
   "outputs": [
    {
     "name": "stderr",
     "output_type": "stream",
     "text": [
      "C:\\Anaconda3\\lib\\site-packages\\gensim\\models\\base_any2vec.py:743: UserWarning: C extension not loaded, training will be slow. Install a C compiler and reinstall gensim for fast training.\n",
      "  \"C extension not loaded, training will be slow. \"\n"
     ]
    }
   ],
   "source": [
    "from gensim.models import Word2Vec\n",
    "korvec = Word2Vec.load('datasets/ko.bin')"
   ]
  },
  {
   "cell_type": "code",
   "execution_count": 3,
   "metadata": {
    "colab": {
     "base_uri": "https://localhost:8080/",
     "height": 72
    },
    "colab_type": "code",
    "id": "rgO7LgYWDCqL",
    "outputId": "600c8a97-289d-4ec8-af85-b82eecca3dbb"
   },
   "outputs": [],
   "source": [
    "from gensim.models import KeyedVectors\n",
    "engvec = KeyedVectors.load_word2vec_format('datasets/GoogleNews-vectors-negative300.bin', binary = True)"
   ]
  },
  {
   "cell_type": "code",
   "execution_count": null,
   "metadata": {},
   "outputs": [],
   "source": []
  },
  {
   "cell_type": "markdown",
   "metadata": {
    "colab_type": "text",
    "id": "QR5wiAxScvxG"
   },
   "source": [
    "> ### 데이터 준비\n",
    "\n",
    "- 출처: Manythings.org http://www.manythings.org/anki/kor-eng.zip"
   ]
  },
  {
   "cell_type": "code",
   "execution_count": 4,
   "metadata": {
    "colab": {
     "base_uri": "https://localhost:8080/",
     "height": 394
    },
    "colab_type": "code",
    "id": "NiFf9dXIdunu",
    "outputId": "c0c6c068-592b-45ca-86db-640085840367"
   },
   "outputs": [
    {
     "name": "stdout",
     "output_type": "stream",
     "text": [
      "909 observations\n"
     ]
    },
    {
     "data": {
      "text/html": [
       "<div>\n",
       "<style scoped>\n",
       "    .dataframe tbody tr th:only-of-type {\n",
       "        vertical-align: middle;\n",
       "    }\n",
       "\n",
       "    .dataframe tbody tr th {\n",
       "        vertical-align: top;\n",
       "    }\n",
       "\n",
       "    .dataframe thead th {\n",
       "        text-align: right;\n",
       "    }\n",
       "</style>\n",
       "<table border=\"1\" class=\"dataframe\">\n",
       "  <thead>\n",
       "    <tr style=\"text-align: right;\">\n",
       "      <th></th>\n",
       "      <th>source</th>\n",
       "      <th>target</th>\n",
       "    </tr>\n",
       "  </thead>\n",
       "  <tbody>\n",
       "    <tr>\n",
       "      <th>373</th>\n",
       "      <td>Let's go somewhere warm.</td>\n",
       "      <td>따뜻한 곳에 가자.</td>\n",
       "    </tr>\n",
       "    <tr>\n",
       "      <th>279</th>\n",
       "      <td>That's my dictionary.</td>\n",
       "      <td>그건 내 사전이야.</td>\n",
       "    </tr>\n",
       "    <tr>\n",
       "      <th>355</th>\n",
       "      <td>He invited me to dinner.</td>\n",
       "      <td>그는 나를 저녁 식사에 초대했다.</td>\n",
       "    </tr>\n",
       "    <tr>\n",
       "      <th>843</th>\n",
       "      <td>How many boys do you have? \"I only have one.\"</td>\n",
       "      <td>형제가 몇 명이나 있어? \"한 명 있어.\"</td>\n",
       "    </tr>\n",
       "    <tr>\n",
       "      <th>847</th>\n",
       "      <td>Tom currently lives alone in a small apartment.</td>\n",
       "      <td>탐은 현재 작은 아파트에서 혼자 살고 있다.</td>\n",
       "    </tr>\n",
       "    <tr>\n",
       "      <th>640</th>\n",
       "      <td>He went on walking for two hours.</td>\n",
       "      <td>그는 두 시간 동안 더 걸었다.</td>\n",
       "    </tr>\n",
       "    <tr>\n",
       "      <th>189</th>\n",
       "      <td>Excuse me a minute.</td>\n",
       "      <td>잠깐 실례합니다.</td>\n",
       "    </tr>\n",
       "    <tr>\n",
       "      <th>679</th>\n",
       "      <td>Snakes are cold-blooded creatures.</td>\n",
       "      <td>뱀들은 냉혈동물이다.</td>\n",
       "    </tr>\n",
       "    <tr>\n",
       "      <th>648</th>\n",
       "      <td>Let's hear the rest of the story.</td>\n",
       "      <td>이야기를 마저 들어보자.</td>\n",
       "    </tr>\n",
       "    <tr>\n",
       "      <th>42</th>\n",
       "      <td>You're mine.</td>\n",
       "      <td>넌 내 거야.</td>\n",
       "    </tr>\n",
       "  </tbody>\n",
       "</table>\n",
       "</div>"
      ],
      "text/plain": [
       "                                              source                    target\n",
       "373                         Let's go somewhere warm.                따뜻한 곳에 가자.\n",
       "279                            That's my dictionary.                그건 내 사전이야.\n",
       "355                         He invited me to dinner.        그는 나를 저녁 식사에 초대했다.\n",
       "843    How many boys do you have? \"I only have one.\"   형제가 몇 명이나 있어? \"한 명 있어.\"\n",
       "847  Tom currently lives alone in a small apartment.  탐은 현재 작은 아파트에서 혼자 살고 있다.\n",
       "640                He went on walking for two hours.         그는 두 시간 동안 더 걸었다.\n",
       "189                              Excuse me a minute.                 잠깐 실례합니다.\n",
       "679               Snakes are cold-blooded creatures.               뱀들은 냉혈동물이다.\n",
       "648                Let's hear the rest of the story.             이야기를 마저 들어보자.\n",
       "42                                      You're mine.                   넌 내 거야."
      ]
     },
     "execution_count": 4,
     "metadata": {},
     "output_type": "execute_result"
    }
   ],
   "source": [
    "lines = pd.read_table('datasets/kor.txt', names = ['source', 'target'])\n",
    "print(len(lines), 'observations')\n",
    "lines.sample(10)"
   ]
  },
  {
   "cell_type": "code",
   "execution_count": 5,
   "metadata": {
    "colab": {
     "base_uri": "https://localhost:8080/",
     "height": 340
    },
    "colab_type": "code",
    "id": "ODCr0fTDjKMp",
    "outputId": "6deb8b9e-52e7-4fad-b269-d8ed3cf94947"
   },
   "outputs": [
    {
     "data": {
      "text/html": [
       "<div>\n",
       "<style scoped>\n",
       "    .dataframe tbody tr th:only-of-type {\n",
       "        vertical-align: middle;\n",
       "    }\n",
       "\n",
       "    .dataframe tbody tr th {\n",
       "        vertical-align: top;\n",
       "    }\n",
       "\n",
       "    .dataframe thead th {\n",
       "        text-align: right;\n",
       "    }\n",
       "</style>\n",
       "<table border=\"1\" class=\"dataframe\">\n",
       "  <thead>\n",
       "    <tr style=\"text-align: right;\">\n",
       "      <th></th>\n",
       "      <th>source</th>\n",
       "      <th>target</th>\n",
       "    </tr>\n",
       "  </thead>\n",
       "  <tbody>\n",
       "    <tr>\n",
       "      <th>553</th>\n",
       "      <td>You need to accept your role.</td>\n",
       "      <td>&lt;sos&gt; 넌 너의 역할을 받아들일 필요가 있어. &lt;eos&gt;</td>\n",
       "    </tr>\n",
       "    <tr>\n",
       "      <th>666</th>\n",
       "      <td>I want to learn Chinese next year.</td>\n",
       "      <td>&lt;sos&gt; 나는 내년에 중국어를 배우고 싶다. &lt;eos&gt;</td>\n",
       "    </tr>\n",
       "    <tr>\n",
       "      <th>681</th>\n",
       "      <td>Tom and Mary are in the same boat.</td>\n",
       "      <td>&lt;sos&gt; 톰과 마리는 같은 배를 탔다. &lt;eos&gt;</td>\n",
       "    </tr>\n",
       "    <tr>\n",
       "      <th>499</th>\n",
       "      <td>I already know you did that.</td>\n",
       "      <td>&lt;sos&gt; 네가 그것을 했다는 것을 이미 알고 있다. &lt;eos&gt;</td>\n",
       "    </tr>\n",
       "    <tr>\n",
       "      <th>701</th>\n",
       "      <td>Tom began to sing \"Happy Birthday.\"</td>\n",
       "      <td>&lt;sos&gt; Tom이 \"Happy Birthday\" 노래를 부르기 시작했다. &lt;eos&gt;</td>\n",
       "    </tr>\n",
       "    <tr>\n",
       "      <th>552</th>\n",
       "      <td>Why don't you leave me alone?</td>\n",
       "      <td>&lt;sos&gt; 날 좀 가만히 내버려 둬. &lt;eos&gt;</td>\n",
       "    </tr>\n",
       "    <tr>\n",
       "      <th>27</th>\n",
       "      <td>Hold still.</td>\n",
       "      <td>&lt;sos&gt; 가만히 있으세요. &lt;eos&gt;</td>\n",
       "    </tr>\n",
       "    <tr>\n",
       "      <th>593</th>\n",
       "      <td>It rained throughout the night.</td>\n",
       "      <td>&lt;sos&gt; 밤새 비가 내렸다. &lt;eos&gt;</td>\n",
       "    </tr>\n",
       "    <tr>\n",
       "      <th>848</th>\n",
       "      <td>You need good equipment to climb that mountain.</td>\n",
       "      <td>&lt;sos&gt; 저 산에 오르려면 좋은 장비가 있어야 돼. &lt;eos&gt;</td>\n",
       "    </tr>\n",
       "    <tr>\n",
       "      <th>663</th>\n",
       "      <td>I hope you tore up my last letter.</td>\n",
       "      <td>&lt;sos&gt; 내 마지막 편지는 찢어 버렸길 바란다. &lt;eos&gt;</td>\n",
       "    </tr>\n",
       "  </tbody>\n",
       "</table>\n",
       "</div>"
      ],
      "text/plain": [
       "                                              source  \\\n",
       "553                    You need to accept your role.   \n",
       "666               I want to learn Chinese next year.   \n",
       "681               Tom and Mary are in the same boat.   \n",
       "499                     I already know you did that.   \n",
       "701              Tom began to sing \"Happy Birthday.\"   \n",
       "552                    Why don't you leave me alone?   \n",
       "27                                       Hold still.   \n",
       "593                  It rained throughout the night.   \n",
       "848  You need good equipment to climb that mountain.   \n",
       "663               I hope you tore up my last letter.   \n",
       "\n",
       "                                              target  \n",
       "553                <sos> 넌 너의 역할을 받아들일 필요가 있어. <eos>  \n",
       "666                  <sos> 나는 내년에 중국어를 배우고 싶다. <eos>  \n",
       "681                     <sos> 톰과 마리는 같은 배를 탔다. <eos>  \n",
       "499              <sos> 네가 그것을 했다는 것을 이미 알고 있다. <eos>  \n",
       "701  <sos> Tom이 \"Happy Birthday\" 노래를 부르기 시작했다. <eos>  \n",
       "552                       <sos> 날 좀 가만히 내버려 둬. <eos>  \n",
       "27                             <sos> 가만히 있으세요. <eos>  \n",
       "593                           <sos> 밤새 비가 내렸다. <eos>  \n",
       "848              <sos> 저 산에 오르려면 좋은 장비가 있어야 돼. <eos>  \n",
       "663                <sos> 내 마지막 편지는 찢어 버렸길 바란다. <eos>  "
      ]
     },
     "execution_count": 5,
     "metadata": {},
     "output_type": "execute_result"
    }
   ],
   "source": [
    "lines.target = lines.target.apply(lambda x : '<sos> ' + x + ' <eos>')\n",
    "lines.sample(10)"
   ]
  },
  {
   "cell_type": "code",
   "execution_count": 6,
   "metadata": {},
   "outputs": [],
   "source": [
    "from keras.preprocessing.text import Tokenizer"
   ]
  },
  {
   "cell_type": "code",
   "execution_count": 7,
   "metadata": {},
   "outputs": [],
   "source": [
    "source_t = Tokenizer()\n",
    "source_t.fit_on_texts(lines.source)\n",
    "source_vocab_size = len(source_t.word_index) + 1\n",
    "\n",
    "target_t = Tokenizer()\n",
    "target_t.fit_on_texts(lines.target)\n",
    "target_vocab_size = len(target_t.word_index) + 1"
   ]
  },
  {
   "cell_type": "code",
   "execution_count": 8,
   "metadata": {},
   "outputs": [
    {
     "name": "stdout",
     "output_type": "stream",
     "text": [
      "1170\n",
      "2049\n"
     ]
    }
   ],
   "source": [
    "print(source_vocab_size)\n",
    "print(target_vocab_size)"
   ]
  },
  {
   "cell_type": "code",
   "execution_count": 9,
   "metadata": {},
   "outputs": [],
   "source": [
    "encoder_input_data = source_t.texts_to_sequences(lines.source)\n",
    "source_max_length = max(len(l) for l in encoder_input_data)\n",
    "\n",
    "decoder_input_data = target_t.texts_to_sequences(lines.target)\n",
    "decoder_target_data = [l[1:] for l in decoder_input_data]\n",
    "target_max_length = max(len(l) for l in decoder_input_data)"
   ]
  },
  {
   "cell_type": "code",
   "execution_count": 10,
   "metadata": {},
   "outputs": [
    {
     "name": "stdout",
     "output_type": "stream",
     "text": [
      "19\n",
      "17\n"
     ]
    }
   ],
   "source": [
    "print(source_max_length)\n",
    "print(target_max_length)"
   ]
  },
  {
   "cell_type": "code",
   "execution_count": 11,
   "metadata": {},
   "outputs": [
    {
     "name": "stdout",
     "output_type": "stream",
     "text": [
      "[92]\n",
      "[1, 264, 2]\n",
      "[264, 2]\n"
     ]
    }
   ],
   "source": [
    "# sample\n",
    "print(encoder_input_data[0])\n",
    "print(decoder_input_data[0])\n",
    "print(decoder_target_data[0])"
   ]
  },
  {
   "cell_type": "code",
   "execution_count": 12,
   "metadata": {},
   "outputs": [],
   "source": [
    "from keras.preprocessing.sequence import pad_sequences"
   ]
  },
  {
   "cell_type": "code",
   "execution_count": 13,
   "metadata": {},
   "outputs": [],
   "source": [
    "encoder_input_data = pad_sequences(\n",
    "    encoder_input_data, maxlen = source_max_length, padding = 'post')\n",
    "decoder_input_data = pad_sequences(\n",
    "    decoder_input_data, maxlen = target_max_length, padding = 'post')\n",
    "decoder_target_data = pad_sequences(\n",
    "    decoder_target_data, maxlen = target_max_length, padding = 'post')"
   ]
  },
  {
   "cell_type": "code",
   "execution_count": 14,
   "metadata": {},
   "outputs": [],
   "source": [
    "from keras.utils import to_categorical"
   ]
  },
  {
   "cell_type": "code",
   "execution_count": 15,
   "metadata": {},
   "outputs": [],
   "source": [
    "decoder_target_data = to_categorical(decoder_target_data)"
   ]
  },
  {
   "cell_type": "code",
   "execution_count": 16,
   "metadata": {},
   "outputs": [
    {
     "name": "stdout",
     "output_type": "stream",
     "text": [
      "(909, 19)\n",
      "(909, 17)\n",
      "(909, 17, 2049)\n"
     ]
    }
   ],
   "source": [
    "print(encoder_input_data.shape)\n",
    "print(decoder_input_data.shape)\n",
    "print(decoder_target_data.shape)"
   ]
  },
  {
   "cell_type": "code",
   "execution_count": 17,
   "metadata": {},
   "outputs": [],
   "source": [
    "encoder_embedding_dim = engvec.vector_size\n",
    "encoder_pretrained_embedding = np.random.normal(\n",
    "    scale = 0.5, size = (source_vocab_size, encoder_embedding_dim))\n",
    "\n",
    "n1 = 0\n",
    "for word, i in source_t.word_index.items():\n",
    "    if engvec.vocab.get(word) is not None:\n",
    "        encoder_pretrained_embedding[i] = engvec.get_vector(word)\n",
    "        n1 += 1"
   ]
  },
  {
   "cell_type": "code",
   "execution_count": 18,
   "metadata": {},
   "outputs": [
    {
     "name": "stdout",
     "output_type": "stream",
     "text": [
      "(1170, 300)\n",
      "1148\n"
     ]
    }
   ],
   "source": [
    "print(encoder_pretrained_embedding.shape)\n",
    "print(n1)"
   ]
  },
  {
   "cell_type": "code",
   "execution_count": 19,
   "metadata": {},
   "outputs": [],
   "source": [
    "decoder_embedding_dim = korvec.vector_size\n",
    "decoder_pretrained_embedding = np.random.normal(\n",
    "    scale = 0.5, size = (target_vocab_size, decoder_embedding_dim))\n",
    "\n",
    "n2 = 0\n",
    "for word, i in target_t.word_index.items():\n",
    "    if korvec.wv.vocab.get(word) is not None:\n",
    "        decoder_pretrained_embedding[i] = korvec.wv.get_vector(word)\n",
    "        n2 += 1"
   ]
  },
  {
   "cell_type": "code",
   "execution_count": 20,
   "metadata": {},
   "outputs": [
    {
     "name": "stdout",
     "output_type": "stream",
     "text": [
      "(2049, 200)\n",
      "344\n"
     ]
    }
   ],
   "source": [
    "print(decoder_pretrained_embedding.shape)\n",
    "print(n2)\n",
    "# 조사 때문에 너무 적다.."
   ]
  },
  {
   "cell_type": "markdown",
   "metadata": {},
   "source": [
    "> ### 시퀀스-투-시퀀스 모델"
   ]
  },
  {
   "cell_type": "code",
   "execution_count": 21,
   "metadata": {},
   "outputs": [],
   "source": [
    "from keras.layers import Input, GRU, LSTM, Embedding, Dense\n",
    "from keras.models import Model, load_model, save_model\n",
    "from keras.callbacks import ModelCheckpoint, EarlyStopping\n",
    "from keras import optimizers\n",
    "from keras import initializers\n",
    "import keras.backend as K\n",
    "\n",
    "K.clear_session()"
   ]
  },
  {
   "cell_type": "code",
   "execution_count": 22,
   "metadata": {},
   "outputs": [],
   "source": [
    "encoder_embedding_layer = Embedding(input_dim = source_vocab_size, \n",
    "                                    output_dim = encoder_embedding_dim,\n",
    "                                    input_length = source_max_length,\n",
    "                                    weights = [encoder_pretrained_embedding])\n",
    "decoder_embedding_layer = Embedding(input_dim = target_vocab_size, \n",
    "                                    output_dim = decoder_embedding_dim,\n",
    "                                    input_length = target_max_length,\n",
    "                                    weights = [decoder_pretrained_embedding])"
   ]
  },
  {
   "cell_type": "code",
   "execution_count": 23,
   "metadata": {},
   "outputs": [],
   "source": [
    "units = 64\n",
    "\n",
    "encoder_inputs = Input((None,))\n",
    "encoder_embedding = encoder_embedding_layer(encoder_inputs)\n",
    "encoder_rnn = LSTM(units = units, return_state = True)\n",
    "encoder_outputs, state_h, state_c = encoder_rnn(encoder_embedding)\n",
    "encoder_states = [state_h, state_c]\n",
    "\n",
    "decoder_inputs = Input((None,))\n",
    "decoder_embedding = decoder_embedding_layer(decoder_inputs)\n",
    "decoder_rnn = LSTM(units = units, return_sequences = True, return_state = True)\n",
    "decoder_outputs, _, _ = decoder_rnn(decoder_embedding, initial_state = encoder_states)\n",
    "\n",
    "decoder_softmax_layer = Dense(target_vocab_size, activation = 'softmax')\n",
    "decoder_outputs = decoder_softmax_layer(decoder_outputs)\n",
    "\n",
    "model = Model([encoder_inputs, decoder_inputs], decoder_outputs)"
   ]
  },
  {
   "cell_type": "code",
   "execution_count": 24,
   "metadata": {},
   "outputs": [
    {
     "name": "stdout",
     "output_type": "stream",
     "text": [
      "__________________________________________________________________________________________________\n",
      "Layer (type)                    Output Shape         Param #     Connected to                     \n",
      "==================================================================================================\n",
      "input_1 (InputLayer)            (None, None)         0                                            \n",
      "__________________________________________________________________________________________________\n",
      "input_2 (InputLayer)            (None, None)         0                                            \n",
      "__________________________________________________________________________________________________\n",
      "embedding_1 (Embedding)         (None, 19, 300)      351000      input_1[0][0]                    \n",
      "__________________________________________________________________________________________________\n",
      "embedding_2 (Embedding)         (None, 17, 200)      409800      input_2[0][0]                    \n",
      "__________________________________________________________________________________________________\n",
      "lstm_1 (LSTM)                   [(None, 64), (None,  93440       embedding_1[0][0]                \n",
      "__________________________________________________________________________________________________\n",
      "lstm_2 (LSTM)                   [(None, 17, 64), (No 67840       embedding_2[0][0]                \n",
      "                                                                 lstm_1[0][1]                     \n",
      "                                                                 lstm_1[0][2]                     \n",
      "__________________________________________________________________________________________________\n",
      "dense_1 (Dense)                 (None, 17, 2049)     133185      lstm_2[0][0]                     \n",
      "==================================================================================================\n",
      "Total params: 1,055,265\n",
      "Trainable params: 1,055,265\n",
      "Non-trainable params: 0\n",
      "__________________________________________________________________________________________________\n"
     ]
    }
   ],
   "source": [
    "model.compile(loss = \"categorical_crossentropy\",\n",
    "              optimizer = optimizers.rmsprop(),\n",
    "              metrics = ['acc'])\n",
    "\n",
    "model.summary()"
   ]
  },
  {
   "cell_type": "code",
   "execution_count": 25,
   "metadata": {},
   "outputs": [],
   "source": [
    "model.load_weights('models/pretrained-word2vec-eng-to-kor-trainable.hdf5')"
   ]
  },
  {
   "cell_type": "code",
   "execution_count": 63,
   "metadata": {},
   "outputs": [
    {
     "name": "stdout",
     "output_type": "stream",
     "text": [
      "Train on 727 samples, validate on 182 samples\n",
      "Epoch 1/300\n",
      " - 11s - loss: 6.9495 - acc: 0.5983 - val_loss: 6.3874 - val_acc: 0.5692\n",
      "Epoch 2/300\n",
      " - 6s - loss: 5.3987 - acc: 0.7315 - val_loss: 5.3663 - val_acc: 0.5692\n",
      "Epoch 3/300\n",
      " - 6s - loss: 4.3472 - acc: 0.7315 - val_loss: 4.7054 - val_acc: 0.5692\n",
      "Epoch 4/300\n",
      " - 6s - loss: 3.6030 - acc: 0.7315 - val_loss: 4.2037 - val_acc: 0.5692\n",
      "Epoch 5/300\n",
      " - 7s - loss: 3.0428 - acc: 0.7315 - val_loss: 3.8512 - val_acc: 0.5692\n",
      "Epoch 6/300\n",
      " - 7s - loss: 2.6503 - acc: 0.7315 - val_loss: 3.6286 - val_acc: 0.5692\n",
      "Epoch 7/300\n",
      " - 7s - loss: 2.3843 - acc: 0.7315 - val_loss: 3.4686 - val_acc: 0.5692\n",
      "Epoch 8/300\n",
      " - 7s - loss: 2.1945 - acc: 0.7315 - val_loss: 3.3611 - val_acc: 0.5692\n",
      "Epoch 9/300\n",
      " - 6s - loss: 2.0596 - acc: 0.7315 - val_loss: 3.2849 - val_acc: 0.5692\n",
      "Epoch 10/300\n",
      " - 5s - loss: 1.9604 - acc: 0.7315 - val_loss: 3.2281 - val_acc: 0.5692\n",
      "Epoch 11/300\n",
      " - 5s - loss: 1.8852 - acc: 0.7315 - val_loss: 3.1885 - val_acc: 0.5692\n",
      "Epoch 12/300\n",
      " - 5s - loss: 1.8215 - acc: 0.7315 - val_loss: 3.1534 - val_acc: 0.5692\n",
      "Epoch 13/300\n",
      " - 5s - loss: 1.7693 - acc: 0.7315 - val_loss: 3.1386 - val_acc: 0.5692\n",
      "Epoch 14/300\n",
      " - 4s - loss: 1.7252 - acc: 0.7315 - val_loss: 3.1317 - val_acc: 0.5692\n",
      "Epoch 15/300\n",
      " - 4s - loss: 1.6862 - acc: 0.7316 - val_loss: 3.1204 - val_acc: 0.5692\n",
      "Epoch 16/300\n",
      " - 5s - loss: 1.6502 - acc: 0.7375 - val_loss: 3.1002 - val_acc: 0.5766\n",
      "Epoch 17/300\n",
      " - 5s - loss: 1.6179 - acc: 0.7671 - val_loss: 3.0999 - val_acc: 0.5986\n",
      "Epoch 18/300\n",
      " - 5s - loss: 1.5894 - acc: 0.7860 - val_loss: 3.0829 - val_acc: 0.6164\n",
      "Epoch 19/300\n",
      " - 5s - loss: 1.5638 - acc: 0.7900 - val_loss: 3.0919 - val_acc: 0.6231\n",
      "Epoch 20/300\n",
      " - 5s - loss: 1.5411 - acc: 0.7911 - val_loss: 3.1213 - val_acc: 0.6261\n",
      "Epoch 21/300\n",
      " - 5s - loss: 1.5214 - acc: 0.7947 - val_loss: 3.1002 - val_acc: 0.6357\n",
      "Epoch 22/300\n",
      " - 5s - loss: 1.5007 - acc: 0.7959 - val_loss: 3.1132 - val_acc: 0.6361\n",
      "Epoch 23/300\n",
      " - 5s - loss: 1.4841 - acc: 0.7959 - val_loss: 3.1249 - val_acc: 0.6361\n",
      "Epoch 24/300\n",
      " - 6s - loss: 1.4690 - acc: 0.7959 - val_loss: 3.1514 - val_acc: 0.6361\n",
      "Epoch 25/300\n",
      " - 6s - loss: 1.4522 - acc: 0.7959 - val_loss: 3.1557 - val_acc: 0.6364\n",
      "Epoch 26/300\n",
      " - 6s - loss: 1.4380 - acc: 0.7959 - val_loss: 3.1656 - val_acc: 0.6364\n",
      "Epoch 27/300\n",
      " - 6s - loss: 1.4238 - acc: 0.7959 - val_loss: 3.1251 - val_acc: 0.6364\n",
      "Epoch 28/300\n",
      " - 7s - loss: 1.4117 - acc: 0.7959 - val_loss: 3.1668 - val_acc: 0.6364\n",
      "Epoch 29/300\n",
      " - 7s - loss: 1.3977 - acc: 0.7959 - val_loss: 3.1858 - val_acc: 0.6367\n",
      "Epoch 30/300\n",
      " - 7s - loss: 1.3863 - acc: 0.7959 - val_loss: 3.2238 - val_acc: 0.6364\n",
      "Epoch 31/300\n",
      " - 6s - loss: 1.3736 - acc: 0.7959 - val_loss: 3.2512 - val_acc: 0.6367\n",
      "Epoch 32/300\n",
      " - 6s - loss: 1.3632 - acc: 0.7959 - val_loss: 3.2339 - val_acc: 0.6367\n",
      "Epoch 33/300\n",
      " - 5s - loss: 1.3511 - acc: 0.7959 - val_loss: 3.2392 - val_acc: 0.6367\n",
      "Epoch 34/300\n",
      " - 5s - loss: 1.3408 - acc: 0.7959 - val_loss: 3.2536 - val_acc: 0.6370\n",
      "Epoch 35/300\n",
      " - 5s - loss: 1.3295 - acc: 0.7962 - val_loss: 3.2919 - val_acc: 0.6370\n",
      "Epoch 36/300\n",
      " - 5s - loss: 1.3197 - acc: 0.7963 - val_loss: 3.2890 - val_acc: 0.6370\n",
      "Epoch 37/300\n",
      " - 5s - loss: 1.3089 - acc: 0.7966 - val_loss: 3.3251 - val_acc: 0.6370\n",
      "Epoch 38/300\n",
      " - 5s - loss: 1.3000 - acc: 0.7968 - val_loss: 3.3606 - val_acc: 0.6377\n",
      "Epoch 39/300\n",
      " - 5s - loss: 1.2885 - acc: 0.7969 - val_loss: 3.3596 - val_acc: 0.6364\n",
      "Epoch 40/300\n",
      " - 5s - loss: 1.2790 - acc: 0.7969 - val_loss: 3.3698 - val_acc: 0.6370\n",
      "Epoch 41/300\n",
      " - 5s - loss: 1.2692 - acc: 0.7972 - val_loss: 3.3794 - val_acc: 0.6370\n",
      "Epoch 42/300\n",
      " - 5s - loss: 1.2592 - acc: 0.7972 - val_loss: 3.4223 - val_acc: 0.6377\n",
      "Epoch 43/300\n",
      " - 5s - loss: 1.2504 - acc: 0.7976 - val_loss: 3.4549 - val_acc: 0.6377\n",
      "Epoch 44/300\n",
      " - 5s - loss: 1.2395 - acc: 0.7977 - val_loss: 3.4595 - val_acc: 0.6374\n",
      "Epoch 45/300\n",
      " - 6s - loss: 1.2313 - acc: 0.7979 - val_loss: 3.4792 - val_acc: 0.6374\n",
      "Epoch 46/300\n",
      " - 6s - loss: 1.2201 - acc: 0.7983 - val_loss: 3.5359 - val_acc: 0.6380\n",
      "Epoch 47/300\n",
      " - 6s - loss: 1.2117 - acc: 0.7984 - val_loss: 3.5743 - val_acc: 0.6377\n",
      "Epoch 48/300\n",
      " - 6s - loss: 1.2025 - acc: 0.7986 - val_loss: 3.5998 - val_acc: 0.6374\n",
      "Epoch 49/300\n",
      " - 7s - loss: 1.1920 - acc: 0.7987 - val_loss: 3.5865 - val_acc: 0.6367\n",
      "Epoch 50/300\n",
      " - 7s - loss: 1.1829 - acc: 0.7991 - val_loss: 3.5940 - val_acc: 0.6367\n",
      "Epoch 51/300\n",
      " - 7s - loss: 1.1735 - acc: 0.7992 - val_loss: 3.5570 - val_acc: 0.6367\n",
      "Epoch 52/300\n",
      " - 8s - loss: 1.1648 - acc: 0.7996 - val_loss: 3.5956 - val_acc: 0.6364\n",
      "Epoch 53/300\n",
      " - 7s - loss: 1.1550 - acc: 0.7996 - val_loss: 3.6270 - val_acc: 0.6364\n",
      "Epoch 54/300\n",
      " - 6s - loss: 1.1444 - acc: 0.8000 - val_loss: 3.6925 - val_acc: 0.6367\n",
      "Epoch 55/300\n",
      " - 6s - loss: 1.1368 - acc: 0.8001 - val_loss: 3.7124 - val_acc: 0.6364\n",
      "Epoch 56/300\n",
      " - 6s - loss: 1.1265 - acc: 0.8003 - val_loss: 3.7828 - val_acc: 0.6367\n",
      "Epoch 57/300\n",
      " - 5s - loss: 1.1175 - acc: 0.8006 - val_loss: 3.7392 - val_acc: 0.6364\n",
      "Epoch 58/300\n",
      " - 5s - loss: 1.1074 - acc: 0.8009 - val_loss: 3.7930 - val_acc: 0.6364\n",
      "Epoch 59/300\n",
      " - 5s - loss: 1.0982 - acc: 0.8010 - val_loss: 3.7551 - val_acc: 0.6370\n",
      "Epoch 60/300\n",
      " - 5s - loss: 1.0884 - acc: 0.8014 - val_loss: 3.7700 - val_acc: 0.6370\n",
      "Epoch 61/300\n",
      " - 5s - loss: 1.0802 - acc: 0.8021 - val_loss: 3.8299 - val_acc: 0.6374\n",
      "Epoch 62/300\n",
      " - 5s - loss: 1.0692 - acc: 0.8022 - val_loss: 3.8185 - val_acc: 0.6374\n",
      "Epoch 63/300\n",
      " - 5s - loss: 1.0594 - acc: 0.8031 - val_loss: 3.8293 - val_acc: 0.6370\n",
      "Epoch 64/300\n",
      " - 5s - loss: 1.0509 - acc: 0.8031 - val_loss: 3.8824 - val_acc: 0.6374\n",
      "Epoch 65/300\n",
      " - 5s - loss: 1.0401 - acc: 0.8040 - val_loss: 3.8848 - val_acc: 0.6377\n",
      "Epoch 66/300\n",
      " - 5s - loss: 1.0321 - acc: 0.8044 - val_loss: 3.8903 - val_acc: 0.6383\n",
      "Epoch 67/300\n",
      " - 6s - loss: 1.0217 - acc: 0.8052 - val_loss: 3.8982 - val_acc: 0.6383\n",
      "Epoch 68/300\n",
      " - 6s - loss: 1.0120 - acc: 0.8059 - val_loss: 3.8903 - val_acc: 0.6390\n",
      "Epoch 69/300\n",
      " - 6s - loss: 1.0034 - acc: 0.8064 - val_loss: 3.8888 - val_acc: 0.6390\n",
      "Epoch 70/300\n",
      " - 7s - loss: 0.9939 - acc: 0.8080 - val_loss: 3.9324 - val_acc: 0.6390\n",
      "Epoch 71/300\n",
      " - 7s - loss: 0.9826 - acc: 0.8085 - val_loss: 3.9366 - val_acc: 0.6393\n",
      "Epoch 72/300\n",
      " - 8s - loss: 0.9751 - acc: 0.8091 - val_loss: 3.9197 - val_acc: 0.6393\n",
      "Epoch 73/300\n",
      " - 9s - loss: 0.9631 - acc: 0.8103 - val_loss: 3.9303 - val_acc: 0.6390\n",
      "Epoch 74/300\n",
      " - 8s - loss: 0.9557 - acc: 0.8119 - val_loss: 3.9618 - val_acc: 0.6390\n",
      "Epoch 75/300\n",
      " - 7s - loss: 0.9445 - acc: 0.8141 - val_loss: 3.9585 - val_acc: 0.6393\n",
      "Epoch 76/300\n",
      " - 6s - loss: 0.9363 - acc: 0.8146 - val_loss: 4.0051 - val_acc: 0.6393\n",
      "Epoch 77/300\n",
      " - 5s - loss: 0.9258 - acc: 0.8187 - val_loss: 4.0329 - val_acc: 0.6396\n",
      "Epoch 78/300\n",
      " - 5s - loss: 0.9169 - acc: 0.8198 - val_loss: 4.0211 - val_acc: 0.6399\n",
      "Epoch 79/300\n",
      " - 5s - loss: 0.9057 - acc: 0.8222 - val_loss: 4.0190 - val_acc: 0.6403\n",
      "Epoch 80/300\n",
      " - 5s - loss: 0.8996 - acc: 0.8240 - val_loss: 4.0304 - val_acc: 0.6406\n",
      "Epoch 81/300\n",
      " - 4s - loss: 0.8869 - acc: 0.8260 - val_loss: 4.0612 - val_acc: 0.6403\n",
      "Epoch 82/300\n",
      " - 5s - loss: 0.8791 - acc: 0.8277 - val_loss: 4.0626 - val_acc: 0.6409\n",
      "Epoch 83/300\n",
      " - 5s - loss: 0.8688 - acc: 0.8301 - val_loss: 4.0455 - val_acc: 0.6409\n",
      "Epoch 84/300\n",
      " - 5s - loss: 0.8593 - acc: 0.8336 - val_loss: 4.0366 - val_acc: 0.6409\n",
      "Epoch 85/300\n",
      " - 5s - loss: 0.8518 - acc: 0.8364 - val_loss: 4.0524 - val_acc: 0.6416\n",
      "Epoch 86/300\n",
      " - 5s - loss: 0.8408 - acc: 0.8388 - val_loss: 4.0882 - val_acc: 0.6432\n",
      "Epoch 87/300\n",
      " - 5s - loss: 0.8322 - acc: 0.8414 - val_loss: 4.0814 - val_acc: 0.6422\n",
      "Epoch 88/300\n",
      " - 5s - loss: 0.8219 - acc: 0.8444 - val_loss: 4.0773 - val_acc: 0.6429\n",
      "Epoch 89/300\n",
      " - 6s - loss: 0.8145 - acc: 0.8468 - val_loss: 4.0947 - val_acc: 0.6419\n",
      "Epoch 90/300\n",
      " - 6s - loss: 0.8031 - acc: 0.8504 - val_loss: 4.1100 - val_acc: 0.6422\n",
      "Epoch 91/300\n",
      " - 4s - loss: 0.7949 - acc: 0.8536 - val_loss: 4.1541 - val_acc: 0.6422\n",
      "Epoch 92/300\n",
      " - 3s - loss: 0.7853 - acc: 0.8544 - val_loss: 4.1118 - val_acc: 0.6422\n",
      "Epoch 93/300\n",
      " - 3s - loss: 0.7758 - acc: 0.8589 - val_loss: 4.1150 - val_acc: 0.6419\n",
      "Epoch 94/300\n",
      " - 4s - loss: 0.7690 - acc: 0.8608 - val_loss: 4.1366 - val_acc: 0.6422\n",
      "Epoch 95/300\n",
      " - 4s - loss: 0.7569 - acc: 0.8632 - val_loss: 4.1200 - val_acc: 0.6422\n",
      "Epoch 96/300\n",
      " - 4s - loss: 0.7489 - acc: 0.8663 - val_loss: 4.1343 - val_acc: 0.6416\n"
     ]
    },
    {
     "name": "stdout",
     "output_type": "stream",
     "text": [
      "Epoch 97/300\n",
      " - 4s - loss: 0.7398 - acc: 0.8692 - val_loss: 4.1411 - val_acc: 0.6422\n",
      "Epoch 98/300\n",
      " - 4s - loss: 0.7323 - acc: 0.8713 - val_loss: 4.1569 - val_acc: 0.6429\n",
      "Epoch 99/300\n",
      " - 4s - loss: 0.7216 - acc: 0.8743 - val_loss: 4.1485 - val_acc: 0.6425\n",
      "Epoch 100/300\n",
      " - 4s - loss: 0.7145 - acc: 0.8776 - val_loss: 4.1655 - val_acc: 0.6422\n",
      "Epoch 101/300\n",
      " - 4s - loss: 0.7049 - acc: 0.8809 - val_loss: 4.1783 - val_acc: 0.6422\n",
      "Epoch 102/300\n",
      " - 4s - loss: 0.6957 - acc: 0.8826 - val_loss: 4.1668 - val_acc: 0.6429\n",
      "Epoch 103/300\n",
      " - 4s - loss: 0.6892 - acc: 0.8858 - val_loss: 4.1762 - val_acc: 0.6422\n",
      "Epoch 104/300\n",
      " - 3s - loss: 0.6782 - acc: 0.8886 - val_loss: 4.1680 - val_acc: 0.6419\n",
      "Epoch 105/300\n",
      " - 3s - loss: 0.6714 - acc: 0.8900 - val_loss: 4.1941 - val_acc: 0.6419\n",
      "Epoch 106/300\n",
      " - 3s - loss: 0.6627 - acc: 0.8924 - val_loss: 4.1686 - val_acc: 0.6419\n",
      "Epoch 107/300\n",
      " - 3s - loss: 0.6534 - acc: 0.8945 - val_loss: 4.1794 - val_acc: 0.6422\n",
      "Epoch 108/300\n",
      " - 3s - loss: 0.6467 - acc: 0.8963 - val_loss: 4.1727 - val_acc: 0.6422\n",
      "Epoch 109/300\n",
      " - 3s - loss: 0.6392 - acc: 0.8992 - val_loss: 4.1849 - val_acc: 0.6425\n",
      "Epoch 110/300\n",
      " - 3s - loss: 0.6282 - acc: 0.9002 - val_loss: 4.1984 - val_acc: 0.6419\n",
      "Epoch 111/300\n",
      " - 3s - loss: 0.6222 - acc: 0.9027 - val_loss: 4.1934 - val_acc: 0.6425\n",
      "Epoch 112/300\n",
      " - 3s - loss: 0.6137 - acc: 0.9044 - val_loss: 4.2047 - val_acc: 0.6419\n",
      "Epoch 113/300\n",
      " - 3s - loss: 0.6059 - acc: 0.9065 - val_loss: 4.2159 - val_acc: 0.6435\n",
      "Epoch 114/300\n",
      " - 3s - loss: 0.5981 - acc: 0.9078 - val_loss: 4.2161 - val_acc: 0.6435\n",
      "Epoch 115/300\n",
      " - 3s - loss: 0.5905 - acc: 0.9091 - val_loss: 4.2085 - val_acc: 0.6438\n",
      "Epoch 116/300\n",
      " - 3s - loss: 0.5829 - acc: 0.9110 - val_loss: 4.2152 - val_acc: 0.6432\n",
      "Epoch 117/300\n",
      " - 3s - loss: 0.5766 - acc: 0.9112 - val_loss: 4.2345 - val_acc: 0.6441\n",
      "Epoch 118/300\n",
      " - 3s - loss: 0.5673 - acc: 0.9131 - val_loss: 4.2176 - val_acc: 0.6438\n",
      "Epoch 119/300\n",
      " - 3s - loss: 0.5613 - acc: 0.9135 - val_loss: 4.2276 - val_acc: 0.6438\n",
      "Epoch 120/300\n",
      " - 3s - loss: 0.5523 - acc: 0.9154 - val_loss: 4.2239 - val_acc: 0.6438\n",
      "Epoch 121/300\n",
      " - 3s - loss: 0.5474 - acc: 0.9156 - val_loss: 4.2537 - val_acc: 0.6441\n",
      "Epoch 122/300\n",
      " - 3s - loss: 0.5394 - acc: 0.9166 - val_loss: 4.2435 - val_acc: 0.6438\n",
      "Epoch 123/300\n",
      " - 3s - loss: 0.5309 - acc: 0.9169 - val_loss: 4.2426 - val_acc: 0.6438\n",
      "Epoch 124/300\n",
      " - 3s - loss: 0.5249 - acc: 0.9175 - val_loss: 4.2694 - val_acc: 0.6445\n",
      "Epoch 125/300\n",
      " - 3s - loss: 0.5205 - acc: 0.9179 - val_loss: 4.2420 - val_acc: 0.6429\n",
      "Epoch 126/300\n",
      " - 3s - loss: 0.5107 - acc: 0.9191 - val_loss: 4.2488 - val_acc: 0.6422\n",
      "Epoch 127/300\n",
      " - 3s - loss: 0.5052 - acc: 0.9197 - val_loss: 4.2488 - val_acc: 0.6419\n",
      "Epoch 128/300\n",
      " - 3s - loss: 0.4977 - acc: 0.9198 - val_loss: 4.2768 - val_acc: 0.6438\n",
      "Epoch 129/300\n",
      " - 3s - loss: 0.4936 - acc: 0.9207 - val_loss: 4.2623 - val_acc: 0.6438\n",
      "Epoch 130/300\n",
      " - 3s - loss: 0.4862 - acc: 0.9202 - val_loss: 4.2864 - val_acc: 0.6438\n",
      "Epoch 131/300\n",
      " - 3s - loss: 0.4794 - acc: 0.9211 - val_loss: 4.2705 - val_acc: 0.6435\n",
      "Epoch 132/300\n",
      " - 4s - loss: 0.4745 - acc: 0.9226 - val_loss: 4.2749 - val_acc: 0.6432\n",
      "Epoch 133/300\n",
      " - 4s - loss: 0.4693 - acc: 0.9215 - val_loss: 4.2576 - val_acc: 0.6419\n",
      "Epoch 134/300\n",
      " - 4s - loss: 0.4612 - acc: 0.9231 - val_loss: 4.2752 - val_acc: 0.6416\n",
      "Epoch 135/300\n",
      " - 4s - loss: 0.4562 - acc: 0.9227 - val_loss: 4.2546 - val_acc: 0.6412\n",
      "Epoch 136/300\n",
      " - 4s - loss: 0.4512 - acc: 0.9232 - val_loss: 4.2846 - val_acc: 0.6419\n",
      "Epoch 137/300\n",
      " - 4s - loss: 0.4454 - acc: 0.9235 - val_loss: 4.2815 - val_acc: 0.6429\n",
      "Epoch 138/300\n",
      " - 4s - loss: 0.4383 - acc: 0.9237 - val_loss: 4.2914 - val_acc: 0.6425\n",
      "Epoch 139/300\n",
      " - 4s - loss: 0.4353 - acc: 0.9242 - val_loss: 4.2934 - val_acc: 0.6416\n",
      "Epoch 140/300\n",
      " - 4s - loss: 0.4285 - acc: 0.9248 - val_loss: 4.2802 - val_acc: 0.6416\n",
      "Epoch 141/300\n",
      " - 4s - loss: 0.4250 - acc: 0.9252 - val_loss: 4.2920 - val_acc: 0.6422\n",
      "Epoch 142/300\n",
      " - 3s - loss: 0.4193 - acc: 0.9256 - val_loss: 4.2914 - val_acc: 0.6419\n",
      "Epoch 143/300\n",
      " - 3s - loss: 0.4144 - acc: 0.9256 - val_loss: 4.2967 - val_acc: 0.6416\n",
      "Epoch 144/300\n",
      " - 3s - loss: 0.4087 - acc: 0.9259 - val_loss: 4.2982 - val_acc: 0.6416\n",
      "Epoch 145/300\n",
      " - 3s - loss: 0.4049 - acc: 0.9261 - val_loss: 4.3037 - val_acc: 0.6412\n",
      "Epoch 146/300\n",
      " - 3s - loss: 0.4009 - acc: 0.9269 - val_loss: 4.3092 - val_acc: 0.6416\n",
      "Epoch 147/300\n",
      " - 3s - loss: 0.3946 - acc: 0.9268 - val_loss: 4.3134 - val_acc: 0.6422\n",
      "Epoch 148/300\n",
      " - 3s - loss: 0.3901 - acc: 0.9265 - val_loss: 4.3028 - val_acc: 0.6419\n",
      "Epoch 149/300\n",
      " - 3s - loss: 0.3881 - acc: 0.9261 - val_loss: 4.2963 - val_acc: 0.6419\n",
      "Epoch 150/300\n",
      " - 3s - loss: 0.3824 - acc: 0.9276 - val_loss: 4.3107 - val_acc: 0.6412\n",
      "Epoch 151/300\n",
      " - 3s - loss: 0.3772 - acc: 0.9277 - val_loss: 4.3257 - val_acc: 0.6406\n",
      "Epoch 152/300\n",
      " - 3s - loss: 0.3745 - acc: 0.9289 - val_loss: 4.3348 - val_acc: 0.6412\n",
      "Epoch 153/300\n",
      " - 3s - loss: 0.3711 - acc: 0.9283 - val_loss: 4.3130 - val_acc: 0.6422\n",
      "Epoch 154/300\n",
      " - 3s - loss: 0.3653 - acc: 0.9289 - val_loss: 4.3249 - val_acc: 0.6409\n",
      "Epoch 155/300\n",
      " - 3s - loss: 0.3642 - acc: 0.9287 - val_loss: 4.3394 - val_acc: 0.6409\n",
      "Epoch 156/300\n",
      " - 3s - loss: 0.3585 - acc: 0.9303 - val_loss: 4.3361 - val_acc: 0.6412\n",
      "Epoch 157/300\n",
      " - 3s - loss: 0.3544 - acc: 0.9295 - val_loss: 4.3296 - val_acc: 0.6419\n",
      "Epoch 158/300\n",
      " - 3s - loss: 0.3513 - acc: 0.9311 - val_loss: 4.3282 - val_acc: 0.6412\n",
      "Epoch 159/300\n",
      " - 3s - loss: 0.3501 - acc: 0.9305 - val_loss: 4.3444 - val_acc: 0.6412\n",
      "Epoch 160/300\n",
      " - 3s - loss: 0.3439 - acc: 0.9303 - val_loss: 4.3330 - val_acc: 0.6403\n",
      "Epoch 161/300\n",
      " - 3s - loss: 0.3410 - acc: 0.9298 - val_loss: 4.3322 - val_acc: 0.6403\n",
      "Epoch 162/300\n",
      " - 3s - loss: 0.3391 - acc: 0.9306 - val_loss: 4.3386 - val_acc: 0.6406\n",
      "Epoch 163/300\n",
      " - 3s - loss: 0.3348 - acc: 0.9320 - val_loss: 4.3440 - val_acc: 0.6399\n",
      "Epoch 164/300\n",
      " - 3s - loss: 0.3314 - acc: 0.9320 - val_loss: 4.3424 - val_acc: 0.6406\n",
      "Epoch 165/300\n",
      " - 3s - loss: 0.3288 - acc: 0.9318 - val_loss: 4.3678 - val_acc: 0.6399\n",
      "Epoch 166/300\n",
      " - 3s - loss: 0.3264 - acc: 0.9315 - val_loss: 4.3570 - val_acc: 0.6403\n",
      "Epoch 167/300\n",
      " - 3s - loss: 0.3236 - acc: 0.9328 - val_loss: 4.3514 - val_acc: 0.6406\n",
      "Epoch 168/300\n",
      " - 3s - loss: 0.3208 - acc: 0.9324 - val_loss: 4.3563 - val_acc: 0.6399\n",
      "Epoch 169/300\n",
      " - 4s - loss: 0.3165 - acc: 0.9341 - val_loss: 4.3532 - val_acc: 0.6399\n",
      "Epoch 170/300\n",
      " - 4s - loss: 0.3146 - acc: 0.9337 - val_loss: 4.3465 - val_acc: 0.6403\n",
      "Epoch 171/300\n",
      " - 4s - loss: 0.3118 - acc: 0.9341 - val_loss: 4.3641 - val_acc: 0.6396\n",
      "Epoch 172/300\n",
      " - 4s - loss: 0.3081 - acc: 0.9349 - val_loss: 4.3771 - val_acc: 0.6396\n",
      "Epoch 173/300\n",
      " - 4s - loss: 0.3088 - acc: 0.9344 - val_loss: 4.3652 - val_acc: 0.6406\n",
      "Epoch 174/300\n",
      " - 5s - loss: 0.3038 - acc: 0.9346 - val_loss: 4.3755 - val_acc: 0.6403\n"
     ]
    }
   ],
   "source": [
    "epochs = 300\n",
    "batch_size = 128\n",
    "\n",
    "modelpath = 'models/pretrained-word2vec-eng-to-kor-trainable.hdf5'\n",
    "check = ModelCheckpoint(modelpath, monitor = 'val_acc', save_best_only = True, save_weights_only = True)\n",
    "early = EarlyStopping(monitor = 'val_acc', patience = 50)\n",
    "\n",
    "history = model.fit([encoder_input_data, decoder_input_data], decoder_target_data, \n",
    "                    validation_split = 0.2, callbacks = [check, early],\n",
    "                    epochs = epochs, batch_size = batch_size, verbose = 2)"
   ]
  },
  {
   "cell_type": "code",
   "execution_count": 64,
   "metadata": {},
   "outputs": [
    {
     "data": {
      "image/png": "[encoded data removed]",
      "text/plain": [
       "<Figure size 432x288 with 1 Axes>"
      ]
     },
     "metadata": {
      "needs_background": "light"
     },
     "output_type": "display_data"
    },
    {
     "data": {
      "image/png": "[encoded data removed]",
      "text/plain": [
       "<Figure size 432x288 with 1 Axes>"
      ]
     },
     "metadata": {
      "needs_background": "light"
     },
     "output_type": "display_data"
    },
    {
     "name": "stdout",
     "output_type": "stream",
     "text": [
      "epoch 123: Training Acc = 91.75%, Validation Acc = 64.45%\n"
     ]
    }
   ],
   "source": [
    "import matplotlib.pyplot as plt\n",
    "\n",
    "def history_plot(history):\n",
    "    epoch = range(1, len(history.history['loss']) + 1)\n",
    "    m = np.argmax(history.history['val_acc'])\n",
    "    plt.plot(epoch, history.history['loss'], '-k', label = 'Training Loss')\n",
    "    plt.plot(epoch, history.history['val_loss'], ':r', label = 'Validation Loss')\n",
    "    plt.legend()\n",
    "    plt.show()\n",
    "\n",
    "    plt.plot(epoch, history.history['acc'], '-k', label = 'Training Acc')\n",
    "    plt.plot(epoch, history.history['val_acc'], ':r', label = 'Validation Acc')\n",
    "    plt.axvline(m, linestyle = ':', color = 'gray')\n",
    "    plt.legend()\n",
    "    plt.show()\n",
    "    \n",
    "    print('epoch {}: Training Acc = {}%, Validation Acc = {}%'.\n",
    "          format(m, np.round(history.history['acc'][m], 4)*100, np.round(history.history['val_acc'][m], 4)*100))\n",
    "    \n",
    "history_plot(history)"
   ]
  },
  {
   "cell_type": "code",
   "execution_count": 26,
   "metadata": {},
   "outputs": [],
   "source": [
    "encoder_model = Model(encoder_inputs, encoder_states)\n",
    "\n",
    "decoder_state_input_h = Input(shape = (units,))\n",
    "decoder_state_input_c = Input(shape = (units,))\n",
    "decoder_states_inputs = [decoder_state_input_h, decoder_state_input_c]\n",
    "\n",
    "decoder_embedding_p = decoder_embedding_layer(decoder_inputs)\n",
    "decoder_outputs_p, state_h_p, state_c_p = decoder_rnn(\n",
    "    decoder_embedding_p, initial_state = decoder_states_inputs)\n",
    "\n",
    "decoder_states_p = [state_h_p, state_c_p]\n",
    "decoder_outputs_p = decoder_softmax_layer(decoder_outputs_p)\n",
    "\n",
    "decoder_model = Model([decoder_inputs] + decoder_states_inputs, \n",
    "                      [decoder_outputs_p] + decoder_states_p)"
   ]
  },
  {
   "cell_type": "code",
   "execution_count": 27,
   "metadata": {},
   "outputs": [],
   "source": [
    "index_to_source = dict((i, char) for char, i in source_t.word_index.items())\n",
    "index_to_target = dict((i, char) for char, i in target_t.word_index.items())"
   ]
  },
  {
   "cell_type": "code",
   "execution_count": 28,
   "metadata": {},
   "outputs": [],
   "source": [
    "def decode_sentence(input_seq):\n",
    "    states_value = encoder_model.predict(input_seq)\n",
    "    target_seq = np.zeros((1, 1))\n",
    "    target_seq[0, 0] = target_t.word_index['sos']\n",
    "    print(np.array(states_value).shape)\n",
    "    stop_condition = False\n",
    "    decoded_sentence = ''\n",
    "    \n",
    "    # stop_condition이 True가 될 때까지 루프 반복\n",
    "    while not stop_condition: \n",
    "        output_tokens, h, c = decoder_model.predict([target_seq] + states_value)\n",
    "        sampled_token_index = np.argmax(output_tokens[0, -1, :])\n",
    "        sampled_char = index_to_target[sampled_token_index]\n",
    "        decoded_sentence += ' ' + sampled_char\n",
    "        \n",
    "        # 문장 끝에 도달하거나 최대 길이를 넘으면 중단\n",
    "        if (sampled_char == 'eos' or\n",
    "           len(decoded_sentence) > target_max_length):\n",
    "            stop_condition = True\n",
    "        \n",
    "        # 길이가 1인 타겟 시퀀스를 업데이트\n",
    "        target_seq = np.zeros((1, 1))\n",
    "        target_seq[0, 0] = sampled_token_index\n",
    "        \n",
    "        # 상태를 업데이트\n",
    "        states_value = [h, c]\n",
    "        \n",
    "    return decoded_sentence"
   ]
  },
  {
   "cell_type": "code",
   "execution_count": null,
   "metadata": {},
   "outputs": [],
   "source": [
    "for i in np.random.randint(0, len(lines) - 1, 3):\n",
    "    input_seq = encoder_input_data[i: i + 1]\n",
    "    decoded_sentence = decode_sentence(input_seq)\n",
    "    \n",
    "    print(lines.source[i])\n",
    "    print(lines.target[i][1: target_max_len + 1])\n",
    "    print(decoded_sentence)"
   ]
  },
  {
   "cell_type": "code",
   "execution_count": null,
   "metadata": {},
   "outputs": [],
   "source": []
  }
 ],
 "metadata": {
  "accelerator": "GPU",
  "colab": {
   "collapsed_sections": [],
   "name": "사전 학습된 Word2Vec 영어-한국어 번역 모형.ipynb",
   "provenance": []
  },
  "kernelspec": {
   "display_name": "Python 3",
   "language": "python",
   "name": "python3"
  },
  "language_info": {
   "codemirror_mode": {
    "name": "ipython",
    "version": 3
   },
   "file_extension": ".py",
   "mimetype": "text/x-python",
   "name": "python",
   "nbconvert_exporter": "python",
   "pygments_lexer": "ipython3",
   "version": "3.6.7"
  }
 },
 "nbformat": 4,
 "nbformat_minor": 1
}
