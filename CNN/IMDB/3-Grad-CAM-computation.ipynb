{
 "cells": [
  {
   "cell_type": "markdown",
   "metadata": {},
   "source": [
    "## IMDB 1D CNN 시각화\n",
    "Grad-CAM (Gradient-weighted Class Activation Map)을 이용한 클래스 별 활성도 계산\n",
    "\n",
    "-----"
   ]
  },
  {
   "cell_type": "code",
   "execution_count": 1,
   "metadata": {},
   "outputs": [
    {
     "name": "stderr",
     "output_type": "stream",
     "text": [
      "Using TensorFlow backend.\n"
     ]
    }
   ],
   "source": [
    "import os\n",
    "import csv\n",
    "import keras\n",
    "import numpy as np\n",
    "import pandas as pd\n",
    "import keras.backend as K\n",
    "from keras.utils import to_categorical\n",
    "\n",
    "os.chdir('C:/Users/HK/Desktop/CNN/IMDB')"
   ]
  },
  {
   "cell_type": "markdown",
   "metadata": {},
   "source": [
    "- Load a Pre-Trained Model"
   ]
  },
  {
   "cell_type": "code",
   "execution_count": 16,
   "metadata": {},
   "outputs": [
    {
     "name": "stdout",
     "output_type": "stream",
     "text": [
      "_________________________________________________________________\n",
      "Layer (type)                 Output Shape              Param #   \n",
      "=================================================================\n",
      "embedding_1 (Embedding)      (None, 100, 50)           250000    \n",
      "_________________________________________________________________\n",
      "conv1d_1 (Conv1D)            (None, 100, 32)           8032      \n",
      "_________________________________________________________________\n",
      "max_pooling1d_1 (MaxPooling1 (None, 50, 32)            0         \n",
      "_________________________________________________________________\n",
      "conv1d_2 (Conv1D)            (None, 50, 32)            5152      \n",
      "_________________________________________________________________\n",
      "max_pooling1d_2 (MaxPooling1 (None, 25, 32)            0         \n",
      "_________________________________________________________________\n",
      "conv1d_3 (Conv1D)            (None, 25, 32)            5152      \n",
      "_________________________________________________________________\n",
      "max_pooling1d_3 (MaxPooling1 (None, 12, 32)            0         \n",
      "_________________________________________________________________\n",
      "flatten_1 (Flatten)          (None, 384)               0         \n",
      "_________________________________________________________________\n",
      "dense_1 (Dense)              (None, 2)                 770       \n",
      "=================================================================\n",
      "Total params: 269,106\n",
      "Trainable params: 269,106\n",
      "Non-trainable params: 0\n",
      "_________________________________________________________________\n",
      "None\n"
     ]
    }
   ],
   "source": [
    "from keras.models import load_model\n",
    "\n",
    "base = load_model('CAM/visualize_3_32_5.hdf5')\n",
    "print(base.summary())"
   ]
  },
  {
   "cell_type": "markdown",
   "metadata": {},
   "source": [
    "- Data Preparation"
   ]
  },
  {
   "cell_type": "code",
   "execution_count": 17,
   "metadata": {},
   "outputs": [],
   "source": [
    "from keras.datasets import imdb\n",
    "from keras.preprocessing import sequence\n",
    "\n",
    "max_features = 5000\n",
    "maxlen = 100\n",
    "lastlen = 25 "
   ]
  },
  {
   "cell_type": "code",
   "execution_count": 18,
   "metadata": {},
   "outputs": [],
   "source": [
    "(xtrain, ytrain), (xtest, ytest) = imdb.load_data(num_words = max_features)\n",
    "\n",
    "xtrain = sequence.pad_sequences(xtrain, maxlen = maxlen)\n",
    "xtest = sequence.pad_sequences(xtest, maxlen = maxlen)"
   ]
  },
  {
   "cell_type": "code",
   "execution_count": 19,
   "metadata": {},
   "outputs": [],
   "source": [
    "last_conv_layer = base.get_layer('conv1d_3')\n",
    "last_fn = 32"
   ]
  },
  {
   "cell_type": "markdown",
   "metadata": {},
   "source": [
    "### ★★ Grad-CAM Algorithm"
   ]
  },
  {
   "cell_type": "code",
   "execution_count": 29,
   "metadata": {},
   "outputs": [],
   "source": [
    "def Grad_CAM_1D(xdata, i):\n",
    "    exdata = xdata[i, :]\n",
    "    exdata = exdata.reshape(1, maxlen)\n",
    "\n",
    "    predprob = base.predict(exdata)\n",
    "    fitted = base.output[:,np.argmax(predprob)]\n",
    "\n",
    "    # 클래스를 설명할 수 있게 컨볼루션 필터 가중치의 gradient를 구함\n",
    "    grads = K.gradients(fitted, last_conv_layer.output)[0] \n",
    "\n",
    "    # 필터별로 가중치를 구함\n",
    "    pooled_grads = K.mean(grads, axis = (0, 1))\n",
    "    iterate = K.function([base.input], [pooled_grads, last_conv_layer.output[0]])\n",
    "    pooled_grads_value, conv_layer_output_value = iterate([exdata])\n",
    "\n",
    "    for j in range(last_fn): # 마지막 conv layer의 필터 개수\n",
    "        conv_layer_output_value[:,j] *= pooled_grads_value[j]\n",
    "        \n",
    "    heatmap = np.mean(conv_layer_output_value, axis = -1)\n",
    "    heatmap = np.maximum(heatmap, 0)\n",
    "    heatmap /= (np.max(heatmap) + 1e-10)\n",
    "        \n",
    "    return heatmap, np.argmax(predprob)"
   ]
  },
  {
   "cell_type": "markdown",
   "metadata": {},
   "source": [
    "- TEST 데이터 10개에 대해서만 csv 파일로 활성도 출력"
   ]
  },
  {
   "cell_type": "code",
   "execution_count": 31,
   "metadata": {},
   "outputs": [],
   "source": [
    "for id in range(10):\n",
    "\n",
    "    heattmp, probtmp = Grad_CAM_1D(xtest, id)\n",
    "\n",
    "    f = open('CAM/heat_' + str(id+1) + '_' + str(ytest[id]) + '.csv',\n",
    "             'w', encoding = 'utf-8', newline = '')\n",
    "    wr = csv.writer(f)\n",
    "    wr.writerow([probtmp])            # softmax output에서 최대 확률\n",
    "    for k in range(lastlen):          # 마지막 conv layer의 축소된 시퀀스 길이\n",
    "        wr.writerow([heattmp[k]])\n",
    "    f.close()  "
   ]
  },
  {
   "cell_type": "code",
   "execution_count": null,
   "metadata": {},
   "outputs": [],
   "source": []
  }
 ],
 "metadata": {
  "kernelspec": {
   "display_name": "Python 3",
   "language": "python",
   "name": "python3"
  },
  "language_info": {
   "codemirror_mode": {
    "name": "ipython",
    "version": 3
   },
   "file_extension": ".py",
   "mimetype": "text/x-python",
   "name": "python",
   "nbconvert_exporter": "python",
   "pygments_lexer": "ipython3",
   "version": "3.6.7"
  }
 },
 "nbformat": 4,
 "nbformat_minor": 2
}
